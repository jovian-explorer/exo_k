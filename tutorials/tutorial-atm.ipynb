{
 "cells": [
  {
   "cell_type": "markdown",
   "metadata": {},
   "source": [
    "# <span style=\"color:blue\">Modeling atmospheres and their evolution with `exo_k`: a practical guide</span>\n",
    "\n",
    "*Author: Jeremy Leconte (CNRS/LAB/Univ. Bordeaux)*"
   ]
  },
  {
   "cell_type": "markdown",
   "metadata": {},
   "source": [
    "Since `exo_k` allows anyone to easily read radiative data and interpolate into them, it seemed\n",
    "silly not to incorporate a module to test this directly in a real-life situation.\n",
    "This is why we implemented the `Atm` class that will allow you to build atmospheres with any composition,\n",
    "and compute their transmission/emission spectra with any combination of radiative data that the library can handle.\n",
    "It can also compute the radiative heating rates in each atmospheric layer."
   ]
  },
  {
   "cell_type": "markdown",
   "metadata": {},
   "source": [
    "But why stop there? Indeed, heating rates allow you to compute the radiative \n",
    "equilibrium of an atmosphere. One thing leading to another, we ended up\n",
    "with a full fledged atmospheric model able to compute the evolution of an atmosphere\n",
    "in time that accounts for radiation (off course), dry convection, but also moist convection,\n",
    "condensation, turbulent diffusion, etc. \n",
    "This model is encapsulated in the :class:`~exo_k.atm_evolution.atm_evol.Atm_evolution` class that will be presented below. "
   ]
  },
  {
   "cell_type": "raw",
   "metadata": {},
   "source": [
    ".. seealso::\n",
    "    The goal of this section is to give you a practical tour of how to use these classes in\n",
    "    a realistic setting. If you want more information on the inner working of the various\n",
    "    modules, you can go to the \"Principles of atmospheric modeling with `Exo_k`\" page.\n",
    "    For the details on how to load radiative data and some general\n",
    "    features about the library, please go see the tutorial on\n",
    "    \"Getting started with radiative data\"."
   ]
  },
  {
   "cell_type": "markdown",
   "metadata": {},
   "source": [
    "## Initialization"
   ]
  },
  {
   "cell_type": "markdown",
   "metadata": {},
   "source": [
    "First, let's make some common initializations.   \n",
    "We also import our library: `exo_k`.\n",
    "\n",
    "For this to work, you need to have installed the library by either typing\n",
    "```\n",
    "pip install exo_k\n",
    "```\n",
    "anywhere or\n",
    "```\n",
    "pip install -e .\n",
    "```\n",
    "at the root of exo_k directory (the location where you first saw this tutorial)."
   ]
  },
  {
   "cell_type": "raw",
   "metadata": {
    "raw_mimetype": "text/restructuredtext"
   },
   "source": [
    ".. important::\n",
    "    For efficiency reasons, the atmospheric models work with a single unit system, which is the international MKS system.\n",
    "    To avoid load radiative data in another unit system, we encourage you to always use the global setting\n",
    "    `xk.Settings().set_mks(True)` that will automatically do all the conversions for you. "
   ]
  },
  {
   "cell_type": "code",
   "execution_count": 9,
   "metadata": {
    "init_cell": true
   },
   "outputs": [],
   "source": [
    "import exo_k as xk\n",
    "import numpy as np\n",
    "import matplotlib.pyplot as plt\n",
    "import astropy.units as u\n",
    "import time,sys,os\n",
    "\n",
    "xk.Settings().set_mks(True)"
   ]
  },
  {
   "cell_type": "markdown",
   "metadata": {},
   "source": [
    "We also set up the generic path toward the radiative data"
   ]
  },
  {
   "cell_type": "code",
   "execution_count": 10,
   "metadata": {
    "init_cell": true
   },
   "outputs": [
    {
     "data": {
      "text/plain": [
       "{'ktable': ['/Users/jleconte/atmosphere/RadiativeTransfer/exo_k/data/corrk'],\n",
       " 'xtable': ['/Users/jleconte/atmosphere/RadiativeTransfer/exo_k/data/xsec'],\n",
       " 'cia': ['/Users/jleconte/atmosphere/RadiativeTransfer/exo_k/data/cia'],\n",
       " 'aerosol': ['/Users/jleconte/atmosphere/RadiativeTransfer/exo_k/tutorials']}"
      ]
     },
     "execution_count": 10,
     "metadata": {},
     "output_type": "execute_result"
    }
   ],
   "source": [
    "datapath = '../data/'\n",
    "\n",
    "xk.Settings().set_search_path(datapath + 'xsec', path_type='xtable')\n",
    "xk.Settings().set_search_path(datapath + 'corrk', path_type='ktable')\n",
    "xk.Settings().set_search_path(datapath + 'cia', path_type='cia')\n",
    "xk.Settings().search_path"
   ]
  },
  {
   "cell_type": "code",
   "execution_count": 11,
   "metadata": {
    "init_cell": true
   },
   "outputs": [],
   "source": [
    "# Uncomment the line below if you want to enable interactive plots\n",
    "#%matplotlib notebook\n",
    "plt.rcParams[\"figure.figsize\"] = (7,4)\n",
    "from matplotlib import cycler\n",
    "colors = cycler('color',[plt.cm.inferno(i) for i in np.linspace(0.1,1,5)])\n",
    "plt.rc('axes', axisbelow=True, grid=True, labelcolor='dimgray', labelweight='bold', prop_cycle=colors)\n",
    "plt.rc('grid', linestyle='solid')\n",
    "plt.rc('xtick', direction='in', color='dimgray')\n",
    "plt.rc('ytick', direction='in', color='dimgray')\n",
    "plt.rc('lines', linewidth=1.5)"
   ]
  },
  {
   "cell_type": "markdown",
   "metadata": {},
   "source": [
    "# <span style=\"color:blue\">The `Atm` class: An atmospheric radiative-transfer model</span>"
   ]
  },
  {
   "cell_type": "markdown",
   "metadata": {},
   "source": [
    "Whether you want to test various assumptions (will my resolution be enough, are my initial data adequate, what weights should I use, etc.) or directly simulate the transmission/emission spectrum of a planet, we implemented a simple 1d atmosphere model so that you can do just that.\n",
    "\n",
    "This revolves around the `Atm()` class, which defines an atmosphere with Pressure, Temperature, and composition profiles. In essence, we are using the structure of the `Gas_mix` object and add the additional attributes that make an atmosphere more than just some gas with a given pressure, temperature, and composition: a gravity, a planetary radius, etc. \n",
    "\n",
    "As `Xtable()` objects can be used in a `Kdatabase()`, you can do the equivalent of Line by Line radiative transfer. \n",
    "\n",
    "If you want to start from very high-res spectra, first load them into a `Xtable()`, and then into a Database."
   ]
  },
  {
   "cell_type": "raw",
   "metadata": {
    "raw_mimetype": "text/restructuredtext"
   },
   "source": [
    ".. seealso::\n",
    "    Check out :class:`~exo_k.atm.Atm` and its base class :class:`~exo_k.atm.Atm_profile`\n",
    "    for details on arguments and options."
   ]
  },
  {
   "cell_type": "raw",
   "metadata": {
    "raw_mimetype": "text/restructuredtext"
   },
   "source": [
    ".. important::\n",
    "    Pressure is the primary coordinate used to build the atmospheric profiles\n",
    "    (and not altitude). To keep pressure arrays in increasing order,\n",
    "    the atmosphere is therefore described from the top down.\n",
    "    The first element of each array describing the\n",
    "    atmophere (temperature, composition, etc.)\n",
    "    refers to the uppermost layer of the atmosphere. The surface is described by the\n",
    "    last element of each array.\n",
    "    \n",
    "    Also note that since v1.1.0, there is a new scheme for the computation\n",
    "    of atmospheric emission/transmission\n",
    "    to improve numerical accuracy.\n",
    "    This led to the change of some variable names to instantiate atm objects\n",
    "    (`Nlev`, `logplev`, and `tlev` are now `Nlay`, `logplay` and `tlay`)."
   ]
  },
  {
   "cell_type": "markdown",
   "metadata": {},
   "source": [
    "## Loading the radiative data that we will use in our atmospheric model"
   ]
  },
  {
   "cell_type": "markdown",
   "metadata": {},
   "source": [
    "### Molecular absorptions: The `Kdatabase`"
   ]
  },
  {
   "cell_type": "markdown",
   "metadata": {},
   "source": [
    "The first thing that we need to do is to create a `Kdatabase` that will contain the data\n",
    "for all the molecules that we want to include in our atmosphere\n",
    "and for which we have cross sections\n",
    "(whether they are monochromatic cross sections of correlated-k coefficients). "
   ]
  },
  {
   "cell_type": "raw",
   "metadata": {
    "raw_mimetype": "text/restructuredtext"
   },
   "source": [
    ".. important::\n",
    "    An `Atm` instance will inherit its spectral range and resolution for the \n",
    "    radiative computations from the `Kdatabase` it is given. So it is important to\n",
    "    choose radiative data that cover the wavelength range that you want to model. \n",
    "\n",
    "    As a corrolary, even if you want to model an atmospere \n",
    "    for which you have only continuum absorptions (like Rayleigh\n",
    "    or Collision Induced Absorptions), you still need to provide a `Kdatabase`\n",
    "    that has at least one molecule\n",
    "    in it. If you do not, the model will not be able to know which spectral window to model. \n",
    "    We will show later how to turnoff the molecular absorptions. "
   ]
  },
  {
   "cell_type": "markdown",
   "metadata": {},
   "source": [
    "In the example below we will treat a simple examples with only CO2 and H2O.\n",
    "Other gases, if any, will only contribute through continuum absorptions."
   ]
  },
  {
   "cell_type": "code",
   "execution_count": 12,
   "metadata": {
    "init_cell": true
   },
   "outputs": [
    {
     "data": {
      "text/plain": [
       "The available molecules are: \n",
       "CO2->/Users/jleconte/atmosphere/RadiativeTransfer/exo_k/data/corrk/CO2_R300_0.3-50mu.ktable.SI.h5\n",
       "H2O->/Users/jleconte/atmosphere/RadiativeTransfer/exo_k/data/corrk/H2O_R300_0.3-50mu.ktable.SI.h5\n",
       "All tables share a common spectral grid\n",
       "All tables share a common logP-T grid\n",
       "All tables share a common p unit\n",
       "All tables share a common kdata unit"
      ]
     },
     "execution_count": 12,
     "metadata": {},
     "output_type": "execute_result"
    }
   ],
   "source": [
    "k_db=xk.Kdatabase(['CO2', 'H2O'],'R300_0.3-50mu.ktable.SI')\n",
    "k_db"
   ]
  },
  {
   "cell_type": "raw",
   "metadata": {
    "raw_mimetype": "text/restructuredtext"
   },
   "source": [
    ".. important::\n",
    "    The all the tables in the `Kdatabase` must have the same \n",
    "    Wavenumber, Pressure, Temperature (and gauss-point) grids.\n",
    "    If this is not the case, refer to the general tutorial to see how to correct that. "
   ]
  },
  {
   "cell_type": "markdown",
   "metadata": {},
   "source": [
    "### Collision induced absorptions"
   ]
  },
  {
   "cell_type": "markdown",
   "metadata": {},
   "source": [
    "Now we can load CIA data in a `CIA_database`. If you do not want to include such constributions,\n",
    "do not provide any CIA database when instantiating your `Atm` object or use `cia_database=None`."
   ]
  },
  {
   "cell_type": "code",
   "execution_count": 13,
   "metadata": {
    "init_cell": true
   },
   "outputs": [
    {
     "data": {
      "text/plain": [
       "The available molecule pairs are: \n",
       "N2-N2->/Users/jleconte/atmosphere/RadiativeTransfer/exo_k/data/cia/N2-N2_2011.h5\n",
       "N2-H2->/Users/jleconte/atmosphere/RadiativeTransfer/exo_k/data/cia/N2-H2_2011.h5\n",
       "H2O-N2->/Users/jleconte/atmosphere/RadiativeTransfer/exo_k/data/cia/H2O-N2_continuumTurbet_MT_CKD3.3.h5\n",
       "H2O-H2O->/Users/jleconte/atmosphere/RadiativeTransfer/exo_k/data/cia/H2O-H2O_continuumTurbet_MT_CKD3.3.h5\n",
       "H2O-H2->/Users/jleconte/atmosphere/RadiativeTransfer/exo_k/data/cia/H2O-H2_fromMT.h5\n",
       "H2-H2->/Users/jleconte/atmosphere/RadiativeTransfer/exo_k/data/cia/H2-H2_2011.h5\n",
       "H2-He->/Users/jleconte/atmosphere/RadiativeTransfer/exo_k/data/cia/H2-He_2011.h5\n",
       "All tables do NOT have common spectral grid\n",
       "You will need to run sample before using the database"
      ]
     },
     "execution_count": 13,
     "metadata": {},
     "output_type": "execute_result"
    }
   ],
   "source": [
    "cia_db=xk.CIAdatabase(molecules=['N2','H2O','H2','He'], mks=True)\n",
    "cia_db"
   ]
  },
  {
   "cell_type": "markdown",
   "metadata": {},
   "source": [
    "Just like with the `Kdatabase`, all the CIA tables must use the same spectral axis (and the same as the `Kdatabase`)\n",
    "so we usually need to resample our database on the same grid as follows."
   ]
  },
  {
   "cell_type": "code",
   "execution_count": 14,
   "metadata": {
    "init_cell": true
   },
   "outputs": [
    {
     "data": {
      "text/plain": [
       "The available molecule pairs are: \n",
       "N2-N2->/Users/jleconte/atmosphere/RadiativeTransfer/exo_k/data/cia/N2-N2_2011.h5\n",
       "N2-H2->/Users/jleconte/atmosphere/RadiativeTransfer/exo_k/data/cia/N2-H2_2011.h5\n",
       "H2O-N2->/Users/jleconte/atmosphere/RadiativeTransfer/exo_k/data/cia/H2O-N2_continuumTurbet_MT_CKD3.3.h5\n",
       "H2O-H2O->/Users/jleconte/atmosphere/RadiativeTransfer/exo_k/data/cia/H2O-H2O_continuumTurbet_MT_CKD3.3.h5\n",
       "H2O-H2->/Users/jleconte/atmosphere/RadiativeTransfer/exo_k/data/cia/H2O-H2_fromMT.h5\n",
       "H2-H2->/Users/jleconte/atmosphere/RadiativeTransfer/exo_k/data/cia/H2-H2_2011.h5\n",
       "H2-He->/Users/jleconte/atmosphere/RadiativeTransfer/exo_k/data/cia/H2-He_2011.h5\n",
       "All tables share a common spectral grid"
      ]
     },
     "execution_count": 14,
     "metadata": {},
     "output_type": "execute_result"
    }
   ],
   "source": [
    "cia_db.sample(k_db.wns)\n",
    "cia_db"
   ]
  },
  {
   "cell_type": "markdown",
   "metadata": {},
   "source": [
    "### Rayleigh scattering"
   ]
  },
  {
   "cell_type": "markdown",
   "metadata": {},
   "source": [
    "For the moment, the data for Rayleigh scattering are hardcoded inside the library. So there is no need\n",
    "to load them. You'll just have to use the `rayleigh=True` keyword when instantiating your `Atm` object\n",
    "to state that you want to account for rayleigh scattering in any subsequent\n",
    "radiative transfer calculation (even for emission calculations).\n",
    "\n",
    "This behavior can also be changed afterward with `Atm.set_rayleigh(rayleigh=True/False)`.\n",
    "\n",
    "Finally, the `rayleigh` keyword can be used with some methods to locally force the presence/absence of\n",
    "rayleigh scattering. "
   ]
  },
  {
   "cell_type": "markdown",
   "metadata": {},
   "source": [
    "## Building an atmosphere"
   ]
  },
  {
   "cell_type": "markdown",
   "metadata": {},
   "source": [
    "### Simple troposphere/stratosphere parametrization"
   ]
  },
  {
   "cell_type": "markdown",
   "metadata": {},
   "source": [
    "There are several ways to build an atmosphere. If you just want a simple atmospheric structure\n",
    "with an isothermal stratosphere on top of a dry troposphere with a fixed adiabatic gradient,\n",
    "you can just use the following options"
   ]
  },
  {
   "cell_type": "code",
   "execution_count": null,
   "metadata": {},
   "outputs": [],
   "source": [
    "Nlay = 50 # Number of layers\n",
    "Tsurf = 220. # K => Surface temperature\n",
    "Tstrat = 100.  # K => Temperature of the stratosphere\n",
    "psurf = 640. # Pa => Surface pressure\n",
    "ptop = 1.e0 # Pa => Pressure at the model top\n",
    "grav = 3.4 # m/s^2 => Surface gravity\n",
    "rcp = 0.28 # dimless => R/cp\n",
    "Rp = None # m => Planetary radius\n",
    "albedo_surf = 0.2 # m => Surface albedo\n",
    "\n",
    "composition = {'CO2':'background', 'H2O':1.e-6}\n",
    "# Volume molar concentrations of the various species\n",
    "# One gas can be set to `background`.\n",
    "# It's volume mixing ratio will be automatically computed to fill the atmosphere.\n",
    "\n",
    "atm_mars = xk.Atm(psurf=psurf, ptop=ptop,\n",
    "             Tsurf=Tsurf, Tstrat=Tstrat,\n",
    "             grav=grav, rcp = rcp, Rp=Rp,\n",
    "             albedo_surf = albedo_surf,\n",
    "             composition = composition, Nlay=Nlay,\n",
    "             k_database = k_db,\n",
    "             cia_database = cia_db, # adding a CIA database entails that CIA will be taken into account.\n",
    "             rayleigh = True, # by default, rayleigh scattering is turned off\n",
    "                 )"
   ]
  },
  {
   "cell_type": "raw",
   "metadata": {
    "raw_mimetype": "text/restructuredtext"
   },
   "source": [
    ".. important::\n",
    "    If the sum of the Volume molar concentrations is not equal to one,\n",
    "    the rest of the atmosphere is assumed to be transparent and the molar mass\n",
    "    of the gas, if needed, is assumed to be equal to the molar mass of the mix\n",
    "    you specified (for example, if you specify that your atmosphere is 25% CO2\n",
    "    and 25% H2O, only half of the atmophere will be radiatively active, but the\n",
    "    molar mass will still be about 0.031kg/mol)."
   ]
  },
  {
   "cell_type": "raw",
   "metadata": {},
   "source": [
    ".. warning::\n",
    "    The planetary radius is optional. However, if it is not given,\n",
    "    the evolution of gravity with height (in transmission *and*\n",
    "    emission) will not be taken into account."
   ]
  },
  {
   "cell_type": "code",
   "execution_count": null,
   "metadata": {},
   "outputs": [],
   "source": [
    "fig,axs=plt.subplots(1,2,sharey=False,figsize=(7,4))  \n",
    "atm_mars.plot_T_profile(axs[0], yscale='log')\n",
    "atm_mars.plot_T_profile(axs[1], use_altitudes = True)\n",
    "fig.tight_layout()"
   ]
  },
  {
   "cell_type": "markdown",
   "metadata": {},
   "source": [
    "If the stratospheric temperature is set to `None`, the profile will be isothermal at T=Tsurf."
   ]
  },
  {
   "cell_type": "code",
   "execution_count": null,
   "metadata": {},
   "outputs": [],
   "source": [
    "Nlay = 100 # Number of layers\n",
    "Tsurf = 1000. # K => Surface temperature\n",
    "Tstrat = None  # K => Temperature of the stratosphere\n",
    "psurf = 1.e6 # Pa => Surface pressure\n",
    "ptop = 1.e-4 # Pa => Pressure at the model top\n",
    "grav = 10. # m/s^2 => Surface gravity\n",
    "rcp = 0.28 # dimless => R/cp \n",
    "Rp = 1.*u.Rjup # m => Planetary radius\n",
    "albedo_surf = 0. # m => Surface albedo\n",
    "\n",
    "composition = {'H2':'background', 'He':0.09, 'H2O':1.e-3}\n",
    "\n",
    "atm_hotjup = xk.Atm(psurf=psurf, ptop=ptop,\n",
    "             Tsurf=Tsurf, Tstrat=Tstrat,\n",
    "             grav=grav, rcp = rcp, Rp=Rp,\n",
    "             albedo_surf = albedo_surf,\n",
    "             composition = composition, Nlay=Nlay,\n",
    "             k_database = k_db, cia_database = cia_db,\n",
    "             rayleigh = True,)\n",
    "\n",
    "fig,axs=plt.subplots(1,2,sharey=False,figsize=(7,4))  \n",
    "atm_hotjup.plot_T_profile(axs[0], yscale='log')\n",
    "atm_hotjup.plot_T_profile(axs[1], use_altitudes = True)\n",
    "fig.tight_layout()"
   ]
  },
  {
   "cell_type": "markdown",
   "metadata": {},
   "source": [
    "### Using your own profiles"
   ]
  },
  {
   "cell_type": "markdown",
   "metadata": {},
   "source": [
    "If you want, you can completely control the profiles you put in your `Atm`. For this, you just need to provide arrays for `logplay`, `tlay`, and the various concentrations.\n",
    "\n",
    "The atmosphere is defined from the top down so the first value is the top of atmosphere and the last is the surface.\n",
    "\n",
    "Here is an example for an Earth with a moist troposphere near saturation.\n",
    "\n",
    "Notice that for the concentrations, you can put either a single value or an array (or a mix), as long as the size of the array is the same as the size of the T-logP arrays. "
   ]
  },
  {
   "cell_type": "code",
   "execution_count": null,
   "metadata": {},
   "outputs": [],
   "source": [
    "Nlay = 100 # Number of layers\n",
    "Tsurf = 300. # K => Surface temperature\n",
    "Tstrat = 200.  # K => Temperature of the stratosphere\n",
    "psurf = 1.e5 # Pa => Surface pressure\n",
    "ptop = 1.e0 # Pa => Pressure at the model top\n",
    "grav = 9.81 # m/s^2 => Surface gravity\n",
    "rcp = 0.28 # dimless => R/cp #create the layer presure grid\n",
    "Rp = 1.*u.Rearth # m => Planetary radius\n",
    "albedo_surf = 0.2 # m => Surface albedo\n",
    "\n",
    "logplay=np.linspace(np.log10(ptop),np.log10(psurf), Nlay)\n",
    "# design your adiabat\n",
    "tlay=Tsurf*(10**logplay/psurf)**rcp\n",
    "tlay=np.where(tlay<Tstrat,Tstrat,tlay)\n",
    "\n",
    "# create your composition. Here, only water is variable and follows saturation.\n",
    "h2o_thermo_params={'Latent_heat_vaporization': 2.486e6, 'cp_vap': 4.228e3, 'Mvap': 18.e-3,\n",
    "            'T_ref': 273., 'Psat_ref': 612.}\n",
    "h2o=xk.Condensing_species(**h2o_thermo_params)\n",
    "psat_h2o=h2o.Psat(tlay)\n",
    "x_h2o = psat_h2o / (psat_h2o + 10**logplay)\n",
    "for i in range(len(x_h2o)-2,-1,-1):\n",
    "    if x_h2o[i+1] < x_h2o[i]:\n",
    "        x_h2o[i] = x_h2o[i+1]\n",
    "        \n",
    "composition = {'CO2':4.e-4,'H2O':x_h2o,'N2':'background'}\n",
    "\n",
    "#Loads the atmosphere and computes some intermediate things\n",
    "atm_earth=xk.Atm(logplay = logplay, tlay = tlay, grav = grav,\n",
    "                Rp = Rp, rcp = rcp, \n",
    "                albedo_surf = albedo_surf,\n",
    "                composition = composition,\n",
    "                k_database = k_db, cia_database = cia_db,\n",
    "                rayleigh = True)"
   ]
  },
  {
   "cell_type": "code",
   "execution_count": null,
   "metadata": {},
   "outputs": [],
   "source": [
    "fig,axs=plt.subplots(1,2,sharey=True,figsize=(7,4))  \n",
    "atm_earth.plot_T_profile(axs[0], yscale='log')\n",
    "axs[1].plot(x_h2o, atm_earth.play)\n",
    "axs[1].set_xscale('log')\n",
    "axs[1].set_xlabel('H2O molar concentration')\n",
    "fig.tight_layout()"
   ]
  },
  {
   "cell_type": "markdown",
   "metadata": {},
   "source": [
    "### Changing attributes of an atmosphere"
   ]
  },
  {
   "cell_type": "markdown",
   "metadata": {},
   "source": [
    "In an atmosphere, many attributes are inter related and cannot be changed separately.\n",
    "Changing the pressures, for example, will change the mass of the atmosphere, the altitudes, etc.\n",
    "\n",
    "So, if you want to change some attributes of the instance you are working with after it has been created, it is recommended to use the methods made for that. Here is a non-exhaustive list:\n",
    "`set_logPT_profile`, `set_T_profile()`, `set_grav()`,\n",
    "`set_gas()`, `set_Mgas()`, `set_rcp()`, `set_Rp()`, `set_Rstar()`,\n",
    "`set_k_database()`, `set_cia_database()`, `set_spectral_range()`,\n",
    "`set_incoming_stellar_flux()`, `set_internal_flux()`, `set_surface_albedo()`, `set_rayleigh()`.\n",
    "\n",
    "See the API reference for completeness."
   ]
  },
  {
   "cell_type": "markdown",
   "metadata": {},
   "source": [
    "### Optional attributes"
   ]
  },
  {
   "cell_type": "markdown",
   "metadata": {},
   "source": [
    "At the initialisation, a `Mgas` can be specified to force a molar mass whatever the composition. \n",
    "\n",
    "With `wn_range` or `wl_range` one can limit the wavenumber/wavelength range of future computations.\n",
    "\n",
    "`flux_top_dw` (w/m^2) allows you to specify the stellar flux impinging on the top of atmosphere.\n",
    "If you do not specify anything else, the spectral energy distribution will be the one of a\n",
    "blackbody at T=5778K. This temperature can be changed by using the `Tstar` keyword\n",
    "at the same time.\n",
    "Alternatively, one can provide a `Spectrum` object with the keyword `stellar_spectrum`.\n",
    "This spectrum must be in units of power per wavenumber. \n",
    "The actual units are irrelevant as this spectrum will be renormalized with the value of\n",
    "`flux_top_dw` provided. "
   ]
  },
  {
   "cell_type": "markdown",
   "metadata": {},
   "source": [
    "## Transmission spectroscopy"
   ]
  },
  {
   "cell_type": "markdown",
   "metadata": {},
   "source": [
    "To compute the transmission spectrum for your atmosphere, you can use the following method. Among the available options, there is `rayleigh`, `Rstar`, "
   ]
  },
  {
   "cell_type": "code",
   "execution_count": null,
   "metadata": {
    "scrolled": true
   },
   "outputs": [],
   "source": [
    "Rs=1.*u.Rsun # m => Radius of the star to compute the transit depth\n",
    "\n",
    "spec=atm_hotjup.transmission_spectrum(Rstar=Rs)"
   ]
  },
  {
   "cell_type": "raw",
   "metadata": {
    "raw_mimetype": "text/restructuredtext"
   },
   "source": [
    ".. important::\n",
    "    The result of :func:`~exo_k.atm.Atm.transmission_spectrum` is a :class:`~exo_k.util.spectrum.Spectrum` \n",
    "    object onto wich some methods can be used like\n",
    "    plotting, binning, and some algeabric operations."
   ]
  },
  {
   "cell_type": "code",
   "execution_count": null,
   "metadata": {},
   "outputs": [],
   "source": [
    "fig,ax = plt.subplots(1,1, sharex=True, sharey=True)  \n",
    "spec.plot_spectrum(ax, xscale='log', label='Native corr-k resolution')\n",
    "# bin_down_cp makes a deep copy befire binning so that we keep the initial Spectrum instance\n",
    "spec.bin_down_cp(xk.wavenumber_grid_R(400.,30000.,200)).plot_spectrum(ax, xscale='log', label=r'$R=200$')\n",
    "spec.bin_down_cp(xk.wavenumber_grid_R(400.,30000.,30)).plot_spectrum(ax, xscale='log', label=r'$R=30$')\n",
    "ax.set_ylabel('Depth')\n",
    "ax.legend()\n",
    "fig.tight_layout()"
   ]
  },
  {
   "cell_type": "markdown",
   "metadata": {},
   "source": [
    "Notice that the stellar radius is now an attribute of the `Atm` instance and does not have to be repeated. \n",
    "\n",
    "Rayleigh scattering can be turned of for any given computation with the `rayleigh=False` keyword.\n",
    "However, if you want to turn it on/off permanently for the current instance, you can use\n",
    "`atm_hotjup.set_rayleigh(rayleigh=True/False)`."
   ]
  },
  {
   "cell_type": "code",
   "execution_count": null,
   "metadata": {},
   "outputs": [],
   "source": [
    "spec=atm_hotjup.transmission_spectrum(rayleigh = False)\n",
    "\n",
    "fig,ax = plt.subplots(1,1, sharex=True, sharey=True)  \n",
    "spec.plot_spectrum(ax, xscale='log')\n",
    "ax.set_ylabel('Depth')\n",
    "fig.tight_layout()"
   ]
  },
  {
   "cell_type": "markdown",
   "metadata": {},
   "source": [
    "## Emission spectroscopy"
   ]
  },
  {
   "cell_type": "markdown",
   "metadata": {},
   "source": [
    "`Exo_k` enables several modes to compute the emission of a planet:\n",
    "\n",
    "  * `Atm.emission_spectrum(mu0=, **kwargs)`: Simple computation\n",
    "    using Schwarzschild's equation with mu0 as the cosine of the\n",
    "    observer zenith angle. This mode cannot handle scattering. The output\n",
    "    is given as a flux assuming a constant hemispheric intensity, but\n",
    "    it can be used to compute the specific intensity at various angles by changin mu0. \n",
    "  * `Atm.emission_spectrum(mu_quad_order=, **kwargs)`: This mode computes the\n",
    "    specific intensity at `mu_quad_order` angles and integrates it to yield the\n",
    "    flux. Exact in the non-scattering limit. Cannot handle scattering.\n",
    "  * `Atm.emission_spectrum_2stream(**kwargs)`: This mode computes the\n",
    "    upward and downward fluxes using the constant hemispheric mean two-stream\n",
    "    approximation of Toon et al. (1989). This mode can handle scattering and provides\n",
    "    fluxes at all the layer interfaces (levels),\n",
    "    so that radiative heating rates can be computed. In this case, a stellar flux\n",
    "    must be specified.\n",
    "    \n",
    "As expected, in a non-scattering medium and with a zero surface albedo,\n",
    "`Atm.emission_spectrum` and `Atm.emission_spectrum_2stream`\n",
    "provide the same top of atmosphere outgoing flux almost down to machine precision.\n",
    "The second will be longer as it computes downward fluxes as well.\n",
    "    "
   ]
  },
  {
   "cell_type": "markdown",
   "metadata": {},
   "source": [
    "### Computing top of atmosphere fluxes "
   ]
  },
  {
   "cell_type": "code",
   "execution_count": null,
   "metadata": {},
   "outputs": [],
   "source": [
    "TOA_flux = atm_mars.emission_spectrum_2stream( \\\n",
    "                wl_range=[0.1,150.0], #can reduce the wavelength range of the computation to save time\n",
    "                #rayleigh=True, # whether rayleigh scattering is locally accounted for (even for thermal emission))\n",
    "                    )\n",
    "\n",
    "Surf_blackbody = atm_mars.surf_bb()\n",
    "TOA_blackbody = atm_mars.top_bb()\n",
    "#print(\"Forward model duration:\")\n",
    "#%timeit -n 2 -r 2 atm_mars.emission_spectrum(integral=True, wl_range=[0.1,150.0])\n",
    "#%timeit -n 2 -r 2 atm_mars.emission_spectrum_2stream(integral=True, wl_range=[0.1,150.0])"
   ]
  },
  {
   "cell_type": "raw",
   "metadata": {
    "raw_mimetype": "text/restructuredtext"
   },
   "source": [
    ".. important::\n",
    "    The result of :func:`~exo_k.atm.Atm.emission_spectrum` is a :class:`~exo_k.util.spectrum.Spectrum` \n",
    "    object onto wich some methods can be used like:\n",
    "    computing the total flux, plotting, binning, and some algeabric operations\n",
    "    (substract of divide spectra)."
   ]
  },
  {
   "cell_type": "code",
   "execution_count": null,
   "metadata": {},
   "outputs": [],
   "source": [
    "print(\"Top of atmosphere flux:\", TOA_flux.total, 'W/m^2')\n",
    "print(\"Black body at Tsurf over the computed nu range is:\",Surf_blackbody.total,'W/m^2')\n",
    "print('(sigma*Tsurf**4 is:',xk.SIG_SB*atm_mars.tlay[-1]**4,'W/m^2)')"
   ]
  },
  {
   "cell_type": "code",
   "execution_count": null,
   "metadata": {},
   "outputs": [],
   "source": [
    "fig,axs=plt.subplots(1,2, sharey=False, figsize=(8,4))  \n",
    "Surf_blackbody.plot_spectrum(axs[0], label='Blackbody ($T_{surf}$)')\n",
    "TOA_blackbody.plot_spectrum(axs[0], label='Blackbody ($T_{strat}$)')\n",
    "TOA_flux.plot_spectrum(axs[0], label='OLR')\n",
    "Surf_blackbody.plot_spectrum(axs[1], per_wavenumber=False, label='Blackbody ($T_{surf}$)')\n",
    "TOA_blackbody.plot_spectrum(axs[1], per_wavenumber=False, label='Blackbody ($T_{strat}$)')\n",
    "TOA_flux.plot_spectrum(axs[1], per_wavenumber=False, label='OLR')\n",
    "\n",
    "axs[0].set_ylabel(r'Flux ($W/m^2/cm^{-1}$)')\n",
    "axs[1].set_ylabel(r'Flux ($W/m^2/\\mu m$)')\n",
    "axs[1].set_xscale('log')\n",
    "for ax in axs:\n",
    "    ax.legend()\n",
    "fig.tight_layout()"
   ]
  },
  {
   "cell_type": "markdown",
   "metadata": {},
   "source": [
    "By default, the source function is integrated inside each bin. The user can specify `integral=False` to evaluate the Planck function at the center of the bins only. It is a little faster, but inacurate for large bins. It can be used when using moderate to high-resolution  radiative data.\n",
    "\n",
    "Let's see the error we would make with this mode (here at a resolution of 300) using algeabric operations on our spectra"
   ]
  },
  {
   "cell_type": "code",
   "execution_count": null,
   "metadata": {},
   "outputs": [],
   "source": [
    "TOA_flux_no_integral = atm_mars.emission_spectrum_2stream( \\\n",
    "                integral = False,\n",
    "                wl_range=[0.1,150.0], #can reduce the wavelength range of the computation to save time\n",
    "                rayleigh=True, # whether rayleigh scattering is accounted for (even for thermal emission))\n",
    "                    )\n",
    "rel_error = ((TOA_flux_no_integral-TOA_flux)/TOA_flux).abs() # .abs() to have the absolute value\n",
    "\n",
    "fig,ax = plt.subplots(1,1)  \n",
    "rel_error.plot_spectrum(ax, yscale='log')\n",
    "\n",
    "ax.set_ylabel('Relative error')\n",
    "fig.tight_layout()"
   ]
  },
  {
   "cell_type": "markdown",
   "metadata": {},
   "source": [
    "### Turning CIAs on and off"
   ]
  },
  {
   "cell_type": "code",
   "execution_count": null,
   "metadata": {},
   "outputs": [],
   "source": [
    "# Computes emission flux for the two cases\n",
    "\n",
    "atm_earth.set_cia_database(None) # remove CIAs\n",
    "TOA_flux_nocia = atm_earth.emission_spectrum()\n",
    "\n",
    "atm_earth.set_cia_database(cia_db) # reset CIAs\n",
    "TOA_flux_cia = atm_earth.emission_spectrum_2stream()\n",
    "\n",
    "Surf_blackbody = atm_earth.surf_bb()\n",
    "TOA_blackbody = atm_earth.top_bb()\n",
    "\n",
    "print(\"Top of atmosphere flux:\")\n",
    "print(\"With CIAs   :\", TOA_flux_cia.total, 'W/m^2')\n",
    "print(\"Without CIAs:\", TOA_flux_nocia.total, 'W/m^2')\n",
    "print(\"we can see the reduced emission with CIAs\")"
   ]
  },
  {
   "cell_type": "code",
   "execution_count": null,
   "metadata": {},
   "outputs": [],
   "source": [
    "fig,axs=plt.subplots(1,2, sharey=False, figsize=(8,4))  \n",
    "Surf_blackbody.plot_spectrum(axs[0], label='Blackbody ($T_{surf}$)')\n",
    "TOA_blackbody.plot_spectrum(axs[0], label='Blackbody ($T_{strat}$)')\n",
    "TOA_flux_nocia.plot_spectrum(axs[0], label=r'OLR w/o CIA')\n",
    "TOA_flux_cia.plot_spectrum(axs[0], label=r'OLR w/ CIA')\n",
    "\n",
    "Surf_blackbody.plot_spectrum(axs[1], per_wavenumber=False, label='Blackbody ($T_{surf}$)')\n",
    "TOA_blackbody.plot_spectrum(axs[1], per_wavenumber=False, label='Blackbody ($T_{strat}$)')\n",
    "TOA_flux_nocia.plot_spectrum(axs[1], per_wavenumber=False, label=r'OLR w/o CIA')\n",
    "TOA_flux_cia.plot_spectrum(axs[1], per_wavenumber=False, label=r'OLR w/ CIA')\n",
    "\n",
    "axs[0].set_ylabel(r'Flux ($W/m^2/cm^{-1}$)')\n",
    "axs[1].set_ylabel(r'Flux ($W/m^2/\\mu m$)')\n",
    "axs[1].set_xscale('log')\n",
    "for ax in axs:\n",
    "    ax.legend()\n",
    "fig.tight_layout()"
   ]
  },
  {
   "cell_type": "code",
   "execution_count": null,
   "metadata": {},
   "outputs": [],
   "source": [
    "origin = 'upper'\n",
    "delta = 0.025\n",
    "\n",
    "x = k_db.wls\n",
    "y = atm_earth.play[1:]\n",
    "X, Y = np.meshgrid(x, y)\n",
    "Z = atm_earth.exp_minus_tau()\n",
    "\n",
    "nr, nc = Z.shape\n",
    "\n",
    "plt.rc('axes',grid=False)\n",
    "fig, ax = plt.subplots(constrained_layout=True)\n",
    "ax.invert_yaxis()\n",
    "ax.set_xscale('log')\n",
    "ax.set_yscale('log')\n",
    "ax.set_xlim(left=0.3,right=20.)\n",
    "CS = ax.contourf(X, Y, Z, 10, cmap=plt.cm.bone, origin=origin)\n",
    "ax.set_title('Atm. Transmittance')\n",
    "ax.set_xlabel('Wavelength (mu)')\n",
    "ax.set_ylabel('Log(Pressure/Pa)')\n",
    "# Make a colorbar for the ContourSet returned by the contourf call.\n",
    "cbar = fig.colorbar(CS)\n",
    "cbar.ax.set_ylabel('Exp(-tau)')\n",
    "plt.rc('axes',grid=True)\n",
    "# Add the contour line levels to the colorbar"
   ]
  },
  {
   "cell_type": "markdown",
   "metadata": {},
   "source": [
    "## Adding reflected light"
   ]
  },
  {
   "cell_type": "markdown",
   "metadata": {},
   "source": [
    "To account for reflected light from the star, \n",
    "one just needs to specify the stellar flux impinging on the planet's top-of-atmosphere (TOA)\n",
    "as well as the spectral energy density of the star. \n",
    "\n",
    "To do this, there are two different modes"
   ]
  },
  {
   "cell_type": "markdown",
   "metadata": {},
   "source": [
    "### Using a stellar blackbody"
   ]
  },
  {
   "cell_type": "markdown",
   "metadata": {},
   "source": [
    "For this mode, you just need to specify the bolometric stellar flux at the TOA (in W/m^2) with\n",
    "the `flux_top_dw` keyword, and the stellar temperature with the `Tstar`\n",
    "keyword at initilization (or using `Atm.set_incoming_stellar_flux()`)."
   ]
  },
  {
   "cell_type": "code",
   "execution_count": null,
   "metadata": {},
   "outputs": [],
   "source": [
    "Nlay = 50 # Number of layers\n",
    "Tsurf = 200. # K => Surface temperature\n",
    "Tstrat = 100.  # K => Temperature of the stratosphere\n",
    "psurf = 640. # Pa => Surface pressure\n",
    "ptop = 1.e0 # Pa => Pressure at the model top\n",
    "grav = 3.4 # m/s^2 => Surface gravity\n",
    "rcp = 0.28 # dimless => R/cp\n",
    "Rp = None # m => Planetary radius\n",
    "albedo_surf = 0.2 # m => Surface albedo\n",
    "Tstar = 5570. # K => Stellar blackbody temperature\n",
    "flux_top_dw = 120. # W/m^2 => stellar flux at the TOA.\n",
    "\n",
    "composition = {'CO2':'background', 'H2O':1.e-6}\n",
    "# Volume molar concentrations of the various species\n",
    "# One gas can be set to `background`.\n",
    "# It's volume mixing ratio will be automatically computed to fill the atmosphere.\n",
    "\n",
    "atm_mars = xk.Atm(psurf=psurf, ptop=ptop,\n",
    "             Tsurf=Tsurf, Tstrat=Tstrat,\n",
    "             grav=grav, rcp = rcp, Rp=Rp,\n",
    "             albedo_surf = albedo_surf,\n",
    "             composition = composition, Nlay=Nlay,\n",
    "             k_database = k_db, cia_database = cia_db,\n",
    "             rayleigh = True,\n",
    "             flux_top_dw = flux_top_dw, Tstar = Tstar)"
   ]
  },
  {
   "cell_type": "code",
   "execution_count": null,
   "metadata": {},
   "outputs": [],
   "source": [
    "TOA_flux = atm_mars.emission_spectrum_2stream(wl_range=[0.1,20.0])\n",
    "\n",
    "Surf_blackbody = atm_mars.surf_bb()\n",
    "TOA_blackbody = atm_mars.top_bb()"
   ]
  },
  {
   "cell_type": "code",
   "execution_count": null,
   "metadata": {},
   "outputs": [],
   "source": [
    "atm_mars.set_spectral_range(wl_range=[0.1, 10.])"
   ]
  },
  {
   "cell_type": "code",
   "execution_count": null,
   "metadata": {},
   "outputs": [],
   "source": [
    "TOA_flux = atm_mars.emission_spectrum_2stream()\n",
    "\n",
    "Surf_blackbody = atm_mars.surf_bb()\n",
    "TOA_blackbody = atm_mars.top_bb()"
   ]
  },
  {
   "cell_type": "code",
   "execution_count": null,
   "metadata": {},
   "outputs": [],
   "source": [
    "fig,ax = plt.subplots(1,1, figsize=(5,4))  \n",
    "Surf_blackbody.plot_spectrum(ax, per_wavenumber=False, label='Blackbody ($T_{surf}$)')\n",
    "TOA_blackbody.plot_spectrum(ax, per_wavenumber=False, label='Blackbody ($T_{strat}$)')\n",
    "TOA_flux.plot_spectrum(ax, per_wavenumber=False, label='Upward TOA flux')\n",
    "\n",
    "ax.set_ylabel(r'Flux ($W/m^2/\\mu m$)')\n",
    "ax.set_xscale('log')\n",
    "ax.legend()\n",
    "fig.tight_layout()"
   ]
  },
  {
   "cell_type": "raw",
   "metadata": {
    "raw_mimetype": "text/restructuredtext"
   },
   "source": [
    ".. important::\n",
    "    By default, the surface albedo becomes 0. above 2 microns (5000 cm^-1).\n",
    "    You can change that with the `wn_albedo_cutoff` argument at initialization."
   ]
  },
  {
   "cell_type": "markdown",
   "metadata": {},
   "source": [
    "### Using an input stellar spectrum"
   ]
  },
  {
   "cell_type": "markdown",
   "metadata": {},
   "source": [
    "TBD"
   ]
  },
  {
   "cell_type": "markdown",
   "metadata": {},
   "source": [
    "## Heating rates"
   ]
  },
  {
   "cell_type": "markdown",
   "metadata": {},
   "source": [
    "A by-product of the computation of the various fluxes in the atmosphere is that we know how much radiative energy is deposited and reradiated by each atmospheric layer, i.e. the heating rates.\n",
    "\n",
    "They can be computed as follows:"
   ]
  },
  {
   "cell_type": "code",
   "execution_count": null,
   "metadata": {},
   "outputs": [],
   "source": [
    "heat_rates, net_fluxes = atm_mars.heating_rate()\n",
    "# Heat_Rate are the heating rates in each layer in W/kg (from the top-down)\n",
    "# net_fluxes are the net bolometric fluxes (positive upward) in W/m^2 at the top of each layer. "
   ]
  },
  {
   "cell_type": "code",
   "execution_count": null,
   "metadata": {},
   "outputs": [],
   "source": [
    "fig,axs=plt.subplots(1,3,sharey=True)\n",
    "axs[0].set_yscale('log')\n",
    "axs[0].plot(heat_rates, atm_mars.play, label='Solar Heating')\n",
    "axs[1].plot(net_fluxes, atm_mars.play, label='Net solar flux')\n",
    "axs[2].plot(atm_mars.tlay, atm_mars.play)\n",
    "axs[0].set_xlabel('Heating Rate (W/kg)')\n",
    "axs[1].set_xlabel(r'Flux (W/m$^2$)')\n",
    "axs[2].set_xlabel('Temperature (K)')\n",
    "axs[0].set_ylabel('Pressure (Pa)')\n",
    "axs[0].invert_yaxis()\n",
    "fig.subplots_adjust(hspace=0, wspace=0)\n",
    "fig.tight_layout()"
   ]
  },
  {
   "cell_type": "raw",
   "metadata": {
    "raw_mimetype": "text/restructuredtext"
   },
   "source": [
    ".. important::\n",
    "    All the energy that is absorbed by the bottom boundary of the model (the surface)\n",
    "    is added to the last atmospheric layer (remember that the layers are organized\n",
    "    from the top-down), which effectively serves as a surface layer.\n",
    "    This is why there often seems to be a discontinuity in the heating rates in the\n",
    "    bottom layer.\n",
    "    \n",
    "    An `internal_flux` (Flux coming from the subsurface in W/m^2) can also be specified.\n",
    "    In the case, this heating is added to the budget of the surface layer as well.\n"
   ]
  },
  {
   "cell_type": "markdown",
   "metadata": {},
   "source": [
    "In our example above, one can easily see from the left panel that\n",
    "the atmosphere is not in radiative equilibrium localy:\n",
    "  * the surface receives more energy that it emits,\n",
    "    whereas the troposphere below the 1mbar laevel wants to cool,\n",
    "    which should drive convection. \n",
    "\n",
    "  * The heating rates in the stratosphere are positive which means\n",
    "    that it is too cold and wants to warm.\n",
    "\n",
    "Finally, it can be seen in the middle panel that the atmosphere is not is global\n",
    "radiative balance either, a negative net flux meaning that the atmosphere\n",
    "receives more light from its star than it is able to emit.\n",
    "\n",
    "Bringing the atmosphere back to equilibrium will be the topic of the next section.\n",
    "In the meantime, to have a more complete diagnostic,\n",
    "it is possible to compute the heating rates and fluxes\n",
    "separately for the stellar and self-emission contributions."
   ]
  },
  {
   "cell_type": "code",
   "execution_count": null,
   "metadata": {},
   "outputs": [],
   "source": [
    "Fup_emis, Fdw_emis, Fnet_emis, H_emis,\\\n",
    " Fup_stel, Fdw_stel, Fnet_stel, H_stel = atm_mars.bolometric_fluxes_2band()"
   ]
  },
  {
   "cell_type": "code",
   "execution_count": null,
   "metadata": {},
   "outputs": [],
   "source": [
    "fig,axs=plt.subplots(1,3,sharey=True)\n",
    "axs[0].set_yscale('log')\n",
    "axs[0].plot(H_stel, atm_mars.play, label='Stellar')\n",
    "axs[0].plot(H_emis, atm_mars.play, label='Emis')\n",
    "axs[1].plot(Fdw_stel, atm_mars.play, label='Stellar down')\n",
    "axs[1].plot(Fup_stel, atm_mars.play, label='Stellar up')\n",
    "axs[1].plot(Fdw_emis, atm_mars.play, label='Emis down')\n",
    "axs[1].plot(Fup_emis, atm_mars.play, label='Emis up')\n",
    "axs[2].plot(Fnet_stel, atm_mars.play, label='Stellar net')\n",
    "axs[2].plot(Fnet_emis, atm_mars.play, label='Emis net')\n",
    "axs[0].set_xlabel('Heating Rate (W/kg)')\n",
    "axs[1].set_xlabel(r'Flux (W/m$^2$)')\n",
    "axs[2].set_xlabel('Temperature (K)')\n",
    "axs[0].set_ylabel('Pressure (Pa)')\n",
    "axs[0].legend(loc='upper left', fontsize='small')\n",
    "axs[1].legend(loc='best', fontsize='small')\n",
    "axs[2].legend(loc='best', fontsize='small')\n",
    "axs[0].set_xlim((-0.3,0.3))\n",
    "axs[0].invert_yaxis()\n",
    "fig.tight_layout()"
   ]
  },
  {
   "cell_type": "raw",
   "metadata": {
    "raw_mimetype": "text/restructuredtext"
   },
   "source": [
    ".. important::\n",
    "    In our conventions, upward (up) and net fluxes are counted positive upward and \n",
    "    downward (dw) fluxes are positive downward. Hence, \n",
    "    Fnet = Fup - Fdw.\n",
    "    \n",
    "    The total heating rates and fluxes are the sum of the contribution of the stellar\n",
    "    and self-emission contributions."
   ]
  },
  {
   "cell_type": "markdown",
   "metadata": {},
   "source": [
    "# Modeling atmospheric evolution with `Atm_evolution`"
   ]
  },
  {
   "cell_type": "markdown",
   "metadata": {},
   "source": [
    "Now that we know how to model the radiative transfer (and heating rates)\n",
    "for a given atmopspheric structure and composition, it is easy\n",
    "to predict how it evolves in time. \n",
    "\n",
    "In `Exo_k`, this is handled by the `Atm_evolution` class that we present in this section."
   ]
  },
  {
   "cell_type": "markdown",
   "metadata": {},
   "source": [
    "## Tailoring radiative data"
   ]
  },
  {
   "cell_type": "markdown",
   "metadata": {},
   "source": [
    "During an evolution, the radiative transfer may be called hundreds of thousands of times.\n",
    "Furthermore, we do not need a high resolution to compute precise heating rates.\n",
    "\n",
    "Therefore, to gain computation time, we will reduce the resolution of our `Ktables`.\n",
    "We will also make sure to extend its spectral range to capture\n",
    "the whole planetary and stellar spectral range. \n",
    "\n",
    "For the demonstration, we will use a really coarse resolution,\n",
    "but one should of course test how the spectral grid affect their results\n",
    "to choose an appropriate setup."
   ]
  },
  {
   "cell_type": "code",
   "execution_count": 15,
   "metadata": {
    "init_cell": true
   },
   "outputs": [
    {
     "name": "stdout",
     "output_type": "stream",
     "text": [
      "[  100.           113.31484531   128.40254167   145.49914146\n",
      "   164.87212707   186.82459574   211.70000166   239.8875294\n",
      "   271.82818285   308.02168489   349.03429575   395.50767229\n",
      "   448.16890703   507.84190372   575.4602676    652.08191203\n",
      "   738.90560989   837.28974881   948.77358364  1075.10131861\n",
      "  1218.24939607  1380.45741861  1564.26318842  1772.54241215\n",
      "  2008.55369232  2275.98950935  2579.03399172  2922.42837812\n",
      "  3311.54519587  3752.47231596  4252.10820001  4818.26982911\n",
      "  5459.81500331  6186.78092504  7010.54123467  7943.98395523\n",
      "  9001.71313005 10200.27730827 11558.42845272 13097.41532108\n",
      " 14841.31591026 16817.41416518 19056.62684586 21593.98723106\n",
      " 24469.19322642 27727.22845231 31419.06602857 35000.        ]\n"
     ]
    }
   ],
   "source": [
    "Res = 8.\n",
    "wn_grid_LR = xk.wavenumber_grid_R(100.,35000.,Res)\n",
    "print(wn_grid_LR)\n",
    "\n",
    "k_db = xk.Kdatabase(['CO2', 'H2O'],'R300_0.3-50mu.ktable.SI')\n",
    "k_db_LR = k_db.bin_down_cp(wnedges = wn_grid_LR, remove_zeros = True)\n",
    "\n",
    "cia_db_LR=xk.CIAdatabase(molecules=['N2','H2O','H2','He'], mks=True)\n",
    "cia_db_LR.sample(k_db_LR.wns)\n"
   ]
  },
  {
   "cell_type": "code",
   "execution_count": null,
   "metadata": {},
   "outputs": [],
   "source": [
    "fig,ax = plt.subplots(1,1, figsize=(5,4))  \n",
    "k_db['H2O'].plot_spectrum(ax, p=1., t=300., g=1., xscale = 'log', yscale = 'log')\n",
    "k_db_LR['H2O'].plot_spectrum(ax, p=1., t=300., g=1., xscale = 'log', yscale = 'log')\n",
    "ax.set_ylim((1.e-34, 1.e-20))\n",
    "ax.set_xlim((0.4, 10.))\n",
    "fig.tight_layout()"
   ]
  },
  {
   "cell_type": "markdown",
   "metadata": {},
   "source": [
    "## Initializing an atmospheric evolution"
   ]
  },
  {
   "cell_type": "markdown",
   "metadata": {},
   "source": [
    "Except for a few exceptions that we will discuss in more details, the initialization\n",
    "of an `Atm_evolution` instance requires the same arguments as the initialization of\n",
    "an `Atm` object. The initial temperature profile can be specified exactly the same\n",
    "way, with the same options.\n",
    "\n",
    "The most notable exceptions are:\n",
    "  * `bg_vmr`: The molar concentrations (sometimes called the volume mixing ratios)\n",
    "    of the various molecules constituting the background gas. This replaces the\n",
    "    `composition` argument in a standard `Atm` object, but takes the same type of input.\n",
    "    The reason for this change of name will be more evident in the next sections when\n",
    "    we include active tracers (such as condensible species). `bg_vmr` can\n",
    "    receive a dictionary of arrays if one wants to model an atmosphere with\n",
    "    a fixed (but not uniform) distribution of gases. Variable compositions\n",
    "    will be treated later.\n",
    "  * `cp`: Specific heat capacity of the gas at constant pressure (J/kg/K),\n",
    "    that is needed to compute a temporal evolution. If it is not given, \n",
    "    the code will try to compute it for some known molecules at a standard\n",
    "    temperature. \n",
    "  * `M_bg`: molar mass of the background gas (kg/mol; optional). It is possible to\n",
    "    use a fixed molar mass of the background gas instead of\n",
    "    the one computed from the `bg_vmr`."
   ]
  },
  {
   "cell_type": "raw",
   "metadata": {
    "raw_mimetype": "text/restructuredtext"
   },
   "source": [
    ".. seealso::\n",
    "    Check out :class:`~exo_k.atm_evolution.atm_evol.Atm_evolution`\n",
    "    for details on arguments and options."
   ]
  },
  {
   "cell_type": "code",
   "execution_count": null,
   "metadata": {},
   "outputs": [],
   "source": [
    "Nlay = 50 # Number of layers\n",
    "Tsurf = 200. # K => Surface temperature\n",
    "Tstrat = 100.  # K => Temperature of the stratosphere\n",
    "psurf = 640. # Pa => Surface pressure\n",
    "ptop = 1.e0 # Pa => Pressure at the model top\n",
    "grav = 3.4 # m/s^2 => Surface gravity\n",
    "rcp = 0.28 # dimless => R/cp\n",
    "Rp = None # m => Planetary radius\n",
    "albedo_surf = 0.2 # m => Surface albedo\n",
    "Tstar = 5570. # K => Stellar blackbody temperature\n",
    "flux_top_dw = 120. # W/m^2 => stellar flux at the TOA.\n",
    "\n",
    "composition = {'CO2':'background', 'H2O':1.e-6}\n",
    "# Volume molar concentrations of the various species\n",
    "# One gas can be set to `background`.\n",
    "# It's volume mixing ratio will be automatically computed to fill the atmosphere.\n",
    "\n",
    "evol_mars = xk.Atm_evolution(Nlay=Nlay, psurf=psurf, ptop=ptop,\n",
    "             Tsurf=Tsurf, Tstrat=Tstrat,\n",
    "             grav=grav, rcp = rcp, Rp=Rp,\n",
    "             albedo_surf = albedo_surf,\n",
    "             bg_vmr = composition, # notice the change in argument name\n",
    "             k_database = k_db_LR, cia_database = cia_db_LR,\n",
    "             rayleigh = True,\n",
    "             flux_top_dw = flux_top_dw, Tstar = Tstar)"
   ]
  },
  {
   "cell_type": "raw",
   "metadata": {},
   "source": [
    ".. important::\n",
    "  An `Atm_evolution` instance always as the current atmospheric structure as an\n",
    "  :class:`~exo_k.atm.Atm` instance that is accessible through the `.atm` attribute\n",
    "  so that we can use all the methods that we have seen above\n",
    "  to diagnose the current state of the atmosphere,\n",
    "  such as saving and plotting the initial TP profile. "
   ]
  },
  {
   "cell_type": "code",
   "execution_count": null,
   "metadata": {},
   "outputs": [],
   "source": [
    "t_ini = evol_mars.atm.tlay\n",
    "p_ini = evol_mars.atm.play\n",
    "\n",
    "fig,ax=plt.subplots(1,1,figsize=(3,4))  \n",
    "evol_mars.atm.plot_T_profile(ax, yscale='log')\n",
    "fig.tight_layout()"
   ]
  },
  {
   "cell_type": "markdown",
   "metadata": {},
   "source": [
    "## Setting evolution options"
   ]
  },
  {
   "cell_type": "markdown",
   "metadata": {},
   "source": [
    "Now, that we have an initial atmospheric structure, we must decide what processes we will\n",
    "take into account when modeling its evolution, along with some parameters.\n",
    "\n",
    "Here is a (non-exhaustive) list of the (frequently evolving) available options:\n",
    "  * `rayleigh` (bool, default: True)\n",
    "  * `convection` (bool, default: False)\n",
    "  * `convective_transport` (bool, default: True)\n",
    "  * `diffusion` (bool, default: False)\n",
    "  * `condensation` (bool, default: False)\n",
    "  * `rain` (bool, default: False)\n",
    "  * `latent_heating` (bool, default: True)\n",
    "  * `moist_convection` (bool, default: False)\n",
    "  * `moist_inhibition` (bool, default: False)\n",
    "  * `dTmax_use_kernel` (float, default: 10.): Maximum temperature difference\n",
    "    above which the full radiative transfer is recomputed. A small\n",
    "    value increases the computation time. Too large a value may result in\n",
    "    numerical instabilities. (See the\n",
    "    theoretical description of the evolution model). \n",
    "  * `acceleration_mode` (int, default: 0): What kind of physical acceleration\n",
    "    scheme you want to use. 0 means no acceleration. 4 is the most aggressive.\n",
    "    \n",
    "They can be set at initialization or changed at any time through the `set_options`\n",
    "method."
   ]
  },
  {
   "cell_type": "code",
   "execution_count": null,
   "metadata": {},
   "outputs": [],
   "source": [
    "evol_mars.set_options(convection=True, dTmax_use_kernel = 0.1)"
   ]
  },
  {
   "cell_type": "markdown",
   "metadata": {},
   "source": [
    "The `set_options` method can also be used to change some attributes of the underlying\n",
    "atmosphere and/or radiative transfer, like the radiative data used,\n",
    "or whether one wants to include the CIA, the stellar spectrum, etc. \n",
    "\n",
    "In this case, the user can use the same arguments as during the `Atm` initialization.\n",
    "However, the user *must* specify `reset_rad_model=True` to tell the code to\n",
    "pass these arguments along. Otherwise, the underlying `Atm` instance will not be updated."
   ]
  },
  {
   "cell_type": "code",
   "execution_count": null,
   "metadata": {},
   "outputs": [],
   "source": [
    "evol_mars.set_options(flux_top_dw = 130., reset_rad_model=True)"
   ]
  },
  {
   "cell_type": "markdown",
   "metadata": {},
   "source": [
    "## Computing a time evolution"
   ]
  },
  {
   "cell_type": "markdown",
   "metadata": {},
   "source": [
    "To move the model forward in time, you just need to call the `evolve(N_timestep=)` method\n",
    "where `N_timestep` is the number of timesteps that you want to run. \n",
    "\n",
    "The duration of those timesteps will be decided by the model to be the largest stable timestep.\n",
    "If the user wants to reduce the timestep, it can specify a `timestep_factor` which must be <=1.\n",
    "Larger `timestep_factor` usually (although not always) result in unstable evolutions."
   ]
  },
  {
   "cell_type": "code",
   "execution_count": null,
   "metadata": {},
   "outputs": [],
   "source": [
    "model = evol_mars\n",
    "start=time.time()\n",
    "model.evolve(N_timestep=100)\n",
    "time_evo = model.time_hist/(xk.DAY)\n",
    "print('evol_time (days):', time_evo[-1])\n",
    "print('last timestep:', (time_evo[-1]-time_evo[-2]),'day')\n",
    "print('Number of steps since last kernel computation:', model.N_last_ker)\n",
    "print('simulation time:',time.time()-start,'s')\n",
    "\n",
    "fig,axs=plt.subplots(2,1,sharex=True, figsize=(6,6))  \n",
    "axs[0].plot(time_evo, model.Fnet_top, label='Top of Atmosphere')\n",
    "axs[0].plot(time_evo, np.ones_like(model.Fnet_top)*0., label='internal flux')\n",
    "axs[1].plot(time_evo, model.tlay_hist[:,-1], label='internal flux')\n",
    "axs[0].set_ylabel(r'Net Flux')\n",
    "axs[1].set_ylabel(r'$T_{surf}$')\n",
    "axs[1].set_xlabel(r'Time (days)')\n",
    "axs[0].legend()\n",
    "fig.tight_layout()"
   ]
  },
  {
   "cell_type": "markdown",
   "metadata": {},
   "source": [
    "One can see that the surface is warming up as the Net TOA flux is smaller than the\n",
    "internal flux. \n",
    "\n",
    "We can also show the profiles for the:\n",
    "  * Heating rates: in attribute `H_ave[process]` where `process` is a string\n",
    "    that can be one of 'rad' (radiation), 'conv' (dry convection),\n",
    "    'cond' (condensation), 'madj' (moist convection), 'rain' (rain evaporation),\n",
    "    'tot' (total). They are given in W/kg and can be converted in K/s by dividing\n",
    "    by `self.cp`.\n",
    "  * Net fluxes: in attribute `Fnet[process]` where `process` is as above.\n",
    "    They are given at the top of each layer in W/m^2.\n",
    "  * Temperature and pressure through `self.atm.tlay` and `self.atm.play`"
   ]
  },
  {
   "cell_type": "code",
   "execution_count": null,
   "metadata": {},
   "outputs": [],
   "source": [
    "model = evol_mars\n",
    "fig,axs=plt.subplots(1,3,sharey=True, figsize=(7,4))  \n",
    "for label in ['rad','conv','tot']:\n",
    "    axs[0].plot(model.heating_rate(label)*xk.DAY/model.cp, model.atm.play, label=label)\n",
    "    axs[1].plot(model.net_flux(label), model.atm.play, label=label)\n",
    "#axs2[0].plot(tmp*xk.DAY/model.cp, model.atm.play, label=label)\n",
    "axs[2].plot(t_ini, p_ini, label='Ini')\n",
    "axs[2].plot(model.atm.tlay, model.atm.play, label='Final')\n",
    "for ax in axs:\n",
    "    ax.legend(fontsize='small', loc='upper right')\n",
    "    ax.set_yscale('log')\n",
    "axs[0].set_ylabel(r'Pressure')\n",
    "axs[0].set_xlabel(r'Heating (K/day)')\n",
    "axs[1].set_xlabel(r'Fluxes')\n",
    "axs[2].set_xlabel(r'T(K)')\n",
    "axs[0].invert_yaxis()\n",
    "fig.tight_layout()"
   ]
  },
  {
   "cell_type": "markdown",
   "metadata": {},
   "source": [
    "As anticipated, the stratosphere was too cold and is now getting warmer.\n",
    "\n",
    "If `evolve` is called again, the evolution will resume from its last point\n",
    "so that you can iteratively reach equilibrium. "
   ]
  },
  {
   "cell_type": "markdown",
   "metadata": {},
   "source": [
    "## Acceleration"
   ]
  },
  {
   "cell_type": "markdown",
   "metadata": {},
   "source": [
    "### Using the radiative kernel"
   ]
  },
  {
   "cell_type": "markdown",
   "metadata": {},
   "source": [
    "Most of the time, we are only concerned with the equilibrium state of the atmosphere.\n",
    "However, it can take lots of iterations to get there. The evolution model\n",
    "thus includes several ways of accelerating the computation.\n",
    "\n",
    "The easiest of all is to allow the model to use a linear approximation\n",
    "of a past radiative transfer computation\n",
    "if the temperature profile has not changed by more than `dTmax_use_kernel` Kelvin. \n",
    "\n",
    "This can be changed as follows."
   ]
  },
  {
   "cell_type": "code",
   "execution_count": null,
   "metadata": {},
   "outputs": [],
   "source": [
    "evol_mars.set_options(dTmax_use_kernel = 10.)"
   ]
  },
  {
   "cell_type": "code",
   "execution_count": null,
   "metadata": {},
   "outputs": [],
   "source": [
    "model = evol_mars\n",
    "start=time.time()\n",
    "model.evolve(N_timestep=1000)\n",
    "time_evo = model.time_hist/(xk.DAY)\n",
    "print('evol_time (days):', time_evo[-1])\n",
    "print('last timestep:', (time_evo[-1]-time_evo[-2]),'day')\n",
    "print('Number of steps since last kernel computation:', model.N_last_ker)\n",
    "print('simulation time:',time.time()-start,'s')\n",
    "\n",
    "fig,axs=plt.subplots(2,1,sharex=True, figsize=(6,6))  \n",
    "axs[0].plot(time_evo, model.Fnet_top, label='Top of Atmosphere')\n",
    "axs[0].plot(time_evo, np.ones_like(model.Fnet_top)*0., label='internal flux')\n",
    "axs[1].plot(time_evo, model.tlay_hist[:,-1], label='internal flux')\n",
    "axs[0].set_ylabel(r'Net Flux')\n",
    "axs[1].set_ylabel(r'$T_{surf}$')\n",
    "axs[1].set_xlabel(r'Time (days)')\n",
    "axs[0].legend()\n",
    "fig.tight_layout()"
   ]
  },
  {
   "cell_type": "markdown",
   "metadata": {},
   "source": [
    "Notice that the simulation ran for almost as much time as before,\n",
    "but we have simulated a period about ten times as long\n",
    "(10 times the number of iterations).\n",
    "\n",
    "The price to pay are those sawtooth patterns that appear each time that we compute\n",
    "the kernel because our linear approximation was not that good anymore.\n",
    "These however do not affect the final equilibrium state as long as the model\n",
    "converges.\n",
    "\n",
    "If `dTmax_use_kernel` is too large, the model may not converge."
   ]
  },
  {
   "cell_type": "markdown",
   "metadata": {},
   "source": [
    "### Other acceleration modes"
   ]
  },
  {
   "cell_type": "markdown",
   "metadata": {},
   "source": [
    "To reach equilibrium even faster it is possible to use other acceleration modes.\n",
    "They are described in the 'Principles of atmospheric modeling with Exo_k' page.\n",
    "They can be activated through the `acceleration_mode` argument as follows.\n",
    "\n",
    "The most efficient one to date is `acceleration_mode = 4` which accelerates both\n",
    "convective and radiative zones. Use `acceleration_mode = 3` if you only want to\n",
    "accelerate radiative zones.\n",
    "\n",
    "In this case and when we are close to equilibrium, it might be even faster\n",
    "to force the recomputation of the kernel a few times during an evolution\n",
    "step. This can be done through the `evolve(N_kernel = )` argument that specifies\n",
    "a maximum number of step between two computations of the kernel. \n",
    "\n",
    "To show how fast this is, let's compute the equilibrium for a new stellar flux."
   ]
  },
  {
   "cell_type": "code",
   "execution_count": null,
   "metadata": {},
   "outputs": [],
   "source": [
    "evol_mars.set_options(flux_top_dw = 200., dTmax_use_kernel = 10., acceleration_mode = 4,\n",
    "                     reset_rad_model = True)"
   ]
  },
  {
   "cell_type": "code",
   "execution_count": null,
   "metadata": {},
   "outputs": [],
   "source": [
    "model = evol_mars\n",
    "start=time.time()\n",
    "model.evolve(N_timestep = 40, N_kernel = 10)\n",
    "time_evo = model.time_hist/(xk.DAY)\n",
    "print('evol_time (days):', time_evo[-1])\n",
    "print('last timestep:', (time_evo[-1]-time_evo[-2]),'day')\n",
    "print('Number of steps since last kernel computation:', model.N_last_ker)\n",
    "print('simulation time:',time.time()-start,'s')\n",
    "\n",
    "fig,axs=plt.subplots(2,1,sharex=True, figsize=(6,6))  \n",
    "axs[0].plot(time_evo, model.Fnet_top, label='Top of Atmosphere')\n",
    "axs[0].plot(time_evo, np.ones_like(model.Fnet_top)*0., label='internal flux')\n",
    "axs[1].plot(time_evo, model.tlay_hist[:,-1], label='internal flux')\n",
    "axs[0].set_ylabel(r'Net Flux')\n",
    "axs[1].set_ylabel(r'$T_{surf}$')\n",
    "axs[1].set_xlabel(r'Time (days)')\n",
    "axs[0].legend()\n",
    "fig.tight_layout()"
   ]
  },
  {
   "cell_type": "markdown",
   "metadata": {},
   "source": [
    "In only 40 iterations, we are almost in thermal equilibrium!"
   ]
  },
  {
   "cell_type": "markdown",
   "metadata": {},
   "source": [
    "## Saving and loading an atmospheric model"
   ]
  },
  {
   "cell_type": "markdown",
   "metadata": {},
   "source": [
    "An atmospheric model can be saved to disc using serialization with:"
   ]
  },
  {
   "cell_type": "code",
   "execution_count": null,
   "metadata": {},
   "outputs": [],
   "source": [
    "evol_mars.write_pickle('evol_mars.pickle')"
   ]
  },
  {
   "cell_type": "markdown",
   "metadata": {},
   "source": [
    "Now, one can immediately load it again. It will have all the of its attributes and options saved\n",
    "so that one can directly see the current state as well as make it evolve again."
   ]
  },
  {
   "cell_type": "code",
   "execution_count": null,
   "metadata": {},
   "outputs": [],
   "source": [
    "evol_mars2 = xk.load_atm_evolution('evol_mars.pickle')"
   ]
  },
  {
   "cell_type": "code",
   "execution_count": null,
   "metadata": {},
   "outputs": [],
   "source": [
    "model = evol_mars2\n",
    "try:\n",
    "    model.evolve(N_timestep = 40, N_kernel = 10)\n",
    "    print('I have all I need to evolve again')\n",
    "except:\n",
    "    print('This Atm_evolution instance is not linked to any k_database')\n",
    "    print('We will reset the radiative model before running again')\n",
    "    model.set_options(k_database = k_db_LR, cia_database = cia_db_LR,\n",
    "                    reset_rad_model = True # imperative\n",
    "                    )\n",
    "    model.evolve(N_timestep = 40, N_kernel = 10)\n",
    "time_evo = model.time_hist/(xk.DAY)\n",
    "print('evol_time (days):', time_evo[-1])\n",
    "print('last timestep:', (time_evo[-1]-time_evo[-2]),'day')\n",
    "print('Number of steps since last kernel computation:', model.N_last_ker)\n",
    "print('simulation time:',time.time()-start,'s')\n",
    "\n",
    "fig,axs=plt.subplots(2,1,sharex=True, figsize=(6,6))  \n",
    "axs[0].plot(time_evo, model.Fnet_top, label='Top of Atmosphere')\n",
    "axs[0].plot(time_evo, np.ones_like(model.Fnet_top)*0., label='internal flux')\n",
    "axs[1].plot(time_evo, model.tlay_hist[:,-1], label='internal flux')\n",
    "axs[0].set_ylabel(r'Net Flux')\n",
    "axs[1].set_ylabel(r'$T_{surf}$')\n",
    "axs[1].set_xlabel(r'Time (days)')\n",
    "axs[0].legend()\n",
    "fig.tight_layout()    "
   ]
  },
  {
   "cell_type": "code",
   "execution_count": null,
   "metadata": {},
   "outputs": [],
   "source": [
    "model = evol_mars2\n",
    "fig,axs=plt.subplots(1,3,sharey=True, figsize=(7,4))  \n",
    "for label in ['rad','conv','tot']:\n",
    "    axs[0].plot(model.heating_rate(label)*xk.DAY/model.cp, model.atm.play, label=label)\n",
    "    axs[1].plot(model.net_flux(label), model.atm.play, label=label)\n",
    "#axs2[0].plot(tmp*xk.DAY/model.cp, model.atm.play, label=label)\n",
    "axs[2].plot(t_ini, p_ini, label='Ini')\n",
    "axs[2].plot(model.atm.tlay, model.atm.play, label='Final')\n",
    "for ax in axs:\n",
    "    ax.legend(fontsize='small', loc='upper right')\n",
    "    ax.set_yscale('log')\n",
    "axs[0].set_ylabel(r'Pressure')\n",
    "axs[0].set_xlabel(r'Heating (K/day)')\n",
    "axs[1].set_xlabel(r'Fluxes')\n",
    "axs[2].set_xlabel(r'T(K)')\n",
    "axs[0].invert_yaxis()\n",
    "fig.tight_layout()"
   ]
  },
  {
   "cell_type": "markdown",
   "metadata": {},
   "source": [
    "However, when saving it this way, the model may take some space on disk as it\n",
    "saves along all the opacity databases.\n",
    "\n",
    "If one wants to save only the current state and the options, it is possible to\n",
    "use the `data_reduction_level=2` argument in `write_pickle`. \n",
    "\n",
    "However, if one wants to make the atmosphere evolve again, they will need\n",
    "to reset the radiative model with the opacities as follows"
   ]
  },
  {
   "cell_type": "code",
   "execution_count": null,
   "metadata": {},
   "outputs": [],
   "source": [
    "evol_mars.write_pickle('evol_mars_small.pickle', data_reduction_level=2)\n",
    "\n",
    "evol_mars3 = xk.load_atm_evolution('evol_mars_small.pickle')"
   ]
  },
  {
   "cell_type": "code",
   "execution_count": null,
   "metadata": {},
   "outputs": [],
   "source": [
    "model = evol_mars3\n",
    "try:\n",
    "    model.evolve(N_timestep = 40, N_kernel = 10)\n",
    "    print('I have all I need to evolve again')\n",
    "except:\n",
    "    print('This Atm_evolution instance is not linked to any k_database')\n",
    "    print('We will reset the radiative model before running again')\n",
    "    model.set_options(k_database = k_db_LR, cia_database = cia_db_LR,\n",
    "                    reset_rad_model = True # imperative\n",
    "                    )\n",
    "    model.evolve(N_timestep = 40, N_kernel = 10)\n",
    "time_evo = model.time_hist/(xk.DAY)\n",
    "print('evol_time (days):', time_evo[-1])\n",
    "print('last timestep:', (time_evo[-1]-time_evo[-2]),'day')\n",
    "print('Number of steps since last kernel computation:', model.N_last_ker)\n",
    "print('simulation time:',time.time()-start,'s')\n",
    "\n",
    "fig,axs=plt.subplots(2,1,sharex=True, figsize=(6,6))  \n",
    "axs[0].plot(time_evo, model.Fnet_top, label='Top of Atmosphere')\n",
    "axs[0].plot(time_evo, np.ones_like(model.Fnet_top)*0., label='internal flux')\n",
    "axs[1].plot(time_evo, model.tlay_hist[:,-1], label='internal flux')\n",
    "axs[0].set_ylabel(r'Net Flux')\n",
    "axs[1].set_ylabel(r'$T_{surf}$')\n",
    "axs[1].set_xlabel(r'Time (days)')\n",
    "axs[0].legend()\n",
    "fig.tight_layout()    "
   ]
  },
  {
   "cell_type": "markdown",
   "metadata": {},
   "source": [
    "# More complex models with tracers and condensation"
   ]
  },
  {
   "cell_type": "markdown",
   "metadata": {},
   "source": [
    "## Putting tracers in your model"
   ]
  },
  {
   "cell_type": "markdown",
   "metadata": {},
   "source": [
    "Now let's try to model an Earth-like planet with some water vapor in the atmosphere. \n",
    "\n",
    "The first step is to add one or more tracers (at least two if you want a condensing species) through the\n",
    "`tracers` argument. The input is a dictionary whose keys are the tracer names and the values are another dictionary\n",
    "containing the properties of the tracer. In particular, for a condensing species, you want to specify that\n",
    "it is a `'type':'vapor'` and the name of the condensed tracer with `'condensed_form':'H2O_liq'`.\n",
    "\n",
    "There are several ways to specify the initial values/surface sources for the various tracers,\n",
    "as will be shown below. For the moment, let's just add a constant initial mass concentration (kg/kg of gas)\n",
    "profile through `'init_value': q_h2o`.\n",
    "\n",
    "As we want the code to be as generic as possible, we must now specify the thermodynamical properties of\n",
    "the condensing pairs we want to model through the `condensing_species` argument. There is an example for\n",
    "water vapor below.\n",
    "\n",
    "Thnaks to this mechanism, there is no limitation on the number of condensing species that one can add,\n",
    "as long as we know the thermodynamical properties."
   ]
  },
  {
   "cell_type": "raw",
   "metadata": {},
   "source": [
    ".. important::\n",
    "  The name of the vapor tracer must be the same as the name of the condensing species. This is how the library links the two.\n",
    "  Moreover, if you want the vapor to be radiatively active, the name must be the same as the one in the `Kdatabase`. For example,\n",
    "  here, putting `'H2O_vap'` in tracers and condensible species would work, but water vapor would have no effect on the\n",
    "  radiative transfer. "
   ]
  },
  {
   "cell_type": "raw",
   "metadata": {},
   "source": [
    ".. warning::\n",
    "  The tracers are parametrized in terms of their specific concentration, `q`, meaning their mass per mass of gas (in kg/kg).\n",
    "  This should not be mistaken with the mass mixing ratio that is the mass of vapor per mass of dry air.\n",
    "  It should be noted that the specific concentration is often called mass mixing ratio in many contexts. "
   ]
  },
  {
   "cell_type": "code",
   "execution_count": 16,
   "metadata": {
    "init_cell": true
   },
   "outputs": [],
   "source": [
    "# a simple function to test water conservation\n",
    "def water_content(model):\n",
    "    idx_vap, idx_cond = model.condensing_pairs_idx[model.condensing_species_idx['H2O']]\n",
    "    return np.sum(model.tracers.qarray[idx_vap]*model.atm.dmass) \\\n",
    "      +np.sum(model.tracers.qarray[idx_cond]*model.atm.dmass) \\\n",
    "      +model.tracers.qsurf[idx_cond]"
   ]
  },
  {
   "cell_type": "code",
   "execution_count": null,
   "metadata": {},
   "outputs": [],
   "source": [
    "Nlay = 50 # Number of layers\n",
    "Tsurf = 280. # K => Surface temperature\n",
    "Tstrat = 150.  # K => Temperature of the stratosphere\n",
    "psurf = 1.e5 # Pa => Surface pressure\n",
    "ptop = 10.e0 # Pa => Pressure at the model top\n",
    "grav = 9.81 # m/s^2 => Surface gravity\n",
    "rcp = 0.28 # dimless => R/cp\n",
    "Rp = None # m => Planetary radius\n",
    "albedo_surf = 0.35 # m => Surface albedo\n",
    "Tstar = 5570. # K => Stellar blackbody temperature\n",
    "flux_top_dw = 340. # W/m^2 => stellar flux at the TOA.\n",
    "\n",
    "composition = {'N2': 'background', 'CO2':340.e-6}\n",
    "\n",
    "qH2O = 0.0001 # kg/kg of gas\n",
    "\n",
    "# the tracers dictionary contains the tracers with their names and attributes.\n",
    "# Here we have two: one for water vapor and one for the condensed phase.\n",
    "# !!! The vapor one needs to have the same name as in the k_database if\n",
    "#      the user wants to include its radiative effect !!!\n",
    "tracers = {'H2O':{'type':'vapor', # a 'vapor' type specifies that it can condense\n",
    "                  'condensed_form':'H2O_liq', # if 'type'='vapor' then we need to specify the condensed form\n",
    "                  'init_value':qH2O, # optional, the initial specific concentration (in kg/kg of total gas)\n",
    "                 },\n",
    "         'H2O_liq':{}, # The tracer for the condensed form does not need any attribute\n",
    "         }\n",
    "\n",
    "# The condensing_species dictionary captures the necessary thermodynamical \n",
    "# constant to compute the saturation curves and latent heat. \n",
    "# There needs to be as many condensing_species as there are tracers with a vapor type.\n",
    "condensing_species={'H2O':{'Latent_heat_vaporization': 2.086e6, # Latent heat at ref temperature (J/kg)\n",
    "            'cp_vap': 4.228e3, # Specific heat of the vapor (J/kg/K)\n",
    "            'Mvap': 18.e-3, # Molar mass of the vapor\n",
    "            'T_ref': 273., # Reference temperature\n",
    "            'Psat_ref': 612., # Saturation pressure at reference temeprature\n",
    "                          }}\n",
    "\n",
    "tracer_values={} # array of values for the various tracers. \n",
    "                 # It is not needed here as we start with a constant value\n",
    "                 # as specified above\n",
    "\n",
    "evol_earth = xk.Atm_evolution(Nlay=Nlay, psurf=psurf, ptop=ptop,\n",
    "             Tsurf=Tsurf, Tstrat=Tstrat,\n",
    "             grav=grav, rcp = rcp, Rp=Rp,\n",
    "             albedo_surf = albedo_surf,\n",
    "             bg_vmr = composition, # notice the change in argument name\n",
    "             k_database = k_db_LR, cia_database = cia_db_LR,\n",
    "             rayleigh = True,\n",
    "             flux_top_dw = flux_top_dw, Tstar = Tstar,\n",
    "             tracers = tracers, condensing_species = condensing_species,\n",
    "             tracer_values = tracer_values)\n",
    "\n",
    "\n",
    "initial_water = water_content(evol_earth)\n",
    "print(\"water content = \", initial_water, \"kg/m^2\")"
   ]
  },
  {
   "cell_type": "markdown",
   "metadata": {},
   "source": [
    "## Tracer related options"
   ]
  },
  {
   "cell_type": "markdown",
   "metadata": {},
   "source": [
    "When (condensing) tracers are added, there are several additional options you can set.\n",
    "In particular:\n",
    "  * Know that `convection=True` will insantaneously mix all tracers in convective zones.\n",
    "  * `condensation=True` will condense vapors to bring any layer as close as possible to\n",
    "    saturation equilibrium.\n",
    "  * `moist_convection=True` calls a moist-convection adjustement scheme.\n",
    "  * The effect of mean molecular weight on both dry and moist convection can be turned on\n",
    "    with `moist_inhibition=True`.\n",
    "  * `rain=True` collects all the condensates left in the atmosphere by the previous\n",
    "    processes and carries them downward until they are either re-evaporated or they reach the surface.\n",
    "  * `diffusion=True` applies turbulent diffusive mixing to the tracers using a constant eddy mixing\n",
    "    coefficient that is specified using `Kzz=value` (in m^2/s). This diffusion has\n",
    "    no effect on temperature."
   ]
  },
  {
   "cell_type": "code",
   "execution_count": null,
   "metadata": {},
   "outputs": [],
   "source": [
    "# The moist processes are turned off by default and need to be turned on\n",
    "evol_earth.set_options(convection = True, condensation = True, \n",
    "            moist_convection = True, moist_inhibition = True,\n",
    "            diffusion = True, Kzz=1.e-2, # in m^2/s\n",
    "            rain = True,\n",
    "            acceleration_mode=0,\n",
    "            )\n"
   ]
  },
  {
   "cell_type": "raw",
   "metadata": {},
   "source": [
    ".. important::\n",
    "  When moist processes are included, the physical timescale for those processes can be very\n",
    "  different from the radiative timescale, which is the one used to compute the timestep.\n",
    "  If the moist processes' timescale is shorter, the user needs to reduce the timestep\n",
    "  with the `timestep_factor` argument in `Atm_evolution.evolve()`. The actual timestep\n",
    "  computed by the code will be multiplied by `timestep_factor` before the step is taken.\n",
    "  Using `timestep_factor>1` may result in unstable evolutions. "
   ]
  },
  {
   "cell_type": "code",
   "execution_count": null,
   "metadata": {},
   "outputs": [],
   "source": [
    "model = evol_earth\n",
    "start=time.time()\n",
    "model.evolve(N_timestep=20000, timestep_factor=.01)\n",
    "time_evo = model.time_hist/(xk.DAY)\n",
    "print('evol_time (days):', time_evo[-1])\n",
    "print('last timestep:', (time_evo[-1]-time_evo[-2]),'day')\n",
    "print('Number of steps since last kernel computation:', model.N_last_ker)\n",
    "print('simulation time:',time.time()-start,'s')\n",
    "print(\"water content:\", water_content(model), \"kg/m^2\")\n",
    "print(\"relative water mass loss:\", (water_content(model)-initial_water)/initial_water)\n",
    "\n",
    "fig,axs=plt.subplots(2,1,sharex=True, figsize=(6,6))  \n",
    "axs[0].plot(time_evo, model.Fnet_top, label='Top of Atmosphere')\n",
    "axs[0].plot(time_evo, np.ones_like(model.Fnet_top)*0., label='internal flux')\n",
    "axs[1].plot(time_evo, model.tlay_hist[:,-1], label='internal flux')\n",
    "axs[0].set_ylabel(r'Net Flux')\n",
    "axs[1].set_ylabel(r'$T_{surf}$')\n",
    "axs[1].set_xlabel(r'Time (days)')\n",
    "axs[0].legend()\n",
    "fig.tight_layout()"
   ]
  },
  {
   "cell_type": "code",
   "execution_count": null,
   "metadata": {},
   "outputs": [],
   "source": [
    "model = evol_earth\n",
    "psat = model.condensing_species_params[0].Psat(model.atm.tlay)\n",
    "qsat = model.condensing_species_params[0].qsat(psat, model.atm.play,\n",
    "                            model.condensing_species_params[0].Mvap/model.tracers.Mgas)\n",
    "\n",
    "fig,axs=plt.subplots(1,4,sharey=True, figsize=(7,4))  \n",
    "for label in ['conv','madj','cond','rain','tot']:\n",
    "    axs[0].plot(model.heating_rate(label)*xk.DAY/model.cp, model.atm.play, label=label)\n",
    "    axs[1].plot(model.net_flux(label), model.atm.play, label=label)\n",
    "axs[2].plot(model.atm.tlay, model.atm.play, label='Final')\n",
    "axs[3].plot(model.tracers['H2O'], model.atm.play, label='h2o')\n",
    "axs[3].plot(qsat, model.atm.play, label=r'$q_{sat}$', linestyle='--')\n",
    "for ax in axs:\n",
    "    ax.legend(fontsize='small', loc='upper right')\n",
    "    ax.set_yscale('log')\n",
    "axs[0].set_ylabel(r'Pressure')\n",
    "axs[0].set_xlabel(r'Heating (K/day)')\n",
    "axs[1].set_xlabel(r'Fluxes')\n",
    "axs[2].set_xlabel(r'T(K)')\n",
    "axs[3].set_xlabel(r'q (kg/kg)')\n",
    "axs[3].set_xscale('log')\n",
    "axs[0].invert_yaxis()\n",
    "fig.tight_layout()"
   ]
  },
  {
   "cell_type": "markdown",
   "metadata": {},
   "source": [
    "## Specifying initial tracer profiles and tracer sources"
   ]
  },
  {
   "cell_type": "markdown",
   "metadata": {},
   "source": [
    "For the moment, there are two ways to specify the initial tracer distribution:\n",
    "  * As seen above, `'init_value'` in the `tracers` dictionary initializes the\n",
    "    tracer with a constant specific concentration profile. \n",
    "  * A vertical profile of specific concentration can be provided through\n",
    "    `tracer_values={'name_of_tracer: array}`. The array must have right size and\n",
    "    be ordered from the top down, just like the other arrays.\n",
    "    \n",
    "If nothing else is specified, the model will evolve assuming that there is no surface\n",
    "source for tracers.\n",
    " \n",
    "Tracer sources at the bottom boundary can be modelled with two different approaches:\n",
    "  * By putting `'q_deep': value` as a property of a given *vapor* tracer in `tracers`, you force the\n",
    "    specific concentration for this vapor to remain fixed at this value in the surface layer.\n",
    "    This is particularly usefull to model gaseous planets with no definite surface.\n",
    "  * By putting `'surface_reservoir': value` as a property of a given *condesate* tracer in `tracers`, you\n",
    "    specify that there is a *reservoir* containg `value` kg/m^2 of the condensed species at the surface.\n",
    "    The atmosphere can freely condense/evaporate mater to and from this reservoir depending on the thermodynamical\n",
    "    conditions. This is particularly usefull to model a surface ocean. "
   ]
  },
  {
   "cell_type": "code",
   "execution_count": null,
   "metadata": {},
   "outputs": [],
   "source": [
    "Nlay = 50 # Number of layers\n",
    "Tsurf = 280. # K => Surface temperature\n",
    "Tstrat = 150.  # K => Temperature of the stratosphere\n",
    "psurf = 1.e5 # Pa => Surface pressure\n",
    "ptop = 10.e0 # Pa => Pressure at the model top\n",
    "grav = 9.81 # m/s^2 => Surface gravity\n",
    "rcp = 0.28 # dimless => R/cp\n",
    "Rp = None # m => Planetary radius\n",
    "albedo_surf = 0.35 # m => Surface albedo\n",
    "Tstar = 5570. # K => Stellar blackbody temperature\n",
    "flux_top_dw = 340. # W/m^2 => stellar flux at the TOA.\n",
    "\n",
    "composition = {'N2': 'background', 'CO2':340.e-6}\n",
    "\n",
    "qH2O = 0.000001 # kg/kg of gas\n",
    "\n",
    "# the tracers dictionary contains the tracers with their names and attributes.\n",
    "# Here we have two: one for water vapor and one for the condensed phase.\n",
    "# !!! The vapor one needs to have the same name as in the k_database if\n",
    "#      the user wants to include its radiative effect !!!\n",
    "tracers = {'H2O':{'type':'vapor', # a 'vapor' type specifies that it can condense\n",
    "                  'condensed_form':'H2O_liq', # if 'type'='vapor' then we need to specify the condensed form\n",
    "                  'init_value':qH2O, # optional, the initial specific concentration (in kg/kg of total gas)\n",
    "                  'q_deep':1.e-3,\n",
    "                 },\n",
    "         'H2O_liq':{}, # The tracer for the condensed form does not need any attribute\n",
    "         }\n",
    "\n",
    "# The condensing_species dictionary captures the necessary thermodynamical \n",
    "# constant to compute the saturation curves and latent heat. \n",
    "# There needs to be as many condensing_species as there are tracers with a vapor type.\n",
    "condensing_species={'H2O':{'Latent_heat_vaporization': 2.086e6, # Latent heat at ref temperature (J/kg)\n",
    "            'cp_vap': 4.228e3, # Specific heat of the vapor (J/kg/K)\n",
    "            'Mvap': 18.e-3, # Molar mass of the vapor\n",
    "            'T_ref': 273., # Reference temperature\n",
    "            'Psat_ref': 612., # Saturation pressure at reference temeprature\n",
    "                          }}\n",
    "\n",
    "tracer_values={} # array of values for the various tracers. \n",
    "                 # It is not needed here as we start with a constant value\n",
    "                 # as specified above\n",
    "\n",
    "evol_earth = xk.Atm_evolution(Nlay=Nlay, psurf=psurf, ptop=ptop,\n",
    "             Tsurf=Tsurf, Tstrat=Tstrat,\n",
    "             grav=grav, rcp = rcp, Rp=Rp,\n",
    "             albedo_surf = albedo_surf,\n",
    "             bg_vmr = composition, # notice the change in argument name\n",
    "             k_database = k_db_LR, cia_database = cia_db_LR,\n",
    "             rayleigh = True,\n",
    "             flux_top_dw = flux_top_dw, Tstar = Tstar,\n",
    "             tracers = tracers, condensing_species = condensing_species,\n",
    "             tracer_values = tracer_values)\n",
    "\n",
    "\n",
    "initial_water = water_content(evol_earth)\n",
    "print(\"water content = \", initial_water, \"kg/m^2\")"
   ]
  },
  {
   "cell_type": "code",
   "execution_count": null,
   "metadata": {},
   "outputs": [],
   "source": [
    "# The moist processes are turned off by default and need to be turned on\n",
    "evol_earth.set_options(convection = True, condensation = True, \n",
    "            moist_convection = True, moist_inhibition = True,\n",
    "            diffusion = True, Kzz=1.e-2, # in m^2/s\n",
    "            rain = True,\n",
    "            acceleration_mode=0,\n",
    "            )\n"
   ]
  },
  {
   "cell_type": "code",
   "execution_count": null,
   "metadata": {},
   "outputs": [],
   "source": [
    "model = evol_earth\n",
    "start=time.time()\n",
    "model.evolve(N_timestep=2000, timestep_factor=.01)\n",
    "time_evo = model.time_hist/(xk.DAY)\n",
    "print('evol_time (days):', time_evo[-1])\n",
    "print('last timestep:', (time_evo[-1]-time_evo[-2]),'day')\n",
    "print('Number of steps since last kernel computation:', model.N_last_ker)\n",
    "print('simulation time:',time.time()-start,'s')\n",
    "print(\"water content:\", water_content(model), \"kg/m^2\")\n",
    "print(\"relative water mass loss:\", (water_content(model)-initial_water)/initial_water)\n",
    "\n",
    "fig,axs=plt.subplots(2,1,sharex=True, figsize=(6,6))  \n",
    "axs[0].plot(time_evo, model.Fnet_top, label='Top of Atmosphere')\n",
    "axs[0].plot(time_evo, np.ones_like(model.Fnet_top)*0., label='internal flux')\n",
    "axs[1].plot(time_evo, model.tlay_hist[:,-1], label='internal flux')\n",
    "axs[0].set_ylabel(r'Net Flux')\n",
    "axs[1].set_ylabel(r'$T_{surf}$')\n",
    "axs[1].set_xlabel(r'Time (days)')\n",
    "axs[0].legend()\n",
    "fig.tight_layout()"
   ]
  },
  {
   "cell_type": "code",
   "execution_count": null,
   "metadata": {},
   "outputs": [],
   "source": [
    "model = evol_earth\n",
    "psat = model.condensing_species_params[0].Psat(model.atm.tlay)\n",
    "qsat = model.condensing_species_params[0].qsat(psat, model.atm.play,\n",
    "                            model.condensing_species_params[0].Mvap/model.tracers.Mgas)\n",
    "\n",
    "fig,axs=plt.subplots(1,4,sharey=True, figsize=(7,4))  \n",
    "for label in ['conv','madj','cond','rain','tot']:\n",
    "    axs[0].plot(model.heating_rate(label)*xk.DAY/model.cp, model.atm.play, label=label)\n",
    "    axs[1].plot(model.net_flux(label), model.atm.play, label=label)\n",
    "axs[2].plot(model.atm.tlay, model.atm.play, label='Final')\n",
    "axs[3].plot(model.tracers['H2O'], model.atm.play, label='h2o')\n",
    "axs[3].plot(qsat, model.atm.play, label=r'$q_{sat}$', linestyle='--')\n",
    "for ax in axs:\n",
    "    ax.legend(fontsize='small', loc='upper right')\n",
    "    ax.set_yscale('log')\n",
    "axs[0].set_ylabel(r'Pressure')\n",
    "axs[0].set_xlabel(r'Heating (K/day)')\n",
    "axs[1].set_xlabel(r'Fluxes')\n",
    "axs[2].set_xlabel(r'T(K)')\n",
    "axs[3].set_xlabel(r'q (kg/kg)')\n",
    "axs[3].set_xscale('log')\n",
    "axs[0].invert_yaxis()\n",
    "fig.tight_layout()"
   ]
  },
  {
   "cell_type": "code",
   "execution_count": null,
   "metadata": {},
   "outputs": [],
   "source": [
    "Nlay = 50 # Number of layers\n",
    "Tsurf = 280. # K => Surface temperature\n",
    "Tstrat = 150.  # K => Temperature of the stratosphere\n",
    "psurf = 1.e5 # Pa => Surface pressure\n",
    "ptop = 10.e0 # Pa => Pressure at the model top\n",
    "grav = 9.81 # m/s^2 => Surface gravity\n",
    "rcp = 0.28 # dimless => R/cp\n",
    "Rp = None # m => Planetary radius\n",
    "albedo_surf = 0.35 # m => Surface albedo\n",
    "Tstar = 5570. # K => Stellar blackbody temperature\n",
    "flux_top_dw = 450. # W/m^2 => stellar flux at the TOA.\n",
    "\n",
    "composition = {'N2': 'background', 'CO2':0.e-6}\n",
    "\n",
    "qH2O = 0.\n",
    "\n",
    "# the tracers dictionary contains the tracers with their names and attributes.\n",
    "# Here we have two: one for water vapor and one for the condensed phase.\n",
    "# !!! The vapor one needs to have the same name as in the k_database if\n",
    "#      the user wants to include its radiative effect !!!\n",
    "tracers = {'H2O':{'type':'vapor', # a 'vapor' type specifies that it can condense\n",
    "                  'condensed_form':'H2O_liq', # if 'type'='vapor' then we need to specify the condensed form\n",
    "                  'init_value':qH2O, # optional, the initial specific concentration (in kg/kg of total gas)\n",
    "                 },\n",
    "         'H2O_liq':{'surface_reservoir': 1000.}, # The tracer for the condensed form does not need any attribute\n",
    "         }\n",
    "\n",
    "# The condensing_species dictionary captures the necessary thermodynamical \n",
    "# constant to compute the saturation curves and latent heat. \n",
    "# There needs to be as many condensing_species as there are tracers with a vapor type.\n",
    "condensing_species={'H2O':{'Latent_heat_vaporization': 2.086e6, # Latent heat at ref temperature (J/kg)\n",
    "            'cp_vap': 4.228e3, # Specific heat of the vapor (J/kg/K)\n",
    "            'Mvap': 18.e-3, # Molar mass of the vapor\n",
    "            'T_ref': 273., # Reference temperature\n",
    "            'Psat_ref': 612., # Saturation pressure at reference temeprature\n",
    "                          }}\n",
    "\n",
    "tracer_values={} # array of values for the various tracers. \n",
    "                 # It is not needed here as we start with a constant value\n",
    "                 # as specified above\n",
    "\n",
    "evol_earth = xk.Atm_evolution(Nlay=Nlay, psurf=psurf, ptop=ptop,\n",
    "             Tsurf=Tsurf, Tstrat=Tstrat,\n",
    "             grav=grav, rcp = rcp, Rp=Rp,\n",
    "             albedo_surf = albedo_surf,\n",
    "             bg_vmr = composition, # notice the change in argument name\n",
    "             k_database = k_db_LR, cia_database = cia_db_LR,\n",
    "             rayleigh = True,\n",
    "             flux_top_dw = flux_top_dw, Tstar = Tstar,\n",
    "             tracers = tracers, condensing_species = condensing_species,\n",
    "             tracer_values = tracer_values)"
   ]
  },
  {
   "cell_type": "code",
   "execution_count": null,
   "metadata": {},
   "outputs": [],
   "source": [
    "# The moist processes are turned off by default and need to be turned on\n",
    "evol_earth.set_options(convection = True, condensation = True, \n",
    "            moist_convection = True, moist_inhibition = False,\n",
    "            diffusion = True, Kzz = 1.e-2, # in m^2/s\n",
    "            rain = True,\n",
    "            acceleration_mode = 0,\n",
    "            convective_transport = True,\n",
    "            mass_redistribution = True,\n",
    "            )\n"
   ]
  },
  {
   "cell_type": "code",
   "execution_count": null,
   "metadata": {},
   "outputs": [],
   "source": [
    "model = evol_earth\n",
    "start=time.time()\n",
    "model.evolve(N_timestep=20000, timestep_factor=.1)\n",
    "time_evo = model.time_hist/(xk.DAY)\n",
    "print('evol_time (days):', time_evo[-1])\n",
    "print('last timestep:', (time_evo[-1]-time_evo[-2]),'day')\n",
    "print('Number of steps since last kernel computation:', model.N_last_ker)\n",
    "print('simulation time:',time.time()-start,'s')\n",
    "\n",
    "fig,axs=plt.subplots(2,1,sharex=True, figsize=(6,6))  \n",
    "axs[0].plot(time_evo, model.Fnet_top, label='Top of Atmosphere')\n",
    "axs[0].plot(time_evo, np.ones_like(model.Fnet_top)*0., label='internal flux')\n",
    "axs[1].plot(time_evo, model.tlay_hist[:,-1], label='internal flux')\n",
    "axs[0].set_ylabel(r'Net Flux')\n",
    "axs[1].set_ylabel(r'$T_{surf}$')\n",
    "axs[1].set_xlabel(r'Time (days)')\n",
    "axs[0].legend()\n",
    "fig.tight_layout()"
   ]
  },
  {
   "cell_type": "code",
   "execution_count": null,
   "metadata": {},
   "outputs": [],
   "source": [
    "print(model.dpsurf, model.sigma_lay*(model.atm.psurf+model.dpsurf)+model.gamma_lay)"
   ]
  },
  {
   "cell_type": "code",
   "execution_count": null,
   "metadata": {},
   "outputs": [],
   "source": [
    "print(np.sum(model.tracers.qarray[0]*model.atm.dmass) \\\n",
    "      +np.sum(model.tracers.qarray[1]*model.atm.dmass) \\\n",
    "      +model.tracers.qsurf[1])\n",
    "print(model.tracers.qsurf)\n",
    "print(model.tracers.qarray)"
   ]
  },
  {
   "cell_type": "code",
   "execution_count": null,
   "metadata": {},
   "outputs": [],
   "source": [
    "model = evol_earth\n",
    "psat = model.condensing_species_params[0].Psat(model.atm.tlay)\n",
    "qsat = model.condensing_species_params[0].qsat(psat, model.atm.play,\n",
    "                            model.condensing_species_params[0].Mvap/model.tracers.Mgas)\n",
    "\n",
    "fig,axs=plt.subplots(1,4,sharey=True, figsize=(7,4))  \n",
    "for label in ['conv','madj','cond','rain','tot']:\n",
    "    axs[0].plot(model.heating_rate(label)*xk.DAY/model.cp, model.atm.play, label=label)\n",
    "    axs[1].plot(model.net_flux(label), model.atm.play, label=label)\n",
    "axs[2].plot(model.atm.tlay, model.atm.play, label='Final')\n",
    "axs[3].plot(model.tracers['H2O'], model.atm.play, label='h2o')\n",
    "axs[3].plot(qsat, model.atm.play, label=r'$q_{sat}$', linestyle='--')\n",
    "for ax in axs:\n",
    "    ax.legend(fontsize='xx-small', loc='upper right')\n",
    "    ax.set_yscale('log')\n",
    "axs[0].set_ylabel(r'Pressure')\n",
    "axs[0].set_xlabel(r'Heating (K/day)')\n",
    "axs[1].set_xlabel(r'Fluxes')\n",
    "axs[2].set_xlabel(r'T(K)')\n",
    "axs[3].set_xlabel(r'q (kg/kg)')\n",
    "axs[3].set_xscale('log')\n",
    "axs[0].invert_yaxis()\n",
    "fig.tight_layout()"
   ]
  },
  {
   "cell_type": "code",
   "execution_count": null,
   "metadata": {},
   "outputs": [],
   "source": [
    "Fup_emis, Fdw_emis, Fnet_emis, H_emis,\\\n",
    " Fup_stel, Fdw_stel, Fnet_stel, H_stel = evol_earth.atm.bolometric_fluxes_2band(rayleigh=True)"
   ]
  },
  {
   "cell_type": "code",
   "execution_count": null,
   "metadata": {
    "scrolled": true
   },
   "outputs": [],
   "source": [
    "atm = evol_earth.atm\n",
    "fig,axs=plt.subplots(1,3,sharey=True)\n",
    "axs[0].set_yscale('log')\n",
    "axs[0].plot(H_stel, atm.play, label='Stellar')\n",
    "axs[0].plot(H_emis, atm.play, label='Emis', linestyle='--')\n",
    "axs[1].plot(Fdw_stel, atm.play, label='Stellar down')\n",
    "axs[1].plot(Fup_stel, atm.play, label='Stellar up', linestyle='--')\n",
    "axs[1].plot(Fdw_emis, atm.play, label='Emis down')\n",
    "axs[1].plot(Fup_emis, atm.play, label='Emis up', linestyle='--')\n",
    "axs[2].plot(Fnet_stel, atm.play, label='Stellar net')\n",
    "axs[2].plot(Fnet_emis, atm.play, label='Emis net', linestyle='--')\n",
    "axs[0].set_xlabel('Heating Rate (W/kg)')\n",
    "axs[1].set_xlabel(r'Flux (W/m$^2$)')\n",
    "axs[2].set_xlabel('Temperature (K)')\n",
    "axs[0].set_ylabel('Pressure (Pa)')\n",
    "axs[0].legend(loc='upper left', fontsize='small')\n",
    "axs[1].legend(loc='best', fontsize='small')\n",
    "axs[2].legend(loc='best', fontsize='small')\n",
    "axs[0].set_xlim((-0.3,0.3))\n",
    "axs[0].invert_yaxis()\n",
    "fig.tight_layout()"
   ]
  },
  {
   "cell_type": "code",
   "execution_count": null,
   "metadata": {},
   "outputs": [],
   "source": [
    "model.atm.psurf"
   ]
  },
  {
   "cell_type": "code",
   "execution_count": null,
   "metadata": {},
   "outputs": [],
   "source": [
    "model.heating_rate('madj')"
   ]
  },
  {
   "cell_type": "code",
   "execution_count": null,
   "metadata": {},
   "outputs": [],
   "source": []
  }
 ],
 "metadata": {
  "celltoolbar": "Initialization Cell",
  "kernelspec": {
   "display_name": "Python 3 (ipykernel)",
   "language": "python",
   "name": "python3"
  },
  "language_info": {
   "codemirror_mode": {
    "name": "ipython",
    "version": 3
   },
   "file_extension": ".py",
   "mimetype": "text/x-python",
   "name": "python",
   "nbconvert_exporter": "python",
   "pygments_lexer": "ipython3",
   "version": "3.7.11"
  },
  "toc": {
   "base_numbering": 1,
   "nav_menu": {},
   "number_sections": true,
   "sideBar": true,
   "skip_h1_title": false,
   "title_cell": "Table of Contents",
   "title_sidebar": "Contents",
   "toc_cell": false,
   "toc_position": {
    "height": "calc(100% - 180px)",
    "left": "10px",
    "top": "150px",
    "width": "256px"
   },
   "toc_section_display": true,
   "toc_window_display": false
  }
 },
 "nbformat": 4,
 "nbformat_minor": 2
}
