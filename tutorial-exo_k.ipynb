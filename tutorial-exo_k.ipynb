{
 "cells": [
  {
   "cell_type": "markdown",
   "metadata": {},
   "source": [
    "# <span style=\"color:blue\">First steps with `exo_k`</span>\n",
    "\n",
    "*Author: Jeremy Leconte (CNRS/LAB/Univ. Bordeaux)*\n",
    "\n",
    "The goal of `exo_k` is to provide a library to:\n",
    "\n",
    "* Interpolate efficiently and easily in correlated-k and cross section tables\n",
    "* Convert easily correlated-k and cross section tables from one format to another (pickle, hdf5, LMDZ GCM format).\n",
    "* Adapt precomputed correlated-k tables to your need:\n",
    "  * by changing the resolution\n",
    "  * by changing the pressure/temperature grid\n",
    "* To create tables for a mix of gases using tables for individual gases.\n",
    "* Test various assumptions in an integrated radiative transfer framework.\n",
    "  \n",
    "This tutorial will show you how to do all that.\n",
    "\n"
   ]
  },
  {
   "cell_type": "markdown",
   "metadata": {},
   "source": [
    "## Initialization"
   ]
  },
  {
   "cell_type": "markdown",
   "metadata": {},
   "source": [
    "First, let's make some common initializations.   \n",
    "We also import our library: `exo_k`. For this to work, you need to have installed the library by typing\n",
    "```pip install -e .```\n",
    "at the root of exo_k directory (the location where you first saw this tutorial)."
   ]
  },
  {
   "cell_type": "code",
   "execution_count": 1,
   "metadata": {
    "init_cell": true
   },
   "outputs": [],
   "source": [
    "import exo_k\n",
    "import numpy as np\n",
    "import matplotlib.pyplot as plt\n",
    "import astropy.units as u\n",
    "plt.rcParams[\"figure.figsize\"] = (6,3)\n",
    "import time,sys,os"
   ]
  },
  {
   "cell_type": "code",
   "execution_count": 2,
   "metadata": {
    "init_cell": true
   },
   "outputs": [],
   "source": [
    "# Uncomment the line below if you want to enable interactive plots\n",
    "# %matplotlib notebook"
   ]
  },
  {
   "cell_type": "markdown",
   "metadata": {},
   "source": [
    "## Documentation"
   ]
  },
  {
   "cell_type": "markdown",
   "metadata": {},
   "source": [
    "The documentation in html form can be found at http://perso.astrophy.u-bordeaux.fr/~jleconte/exo_k-doc/index.html\n",
    "\n",
    "To access it through a python interface, just run the following line for any class, function, etc.:"
   ]
  },
  {
   "cell_type": "code",
   "execution_count": null,
   "metadata": {},
   "outputs": [],
   "source": [
    "help(exo_k.Ktable().bin_down)"
   ]
  },
  {
   "cell_type": "markdown",
   "metadata": {},
   "source": [
    "# <span style=\"color:blue\">Dealing with `Ktable()` objects</span>"
   ]
  },
  {
   "cell_type": "markdown",
   "metadata": {},
   "source": [
    "## Loading a `Ktable()` object"
   ]
  },
  {
   "cell_type": "markdown",
   "metadata": {},
   "source": [
    "For this tutorial to work, you should launch this notebook from a base_directory that contains a `data/corrk/` directory where your correlated k files are storred. A directory with some sample files can be downloaded at the following url:\n",
    "\n",
    "`https://mycore.core-cloud.net/index.php/s/w2cHuigAiwcfBVW`"
   ]
  },
  {
   "cell_type": "markdown",
   "metadata": {},
   "source": [
    "### Loading a Ktable from an exomol-like pickle or hdf5 file "
   ]
  },
  {
   "cell_type": "markdown",
   "metadata": {},
   "source": [
    "One of the main objects we will deal with is the `Ktable()` object. This contains a big matrix with k-coefficients for a species or a mix of species along with all the needed supporting information such as the Pressure, Temperature, wavenumber, g grids onto which the k-coefficients have been computed.  \n",
    "\n",
    "To instentiate a `Ktable()` object from an exomol-like pickle, just run:"
   ]
  },
  {
   "cell_type": "code",
   "execution_count": null,
   "metadata": {
    "code_folding": []
   },
   "outputs": [],
   "source": [
    "h2o_ktab=exo_k.Ktable(filename='data/corrk/H2O_R300_0.3-50mu.ktable.TauREx.pickle')\n",
    "print(h2o_ktab)"
   ]
  },
  {
   "cell_type": "markdown",
   "metadata": {},
   "source": [
    "### Managing Units"
   ]
  },
  {
   "cell_type": "markdown",
   "metadata": {},
   "source": [
    "#### Tracking units\n",
    "\n",
    "Except for self-defining formats (such as hdf5), most formats handled by `exo_k` do not carry the information on units with them (Exo_transmit, HITRAN .cia, etc.).\n",
    "\n",
    "However, previous experience has shown us that tracking units is essential to avoid errors and working with SI units is recommended when possible. \n",
    "\n",
    "For this reason, the units for pressure, kdata, and wavenumbers are kept as attributes of any Ktable object. They can be seen by printing the object (as above).\n",
    "If the input format is self-defining (e.g. hdf5) the units are read in the file. For all the other formats, the units are assumed to always be the same and have been inferred from reading the codes using these formats and their documentation (see http://perso.astrophy.u-bordeaux.fr/~jleconte/exo_k-doc/units.html for some examples)."
   ]
  },
  {
   "cell_type": "markdown",
   "metadata": {},
   "source": [
    "#### Overriding default units in a file\n",
    "\n",
    "If for some reason you know that the units used in a given input file are different from the default ones,\n",
    "you can always override the default units by explicitly stating what are the pressure (`file_p_unit` keyword) and k-coefficient (`file_kdata_unit` keyword) units.\n",
    "\n",
    "Let's say, for example, that you know the pressures in the above file where in fact given in mbar, you could specify it using"
   ]
  },
  {
   "cell_type": "code",
   "execution_count": null,
   "metadata": {},
   "outputs": [],
   "source": [
    "exo_k.Ktable(filename='data/corrk/H2O_R300_0.3-50mu.ktable.TauREx.pickle', file_p_unit='mbar')"
   ]
  },
  {
   "cell_type": "markdown",
   "metadata": {},
   "source": [
    "Notice how the code pressure unit as changed, but not the actual values in the pressure grid. This is normal, you did not ask a conversion, you just specified what units you were expecting from the file. "
   ]
  },
  {
   "cell_type": "markdown",
   "metadata": {},
   "source": [
    "#### Converting to new units\n",
    "\n",
    "To control the unit we want to work with, we just need to specify what units we want with the `p_unit` and `kdata_unit` keywords.\n",
    "\n",
    "These keywords accept string input with units recognized by the `astropy.units` library such as 'Pa','mbar', and 'bar' for pressure and e.g. 'm^2' and 'cm^2' for k-coefficients. \n",
    "\n",
    "Note that k-coefficients are '/molecule' (or '/molec'), but this is not a proper unit. So you do not need to specify 'm^2/molec', for example. Opacities per 'moles' or 'kg' are not supported at the moment.\n",
    "\n",
    "So to use SI units, just reload your ktable as follows. Note that you can also force SI units to be used with the global option to be set once and for all.\n",
    "```python\n",
    "exo_k.Settings().set_mks(True)\n",
    "```"
   ]
  },
  {
   "cell_type": "code",
   "execution_count": null,
   "metadata": {},
   "outputs": [],
   "source": [
    "h2o_ktab_SI=exo_k.Ktable(filename='data/corrk/H2O_R300_0.3-50mu.ktable.TauREx.pickle',\n",
    "                         kdata_unit='m^2', p_unit='Pa')\n",
    "# or simply\n",
    "exo_k.Settings().set_mks(True)\n",
    "h2o_ktab_SI=exo_k.Ktable(filename='data/corrk/H2O_R300_0.3-50mu.ktable.TauREx.pickle')\n",
    "print(h2o_ktab_SI)"
   ]
  },
  {
   "cell_type": "markdown",
   "metadata": {},
   "source": [
    "Now both the pressure unit and the the pressure grid have changed!"
   ]
  },
  {
   "cell_type": "markdown",
   "metadata": {},
   "source": [
    "### Setting up the search path"
   ]
  },
  {
   "cell_type": "markdown",
   "metadata": {},
   "source": [
    "At some point you might get tired of always typing the whole path to your files. To avoid that, we can tell `exo_k` where to look for files. By default, it searches the base_directory, as can be seen by running:"
   ]
  },
  {
   "cell_type": "code",
   "execution_count": null,
   "metadata": {},
   "outputs": [],
   "source": [
    "exo_k.Settings().search_path()"
   ]
  },
  {
   "cell_type": "markdown",
   "metadata": {},
   "source": [
    "A new path can be added to the search path as follows"
   ]
  },
  {
   "cell_type": "code",
   "execution_count": 3,
   "metadata": {
    "init_cell": true
   },
   "outputs": [
    {
     "data": {
      "text/plain": [
       "['/Users/jleconte/atmosphere/RadiativeTransfer/exo_k',\n",
       " '/Users/jleconte/atmosphere/RadiativeTransfer/exo_k/data/xsec',\n",
       " '/Users/jleconte/atmosphere/RadiativeTransfer/exo_k/data/corrk',\n",
       " '/Users/jleconte/atmosphere/RadiativeTransfer/exo_k/data/cia']"
      ]
     },
     "execution_count": 3,
     "metadata": {},
     "output_type": "execute_result"
    }
   ],
   "source": [
    "exo_k.Settings().add_search_path('data/xsec','data/corrk','data/cia')\n",
    "exo_k.Settings().search_path()"
   ]
  },
  {
   "cell_type": "markdown",
   "metadata": {},
   "source": [
    "If you do not want to add a path, but to reset the path (in order for exo_k not to see some files in the base_directory for example), you can do it as follows:"
   ]
  },
  {
   "cell_type": "code",
   "execution_count": null,
   "metadata": {},
   "outputs": [],
   "source": [
    "exo_k.Settings().set_search_path('data/corrk')\n",
    "exo_k.Settings().search_path()"
   ]
  },
  {
   "cell_type": "markdown",
   "metadata": {},
   "source": [
    "Notice that these methods can take as many directories as you want following one of the syntaxes below"
   ]
  },
  {
   "cell_type": "code",
   "execution_count": null,
   "metadata": {},
   "outputs": [],
   "source": [
    "exo_k.Settings().set_search_path('.','data/xsec','data/corrk','data/cia')\n",
    "print(exo_k.Settings().search_path())\n",
    "exo_k.Settings().set_search_path(*['.','data/xsec','data/corrk','data/cia'])\n",
    "print(exo_k.Settings().search_path())\n",
    "exo_k.Settings().set_search_path(*('.','data/xsec','data/corrk','data/cia'))\n",
    "print(exo_k.Settings().search_path())"
   ]
  },
  {
   "cell_type": "markdown",
   "metadata": {},
   "source": [
    "Once we have done that, we can only give part of the name of the file, possibly in bits and pieces, as long as it is specific enouh to identify a unique file."
   ]
  },
  {
   "cell_type": "code",
   "execution_count": null,
   "metadata": {},
   "outputs": [],
   "source": [
    "h2o_ktab_SI=exo_k.Ktable('H2O_R300_0.3-50mu.ktable.TauREx',\n",
    "                      old_kdata_unit='cm^2',old_p_unit='bar')\n",
    "print('file found:',h2o_ktab_SI.filename)\n",
    "\n",
    "h2o_ktab_SI=exo_k.Ktable('H2O','R300*TauREx',\n",
    "                      old_kdata_unit='cm^2',old_p_unit='bar')\n",
    "print('file found:',h2o_ktab_SI.filename)"
   ]
  },
  {
   "cell_type": "markdown",
   "metadata": {},
   "source": [
    "### Saving a Ktable to a pickle or hdf5 file "
   ]
  },
  {
   "cell_type": "markdown",
   "metadata": {},
   "source": [
    "To save any `Ktable()` object to a pickle or hdf5 file, just use `write_pickle()` or `write_hdf5()`.\n",
    "Notice that the full path (relative or absolute) must be provided, except for the file extension that will be added automatically. Here we will write an hdf5 file (more optimal than pickle)"
   ]
  },
  {
   "cell_type": "code",
   "execution_count": null,
   "metadata": {},
   "outputs": [],
   "source": [
    "h2o_ktab_SI=exo_k.Ktable('H2O_R300_0.3-50mu.ktable.TauREx', kdata_unit='m^2', p_unit='Pa')\n",
    "h2o_ktab_SI.write_hdf5('data/corrk/H2O_R300_0.3-50mu.ktable.SI')"
   ]
  },
  {
   "cell_type": "markdown",
   "metadata": {},
   "source": [
    "This new file has saved the unit information. So now, it can be loaded with only:"
   ]
  },
  {
   "cell_type": "code",
   "execution_count": 4,
   "metadata": {
    "init_cell": true
   },
   "outputs": [
    {
     "data": {
      "text/plain": [
       "\n",
       "        file         : /Users/jleconte/atmosphere/RadiativeTransfer/exo_k/data/corrk/H2O_R300_0.3-50mu.ktable.SI.hdf5\n",
       "        molecule     : H2O\n",
       "        p grid       : [1.00000000e+00 2.15443469e+00 4.64158883e+00 1.00000000e+01\n",
       " 2.15443469e+01 4.64158883e+01 1.00000000e+02 2.15443469e+02\n",
       " 4.64158883e+02 1.00000000e+03 2.15443469e+03 4.64158883e+03\n",
       " 1.00000000e+04 2.15443469e+04 4.64158883e+04 1.00000000e+05\n",
       " 2.15443469e+05 4.64158883e+05 1.00000000e+06 2.15443469e+06\n",
       " 4.64158883e+06 1.00000000e+07]\n",
       "        p unit       : Pa\n",
       "        t grid   (K) : [ 100.  200.  300.  400.  500.  600.  700.  800.  900. 1000. 1100. 1200.\n",
       " 1300. 1400. 1500. 1600. 1700. 1800. 1900. 2000. 2200. 2400. 2600. 2800.\n",
       " 3000. 3200. 3400.]\n",
       "        wn grid      : [  199.90345491   200.56979976   201.23836576 ... 33057.12210094\n",
       " 33167.31250795 33277.87021631]\n",
       "        wn unit      : cm^-1\n",
       "        kdata unit   : m^2/molecule\n",
       "        weights      : [0.008807   0.02030071 0.03133602 0.04163837 0.05096506 0.05909727\n",
       " 0.06584432 0.07104805 0.07458649 0.07637669 0.07637669 0.07458649\n",
       " 0.07104805 0.06584432 0.05909727 0.05096506 0.04163837 0.03133602\n",
       " 0.02030071 0.008807  ]\n",
       "        data oredered following p, t, wn, g\n",
       "        shape        : [  22   27 1538   20]\n",
       "        "
      ]
     },
     "execution_count": 4,
     "metadata": {},
     "output_type": "execute_result"
    }
   ],
   "source": [
    "h2o_ktab_SI=exo_k.Ktable('H2O_R300_0.3-50mu.ktable.SI')\n",
    "h2o_ktab_SI"
   ]
  },
  {
   "cell_type": "markdown",
   "metadata": {},
   "source": [
    "### What is inside a Ktable object"
   ]
  },
  {
   "cell_type": "markdown",
   "metadata": {},
   "source": [
    "To see what is inside a `Ktable()` object, you can list the attributes using `__dict__`"
   ]
  },
  {
   "cell_type": "markdown",
   "metadata": {},
   "source": [
    "**Although you can access and see these attributes, they should NOT be changed manually as changing one of them usually implies that others need to be changed too. There is a method to change all the attributes that can possibly be changed.**"
   ]
  },
  {
   "cell_type": "markdown",
   "metadata": {},
   "source": [
    "The most useful attributes are the following:  \n",
    " 'mol', Name of the mol described  \n",
    "'Ng', Number of g points  \n",
    " 'filename',  Name of the file used to load the Ktable  \n",
    " 'ggrid', Abscissa of the g grid  \n",
    " 'weights', quadrature weights corresponding to the g points\n",
    " 'kdata', Numpy array with the coeficients\n",
    " 'kdata_unit', Units of the kdata  \n",
    " 'pgrid', pressure grid  \n",
    " 'logpgrid', Log 10 of the pressure grid  \n",
    " 'Np', Number of pressure points  \n",
    " 'p_unit', Units of the pressure grid  \n",
    " 'tgrid', Temperature grid  \n",
    " 'Nt', Number of Temperature points  \n",
    " 'wns', Central points of the wavenumber bins (in cm^-1)  \n",
    " 'wnedges', Edges of the wavenumber bins (in cm^-1)  \n",
    " 'wls', Wavelengths (10000./wns in microns)  \n",
    " 'wledges', Wavelengths (10000./wnedges in microns)  \n",
    " 'Nw', Number of wavenumber points  \n",
    " 'shape', shape of the kdata array  \n"
   ]
  },
  {
   "cell_type": "code",
   "execution_count": null,
   "metadata": {},
   "outputs": [],
   "source": [
    "print(h2o_ktab_SI.mol)\n",
    "print(h2o_ktab_SI.pgrid)"
   ]
  },
  {
   "cell_type": "markdown",
   "metadata": {},
   "source": [
    "the data themselves can also be accessed directly as follows (but they cannot be modified this way):"
   ]
  },
  {
   "cell_type": "code",
   "execution_count": null,
   "metadata": {},
   "outputs": [],
   "source": [
    "print(h2o_ktab_SI.kdata[0,0,0,:])\n",
    "print(h2o_ktab_SI[0,0,0,:])"
   ]
  },
  {
   "cell_type": "raw",
   "metadata": {},
   "source": [
    "h2o_ktab_SI.__dict__"
   ]
  },
  {
   "cell_type": "markdown",
   "metadata": {},
   "source": [
    "### Handling zeros"
   ]
  },
  {
   "cell_type": "markdown",
   "metadata": {},
   "source": [
    "At wavelengths where data are not available, the ktable can be filled with zeros that can become a problem for some codes (e.g. because of log interpolation).  \n",
    "\n",
    "If you want to avoid that, we have created the `remove_zeros=True` option that will replace zeros with a number 10 orders of magnitude smaller than the smallest number in the table. \n",
    "```python\n",
    "h2o_ktab_SI=exo_k.Ktable(filename,remove_zeros=True,**kwargs)\n",
    "```\n",
    "You can also call manually the `remove_zeros()` method on a `Ktable()`object. "
   ]
  },
  {
   "cell_type": "markdown",
   "metadata": {},
   "source": [
    "### Copying a Ktable object"
   ]
  },
  {
   "cell_type": "markdown",
   "metadata": {},
   "source": [
    "If for some reason, as we will do below, you need to copy a Ktable object before modifying it inplace (to change resolution for example), you can use the `copy` method, that is a bit like the deep copy in `numpy`."
   ]
  },
  {
   "cell_type": "code",
   "execution_count": null,
   "metadata": {},
   "outputs": [],
   "source": [
    "new_h2o_ktab=h2o_ktab_SI.copy()\n",
    "new_h2o_ktab"
   ]
  },
  {
   "cell_type": "markdown",
   "metadata": {},
   "source": [
    "Sometimes one needs to copy only the structure and metadata, but not the big `self.kdata` table. Then, you can use:\n",
    "```\n",
    "new_h2o_ktab=h2o_ktab_SI.copy(cp_kdata=False)\n",
    "```"
   ]
  },
  {
   "cell_type": "markdown",
   "metadata": {},
   "source": [
    "## Interpolating opacities"
   ]
  },
  {
   "cell_type": "markdown",
   "metadata": {},
   "source": [
    "### Basic interpolation "
   ]
  },
  {
   "cell_type": "markdown",
   "metadata": {},
   "source": [
    "To get the value of the cross section of the molecule or mix described by our `Ktable()` object, we can use:\n",
    "\n",
    "```python\n",
    "self.interpolate_kdata(logp_array=None,t_array=None,log_interp=None,wngrid_limit=None)\n",
    "```\n",
    "This returns the cross section of the molecule along a LogP-T profile specified by `logp_array` and `t_array`. This returns an array of shape `(logp_array.size, self.Nw, self.Ng)`,  i.e (number of PT points, number of wavenumber points, number of g-points). `logp_array`and `t_array`must have the same size.  \n",
    "\n",
    "It also works if `logp_array` and/or `t_array` are `floats`\n",
    "    \n",
    "**Notice that the input is always in Log10(Pressure) because this is the quantity used for the interpolation**"
   ]
  },
  {
   "cell_type": "code",
   "execution_count": null,
   "metadata": {},
   "outputs": [],
   "source": [
    "logp=3.\n",
    "Temp=1000.\n",
    "tmp_opa=h2o_ktab_SI.interpolate_kdata(logp,Temp)\n",
    "print(tmp_opa.shape)\n",
    "print(tmp_opa)"
   ]
  },
  {
   "cell_type": "code",
   "execution_count": null,
   "metadata": {},
   "outputs": [],
   "source": [
    "logp_array=np.linspace(1.,6.,6)\n",
    "t_array=[1000. for logp in logp_array]\n",
    "tmp_opa=h2o_ktab_SI.interpolate_kdata(logp_array,t_array)\n",
    "print(tmp_opa.shape)"
   ]
  },
  {
   "cell_type": "markdown",
   "metadata": {},
   "source": [
    "### Interpolation options"
   ]
  },
  {
   "cell_type": "markdown",
   "metadata": {},
   "source": [
    "The default interpolation scheme interpolates `log(kdata)`. This can be changed directly using the `log_interp=False` keyword. But the default behavior can also be changed using `Settings().set_log_interp`. The keyword always supercedes the default behavior."
   ]
  },
  {
   "cell_type": "code",
   "execution_count": null,
   "metadata": {},
   "outputs": [],
   "source": [
    "logp=3.\n",
    "Temp=1000.\n",
    "tmp_opa_lin1=h2o_ktab_SI.interpolate_kdata(logp,Temp,log_interp=False)"
   ]
  },
  {
   "cell_type": "code",
   "execution_count": null,
   "metadata": {},
   "outputs": [],
   "source": [
    "exo_k.Settings().set_log_interp(False)\n",
    "logp=3.\n",
    "Temp=1000.\n",
    "tmp_opa_lin2=h2o_ktab_SI.interpolate_kdata(logp,Temp)\n",
    "np.sum(tmp_opa_lin2-tmp_opa_lin1)\n",
    "exo_k.Settings().set_log_interp(True) ## let's go back to default behavior"
   ]
  },
  {
   "cell_type": "markdown",
   "metadata": {},
   "source": [
    "Linear interpolation is of course faster, but is believed to be less accurate. "
   ]
  },
  {
   "cell_type": "code",
   "execution_count": null,
   "metadata": {},
   "outputs": [],
   "source": [
    "logp=3.\n",
    "Temp=1000.\n",
    "%timeit h2o_ktab_SI.interpolate_kdata(logp,Temp,log_interp=True)\n",
    "%timeit h2o_ktab_SI.interpolate_kdata(logp,Temp,log_interp=False)"
   ]
  },
  {
   "cell_type": "markdown",
   "metadata": {},
   "source": [
    "If we just want a part of the spectrum, we can specify a **wavenumber** range (in cm^-1) to cover as follows.   \n",
    "You can see that it goes much faster."
   ]
  },
  {
   "cell_type": "code",
   "execution_count": null,
   "metadata": {},
   "outputs": [],
   "source": [
    "logp=3.\n",
    "Temp=1000.\n",
    "wn_range=[6000.,5000.] # does not need to be sorted\n",
    "%timeit h2o_ktab_SI.interpolate_kdata(logp,Temp,wngrid_limit=wn_range,log_interp=True)\n",
    "%timeit h2o_ktab_SI.interpolate_kdata(logp,Temp,wngrid_limit=wn_range,log_interp=False)\n",
    "tmp_opa=h2o_ktab_SI.interpolate_kdata(logp,Temp,wngrid_limit=wn_range)\n",
    "print(tmp_opa.shape)\n",
    "print(tmp_opa)"
   ]
  },
  {
   "cell_type": "markdown",
   "metadata": {},
   "source": [
    "### (Log P, T) grid Remapping "
   ]
  },
  {
   "cell_type": "markdown",
   "metadata": {},
   "source": [
    "If for computational efficiency reason we just want to use a subset of the (Log P, T) grid, we can remap the table. This will modify the Table in place. So we might want to make a copy before."
   ]
  },
  {
   "cell_type": "code",
   "execution_count": null,
   "metadata": {},
   "outputs": [],
   "source": [
    "Small_Grid_h2o_ktab=h2o_ktab_SI.copy()\n",
    "logp_array=np.arange(6.)\n",
    "t_array=np.linspace(200.,1000.,9)\n",
    "\n",
    "Small_Grid_h2o_ktab.remap_logPT(logp_array=logp_array,t_array=t_array)\n",
    "Small_Grid_h2o_ktab"
   ]
  },
  {
   "cell_type": "markdown",
   "metadata": {},
   "source": [
    "### Plot an opacity spectrum/distribution"
   ]
  },
  {
   "cell_type": "markdown",
   "metadata": {},
   "source": [
    "To help you vizualize opacities, the  \n",
    "```python\n",
    "plot_spectrum(self,ax,p=1.e-5,t=200.,g=0.,logx=True,logy=True,x=1.,**kwarg)\n",
    "```\n",
    "method is there to make it easy to plot at the requested p,T,g point. You can also normalize the cross section \n",
    "with the volume mixing ratio of the species with the `x=vmr` keyword."
   ]
  },
  {
   "cell_type": "code",
   "execution_count": null,
   "metadata": {
    "scrolled": true
   },
   "outputs": [],
   "source": [
    "# %matplotlib notebook\n",
    "p_plot=1.e5\n",
    "t_plot=1000.\n",
    "fig,axs=plt.subplots(2,2,sharex=False,sharey=False,figsize=(7,5))\n",
    "h2o_ktab_SI.plot_spectrum(axs[0,0],p=p_plot,t=t_plot,g=1.,yscale='log',xscale='log',label='g=1')\n",
    "h2o_ktab_SI.plot_spectrum(axs[0,0],p=p_plot,t=t_plot,g=0.,yscale='log',xscale='log',label='g=0')\n",
    "axs[0, 0].set_title('Log-Log')\n",
    "h2o_ktab_SI.plot_spectrum(axs[1,0],p=p_plot,t=t_plot,g=1.,xscale='log',label='g=1')\n",
    "h2o_ktab_SI.plot_spectrum(axs[1,0],p=p_plot,t=t_plot,g=0.,xscale='log',label='g=0')\n",
    "axs[1, 0].set_title('Lin-Log')\n",
    "h2o_ktab_SI.plot_spectrum(axs[0,1],p=p_plot,t=t_plot,g=1.,yscale='log',label='g=1')\n",
    "h2o_ktab_SI.plot_spectrum(axs[0,1],p=p_plot,t=t_plot,g=0.,yscale='log',label='g=0')\n",
    "axs[0, 1].set_title('Log-Lin')\n",
    "h2o_ktab_SI.plot_spectrum(axs[1,1],p=p_plot,t=t_plot,g=1.,label='g=1')\n",
    "h2o_ktab_SI.plot_spectrum(axs[1,1],p=p_plot,t=t_plot,g=0.,label='g=0')\n",
    "axs[1, 1].set_title('Lin-Lin')\n",
    "for axs in axs:\n",
    "    for ax in axs:\n",
    "        ax.legend()\n",
    "#ax.set_ylim(bottom=1.e-37)\n",
    "fig.tight_layout()"
   ]
  },
  {
   "cell_type": "markdown",
   "metadata": {},
   "source": [
    "The g gistribution is shown with `plot_distrib`. Notice that when you ask for a log scale in g, we switch to 1-g as it is the most relevant quantity to look at in log."
   ]
  },
  {
   "cell_type": "code",
   "execution_count": null,
   "metadata": {
    "scrolled": true
   },
   "outputs": [],
   "source": [
    "p_plot=1.e5\n",
    "t_plot=1000.\n",
    "fig,axs=plt.subplots(2,2,sharex=False,sharey=False,figsize=(7,5))\n",
    "h2o_ktab_SI.plot_distrib(axs[0,0],p=p_plot,t=t_plot,wl=1.0,yscale='log',xscale='log',label='$\\lambda=1\\mu$m')\n",
    "h2o_ktab_SI.plot_distrib(axs[0,0],p=p_plot,t=t_plot,wl=10.,yscale='log',xscale='log',label='$\\lambda=10\\mu$m')\n",
    "h2o_ktab_SI.plot_distrib(axs[1,0],p=p_plot,t=t_plot,wl=1.0,xscale='log',label='$\\lambda=1\\mu$m')\n",
    "h2o_ktab_SI.plot_distrib(axs[1,0],p=p_plot,t=t_plot,wl=10.,xscale='log',label='$\\lambda=10\\mu$m')\n",
    "h2o_ktab_SI.plot_distrib(axs[0,1],p=p_plot,t=t_plot,wl=1.0,yscale='log',label='$\\lambda=1\\mu$m')\n",
    "h2o_ktab_SI.plot_distrib(axs[0,1],p=p_plot,t=t_plot,wl=10.,yscale='log',label='$\\lambda=10\\mu$m')\n",
    "h2o_ktab_SI.plot_distrib(axs[1,1],p=p_plot,t=t_plot,wl=1.0,label='$\\lambda=1\\mu$m')\n",
    "h2o_ktab_SI.plot_distrib(axs[1,1],p=p_plot,t=t_plot,wl=10.,label='$\\lambda=10\\mu$m')\n",
    "for axs in axs:\n",
    "    for ax in axs:\n",
    "        ax.legend()\n",
    "#ax.set_ylim(bottom=1.e-37)\n",
    "fig.tight_layout()"
   ]
  },
  {
   "cell_type": "markdown",
   "metadata": {},
   "source": [
    "## Binning down corr-k data"
   ]
  },
  {
   "cell_type": "markdown",
   "metadata": {},
   "source": [
    "We now get to the core feature of `exo_k`: we want to create a new `Ktable()` object with just the spectral resolution we need in the model we want to run (whether it is a Global Climate Model, a 1D climate model, or a simple forward model for a retrieval).  \n",
    "\n",
    "You first need to provide a grid, `wnedges`, containing the edges of the new wavenumber bins. So the final Ktable will have a spectral dimension with size `wnedges.size-1`.\n",
    "\n",
    "You can of course provide any custom grid you want. But if you want a grid at fixed resolution you can use the following\n",
    "```python\n",
    "exo_k.wavenumber_grid_R(min_wavenumber, max_wavenumber, R)\n",
    "```\n",
    "where $R=\\frac{\\nu}{\\delta \\nu}$."
   ]
  },
  {
   "cell_type": "code",
   "execution_count": null,
   "metadata": {},
   "outputs": [],
   "source": [
    "R=10\n",
    "wavenumber_grid=exo_k.wavenumber_grid_R(200.,10000.,R)\n",
    "wavenumber_grid"
   ]
  },
  {
   "cell_type": "markdown",
   "metadata": {},
   "source": [
    "Then we just need to use the `bin_down(wnedges)` method. However, bin_down modifies the `Ktable()` in place. So again, if we want to keep the original one in memory, we just copy it or use `bin_down_cp`.  \n",
    "\n",
    "Optional keywords can be `weights=` and `ggrid=` where you can provide the weights you want (and in some cases the corresponding g points). In general, for an LMDZ user, just input the values inside g.dat (except for the final zero) in a `w_array`, and use `weights=w_array`.\n",
    "\n",
    "It should only take a few seconds. (However, the bigger the final resolution wanted, the longer it takes)."
   ]
  },
  {
   "cell_type": "code",
   "execution_count": null,
   "metadata": {},
   "outputs": [],
   "source": [
    "start=time.time()\n",
    "LowRes_h2o_ktab=h2o_ktab_SI.bin_down_cp(wavenumber_grid)\n",
    "end=time.time()\n",
    "print('computation time=',end-start)\n",
    "LowRes_h2o_ktab"
   ]
  },
  {
   "cell_type": "code",
   "execution_count": null,
   "metadata": {},
   "outputs": [],
   "source": [
    "p_plot=1.e0\n",
    "t_plot=300.\n",
    "fig,axs=plt.subplots(1,2,sharex=False,sharey=False)\n",
    "h2o_ktab_SI.plot_spectrum(axs[0],p=p_plot,t=t_plot,g=1.,yscale='log',xscale='log',label='Original data')\n",
    "LowRes_h2o_ktab.plot_spectrum(axs[0],p=p_plot,t=t_plot,g=1.,label='Binned data')\n",
    "h2o_ktab_SI.plot_spectrum(axs[1],p=p_plot,t=t_plot,g=1.,yscale='log',xscale='log',label='Original data')\n",
    "LowRes_h2o_ktab.plot_spectrum(axs[1],p=p_plot,t=t_plot,g=1.,label='Binned data')\n",
    "axs[1].set_xlim(left=1.,right=6.)\n",
    "axs[1].set_xscale('linear')\n",
    "for ax in axs:\n",
    "    ax.legend()\n",
    "fig.tight_layout()"
   ]
  },
  {
   "cell_type": "markdown",
   "metadata": {},
   "source": [
    "# <span style=\"color:blue\">Dealing with mixes: The `Kdatabase()` object </span>"
   ]
  },
  {
   "cell_type": "markdown",
   "metadata": {},
   "source": [
    "## Loading a `Kdatabase()` object"
   ]
  },
  {
   "cell_type": "markdown",
   "metadata": {},
   "source": [
    "A `Kdatabase()` object mainly contains a dictionary of `Ktable()` objects identified by the name of their molecule (in the attribute `self.ktables`, but they can be accessed with `self['mol_name']`). In addition, most of the attributes of the `Ktable()` are reloaded as attributes of `Kdatabase()`.\n",
    "\n",
    "To load a database, just specify a list of molecules and a string filter that is common to all your filenames."
   ]
  },
  {
   "cell_type": "code",
   "execution_count": null,
   "metadata": {},
   "outputs": [],
   "source": [
    "molecs=['H2O','CO2']\n",
    "filt='R300_0.3-50mu.ktable.SI'\n",
    "database=exo_k.Kdatabase(molecs,filt)\n",
    "database"
   ]
  },
  {
   "cell_type": "markdown",
   "metadata": {},
   "source": [
    "It will look for files starting with the molecule names, followed by `_`, and containing the filter.\n",
    "\n",
    "If you want the moleculer name to be followed by something else than `_` (say a period), then just change the setting by typing \n",
    "```python\n",
    "exo_k.Settings().set_delimiter('.')\n",
    "```\n",
    "\n",
    "Of course, this is unpractical when you do not have a homogeneous set of Ktables to start with. Then you can just feed a dictionary of molecules with the associated files path."
   ]
  },
  {
   "cell_type": "code",
   "execution_count": null,
   "metadata": {},
   "outputs": [],
   "source": [
    "database=exo_k.Kdatabase({'H2O':'data/corrk/H2O_R300_0.3-50mu.ktable.SI.hdf5',\n",
    "                          'CO2':'data/corrk/CO2_R300_0.3-50mu.ktable.SI.pickle'})\n",
    "database"
   ]
  },
  {
   "cell_type": "markdown",
   "metadata": {},
   "source": [
    "## Create a `Ktable()` for a mix of gases"
   ]
  },
  {
   "cell_type": "markdown",
   "metadata": {},
   "source": [
    "One of the main interests of databases is to actually be able to create new corr-k tables for mixtures of gases. \n",
    "\n",
    "Just create a dictionary with the names of the molecules and the corresponding volume mixing  ratios. Notice that the sum of the mixing ratios does not need to be equal to one. In that case, it is assumed that the rest of the gas is composed of radiatively inactive species and the opacity given is in m^2 per everage molecule (couting the inactive ones).\n",
    "\n",
    "If a molecule is not in the database, it will just be considered radiatively inactive. "
   ]
  },
  {
   "cell_type": "code",
   "execution_count": null,
   "metadata": {},
   "outputs": [],
   "source": [
    "molecs=['H2O','CO2']\n",
    "suffix='R300_0.3-50mu.ktable.SI'\n",
    "database=exo_k.Kdatabase(molecs,suffix)\n",
    "\n",
    "composition={'H2O':0.001,'CO2':400.e-6,'N2':'background'}\n",
    "\n",
    "start=time.time()\n",
    "mixH2O_CO2=database.create_mix_ktable(composition)\n",
    "\n",
    "mixH2O_CO2.write_hdf5('data/corrk/mix_H2O_CO2')\n",
    "\n",
    "end=time.time()\n",
    "print(\"computation time \",end - start)        "
   ]
  },
  {
   "cell_type": "markdown",
   "metadata": {},
   "source": [
    "Here, the `'N2':'background'`in the composition dictionary tells the code that N2 is the background 'filler' gas. So whatever the vmr given before, N2 will be adjusted to get a total vmr of 1. Because N2 is not in the database, its opacity will however not be considered. "
   ]
  },
  {
   "cell_type": "code",
   "execution_count": null,
   "metadata": {},
   "outputs": [],
   "source": [
    "ptest=1.e4\n",
    "ttest=300.\n",
    "fig,axs=plt.subplots(1,2,sharex=True,sharey=True)\n",
    "for species,x in composition.items():\n",
    "  if x is not 'background':\n",
    "    database[species].plot_spectrum(axs[0],p=ptest,t=ttest,g=1.,x=x,linestyle='dashed',yscale='log')\n",
    "    database[species].plot_spectrum(axs[1],p=ptest,t=ttest,g=0.,x=x,linestyle='dashed',yscale='log')\n",
    "mixH2O_CO2.plot_spectrum(axs[0],p=ptest,t=ttest,g=1.)\n",
    "mixH2O_CO2.plot_spectrum(axs[1],p=ptest,t=ttest,g=0.)\n",
    "axs[0].set_title('g=1')\n",
    "axs[1].set_title('g=0')\n",
    "for ax in axs :\n",
    "    ax.set_xscale('log')\n",
    "    ax.label_outer()\n",
    "    ax.set_ylim(bottom=1.e-40)\n",
    "fig.tight_layout()"
   ]
  },
  {
   "cell_type": "markdown",
   "metadata": {},
   "source": [
    "## Binning down a `Kdatabase()`"
   ]
  },
  {
   "cell_type": "markdown",
   "metadata": {},
   "source": [
    "Just like `Ktable()` objects, you can change the spectral resolution of an entire database with the same `bin_down(wnedges)` method. It will be applied to all ktables in place (`weights` keyword available as well). "
   ]
  },
  {
   "cell_type": "code",
   "execution_count": null,
   "metadata": {},
   "outputs": [],
   "source": [
    "R=10\n",
    "wavenumber_grid=exo_k.wavenumber_grid_R(200.,10000.,R)\n",
    "database.bin_down(wavenumber_grid)"
   ]
  },
  {
   "cell_type": "markdown",
   "metadata": {},
   "source": [
    "Notice how the resolution has changed below when we run the exact same code. "
   ]
  },
  {
   "cell_type": "code",
   "execution_count": null,
   "metadata": {},
   "outputs": [],
   "source": [
    "ptest=1.e4\n",
    "ttest=300.\n",
    "\n",
    "fig,axs=plt.subplots(1,2,sharex=True,sharey=True)\n",
    "for species,x in composition.items():\n",
    "  if x is not 'background':\n",
    "    database[species].plot_spectrum(axs[0],p=ptest,t=ttest,g=1.,x=x,linestyle='dashed',label=species)\n",
    "    database[species].plot_spectrum(axs[1],p=ptest,t=ttest,g=0.,x=x,linestyle='dashed',label=species)\n",
    "mixH2O_CO2.plot_spectrum(axs[0],p=ptest,t=ttest,g=1.,label='mix')\n",
    "mixH2O_CO2.plot_spectrum(axs[1],p=ptest,t=ttest,g=0.,label='mix')\n",
    "axs[0].set_title('g=1')\n",
    "axs[1].set_title('g=0')\n",
    "for ax in axs :\n",
    "    ax.set_xscale('log')\n",
    "    ax.set_yscale('log')\n",
    "    ax.label_outer()\n",
    "    ax.set_ylim(bottom=1.e-40)\n",
    "    ax.legend()\n",
    "fig.tight_layout()"
   ]
  },
  {
   "cell_type": "markdown",
   "metadata": {},
   "source": [
    "# <span style=\"color:blue\">Loading and creating correlated-k tables to use with LMDZ GCM </span>"
   ]
  },
  {
   "cell_type": "markdown",
   "metadata": {},
   "source": [
    "## Creating new corr-k for LMDZ-GCM"
   ]
  },
  {
   "cell_type": "markdown",
   "metadata": {},
   "source": [
    "`exo_k` has also been madeto create corr-k tables to be used with the LMDZ gcm.  \n",
    "\n",
    "To produce a LMDZ usable directory with the corr-k and all the supporting files, nothing is simpler. "
   ]
  },
  {
   "cell_type": "markdown",
   "metadata": {},
   "source": [
    "**Be careful. This section only deals with corrk *without* variable gases. For these, we need to deal with gas mixes and `Ktable5D` that are discussed a little further down.**"
   ]
  },
  {
   "cell_type": "markdown",
   "metadata": {},
   "source": [
    "First, let's create a grid for our IR and VI channels and create our two ktables."
   ]
  },
  {
   "cell_type": "code",
   "execution_count": null,
   "metadata": {},
   "outputs": [],
   "source": [
    "R=10\n",
    "IR_grid=exo_k.wavenumber_grid_R(220.,10000.,R)\n",
    "VI_grid=exo_k.wavenumber_grid_R(5200.,33000.,R)\n",
    "\n",
    "IR_h2o_ktab=h2o_ktab_SI.bin_down_cp(IR_grid)\n",
    "\n",
    "VI_h2o_ktab=h2o_ktab_SI.bin_down_cp(VI_grid)"
   ]
  },
  {
   "cell_type": "markdown",
   "metadata": {},
   "source": [
    "Once your low resolution corrk table has been produced, just run"
   ]
  },
  {
   "cell_type": "code",
   "execution_count": null,
   "metadata": {},
   "outputs": [],
   "source": [
    "IR_h2o_ktab.write_LMDZ('data/corrk/lmdz/new_h2o_corrk',band='IR')\n",
    "VI_h2o_ktab.write_LMDZ('data/corrk/lmdz/new_h2o_corrk',band='VI')"
   ]
  },
  {
   "cell_type": "markdown",
   "metadata": {},
   "source": [
    "**Should you care about units?**  \n",
    "\n",
    "Actually... no! Because we have tracked units from the beginning, and we know LMDZ likes ktables in cm^2/molec and pressures in log mBar, **the conversion has been done automatically** for you.\n",
    "\n",
    "The LMDZ aficionados may have noticed that in the `corrk/new_h2o_corrk` directory, two subdirectories have been created with the names `IR self.Nw` and `VI self.Nw` that contain the corr-k tables whereas we would like a single directory called `Number_of_IR_bins x Number_of_VI_bins`. Then just run:"
   ]
  },
  {
   "cell_type": "code",
   "execution_count": null,
   "metadata": {},
   "outputs": [],
   "source": [
    "exo_k.finalize_LMDZ_dir('data/corrk/lmdz/new_h2o_corrk',IR_h2o_ktab.Nw,VI_h2o_ktab.Nw)"
   ]
  },
  {
   "cell_type": "markdown",
   "metadata": {},
   "source": [
    "You just have to create a `Q.dat` file inthe directory and you are good to run LMDZ with new corrk."
   ]
  },
  {
   "cell_type": "markdown",
   "metadata": {},
   "source": [
    "## Loading existing LMDZ corr-k tables"
   ]
  },
  {
   "cell_type": "markdown",
   "metadata": {},
   "source": [
    "To load a LMDZ corr-k table, the initialization method needs some more information\n",
    "  * The directory to use (`path=`)\n",
    "  * The resolution (`res=`)\n",
    "  * Whether you want to load the 'IR' or 'VI' band (`band=`)\n",
    "  \n",
    "The `molecule` keyword can be useful to specify which species is described as will be seen for mixes. \n",
    "\n",
    "Here, if you do not specify units, you will keep the LMDZ ones (cm^2 and mBar). But we advise to use the SI units. In particular because our radiative transfer method use SI units. "
   ]
  },
  {
   "cell_type": "code",
   "execution_count": null,
   "metadata": {},
   "outputs": [],
   "source": [
    "IR_h2o_ktab=exo_k.Ktable(path='data/corrk/lmdz/new_h2o_corrk',res='39x19',band='IR',mol='H2O',\n",
    "                kdata_unit='m^2',p_unit='Pa')\n",
    "print(IR_h2o_ktab)"
   ]
  },
  {
   "cell_type": "markdown",
   "metadata": {},
   "source": [
    "## Creating a LMDZ corrk with a variable gas from a `Kdatabase()`"
   ]
  },
  {
   "cell_type": "markdown",
   "metadata": {},
   "source": [
    "Here, we will finally see one of the strengths of `Kdatabase` objects. Because we can create mix of gases and bin down, we have everything we need to create LMDZ like ktables for variable gases.\n",
    "\n",
    "For this, will have to use\n",
    "```python\n",
    "Kdatabase.create_mix_ktable5d(vgas_comp=, bg_comp=, x_array=)\n",
    "```\n",
    "where:\n",
    "  - `vgas_comp`must contain a dictionary of the composition of the variable gas (it can be a single molecule).\n",
    "  - `bg_comp`does the same for the background gas.\n",
    "  - `a_array`is an array of the vol mix ratios of the varialbe gas that we want to compute in the table. \n",
    "  \n",
    "This will create a special object: `Ktable5d`that has one more dimension than a standard `Ktable`. Some usual methods can be used with them (like plotting, writing, interpolating, binning down) but they cannot be used, for example in a `Kdatabase`."
   ]
  },
  {
   "cell_type": "code",
   "execution_count": null,
   "metadata": {},
   "outputs": [],
   "source": [
    "start=time.time()\n",
    "\n",
    "molecs=['H2O','CO2']\n",
    "suffix='R300_0.3-50mu.ktable.SI'\n",
    "\n",
    "database=exo_k.Kdatabase(molecs,suffix)\n",
    "# we first remap on a smaller logP T grid for speed\n",
    "database.remap_logPT(logp_array=np.arange(6.), t_array=[200.,300.,400.,500.,600.])\n",
    "x_array=[1.e-7,0.1]\n",
    "vgas={'H2O':'background'}\n",
    "bg_gas={'CO2':4.e-4,'N2':'background'}\n",
    "mix_var_gas=database.create_mix_ktable5d(vgas_comp=vgas,bg_comp=bg_gas,x_array=x_array)\n",
    "end=time.time()\n",
    "print(\"computation time \",end - start)        "
   ]
  },
  {
   "cell_type": "markdown",
   "metadata": {},
   "source": [
    "Then we can bin down before writing to file"
   ]
  },
  {
   "cell_type": "code",
   "execution_count": null,
   "metadata": {},
   "outputs": [],
   "source": [
    "R=10\n",
    "IR_grid=exo_k.wavenumber_grid_R(220.,10000.,R)\n",
    "VI_grid=exo_k.wavenumber_grid_R(5200.,33000.,R)\n",
    "\n",
    "IR_mix_var_gas_ktab=mix_var_gas.copy()\n",
    "IR_mix_var_gas_ktab.bin_down(IR_grid)\n",
    "\n",
    "VI_mix_var_gas_ktab=mix_var_gas.copy()\n",
    "VI_mix_var_gas_ktab.bin_down(VI_grid)\n",
    "\n",
    "IR_mix_var_gas_ktab.write_LMDZ('data/corrk/lmdz/new_earth_h2o-var',band='IR')\n",
    "VI_mix_var_gas_ktab.write_LMDZ('data/corrk/lmdz/new_earth_h2o-var',band='VI')\n",
    "\n",
    "exo_k.finalize_LMDZ_dir('data/corrk/lmdz/new_earth_h2o-var',IR_mix_var_gas_ktab.Nw,VI_mix_var_gas_ktab.Nw)"
   ]
  },
  {
   "cell_type": "markdown",
   "metadata": {},
   "source": [
    "Let's plot the result compared to the initial cross sections at two water mixing ratios"
   ]
  },
  {
   "cell_type": "code",
   "execution_count": null,
   "metadata": {},
   "outputs": [],
   "source": [
    "ptest=100.\n",
    "ttest=500.\n",
    "fig,axs=plt.subplots(1,2,sharex=True,sharey=True)\n",
    "database['H2O'].plot_spectrum(axs[0],p=ptest,t=ttest,g=1.,x=x_array[0],label='H2O')\n",
    "database['CO2'].plot_spectrum(axs[0],p=ptest,t=ttest,g=1.,x=bg_gas['CO2'],label='CO2')\n",
    "IR_mix_var_gas_ktab.plot_spectrum(axs[0],p=ptest,t=ttest,x=x_array[0],g=1.,label='mix/IR')\n",
    "VI_mix_var_gas_ktab.plot_spectrum(axs[0],p=ptest,t=ttest,x=x_array[0],g=1.,label='mix/VI')\n",
    "database['H2O'].plot_spectrum(axs[1],p=ptest,t=ttest,g=1.,x=x_array[-1],label='H2O')\n",
    "database['CO2'].plot_spectrum(axs[1],p=ptest,t=ttest,g=1.,x=bg_gas['CO2'],label='CO2')\n",
    "IR_mix_var_gas_ktab.plot_spectrum(axs[1],p=ptest,t=ttest,x=x_array[-1],g=1.,label='mix/IR')\n",
    "VI_mix_var_gas_ktab.plot_spectrum(axs[1],p=ptest,t=ttest,x=x_array[-1],g=1.,label='mix/VI')\n",
    "axs[0].set_title('$x_{H2O}=10^{-7}$')\n",
    "axs[1].set_title('$x_{H2O}=10^{-1}$')\n",
    "for ax in axs :\n",
    "    ax.set_ylim(bottom=1.e-40)\n",
    "    ax.set_yscale('log')\n",
    "    ax.set_xscale('log')\n",
    "    ax.legend()\n",
    "fig.tight_layout()"
   ]
  },
  {
   "cell_type": "markdown",
   "metadata": {},
   "source": [
    "# <span style=\"color:blue\">Dealing with cross sections: `Xtable()`objects </span>"
   ]
  },
  {
   "cell_type": "markdown",
   "metadata": {},
   "source": [
    "Cross sections are like corr-k tables, except for the fact that they do not have a \"g-dimension\".\n",
    "\n",
    "Thanks to the way `numpy` handles arrays and to the `python` inheritance system, handling a `Xtable()` is very similar to handling a `Ktable()` and you can do everything that you did before.  \n",
    "\n",
    "It is so similar, that you can even load a `Kdatabase()` filled with `Xtable()` objects. \n",
    "\n",
    "Just remember that the kdata array now has one less dimension. "
   ]
  },
  {
   "cell_type": "code",
   "execution_count": null,
   "metadata": {},
   "outputs": [],
   "source": [
    "xsecs=exo_k.Xtable('H2O.R10000.TauREx.pickle', kdata_unit='m^2', p_unit='Pa')\n",
    "xsecs"
   ]
  },
  {
   "cell_type": "code",
   "execution_count": null,
   "metadata": {},
   "outputs": [],
   "source": [
    "ptest=1.e2\n",
    "ttest=300.\n",
    "fig,ax=plt.subplots(1,1,sharex=True,sharey=False)  \n",
    "xsecs.plot_spectrum(ax,p=ptest,t=ttest,yscale='log')\n",
    "fig.tight_layout()"
   ]
  },
  {
   "cell_type": "markdown",
   "metadata": {},
   "source": [
    "# <span style=\"color:blue\">Dealing with continua: `Cia_table()` and `CIAdatabase()` objects </span>"
   ]
  },
  {
   "cell_type": "markdown",
   "metadata": {},
   "source": [
    "Cia tables are like cross section tables, except for the fact that they do not have pressure dimension.\n",
    "\n",
    "For the moment, they cannot be added directly to Xtables or Ktables, but they can still be loaded to be converted from one format to another (in particular HITRAN .cia files or water CKD files to HDF5), from one unit to another (our preferred unit is m^5/molec^2).\n",
    "\n",
    "Finally, they will also be usefull to account for continua in the forward models below\n"
   ]
  },
  {
   "cell_type": "code",
   "execution_count": null,
   "metadata": {},
   "outputs": [],
   "source": [
    "exo_k.Settings().set_mks(True)\n",
    "filenames=['H2-H2_2011','H2-He_2011','N2-H2_2011','N2-N2_2011']\n",
    "cia_data=exo_k.CIAdatabase(filenames)\n",
    "ttest=300.\n",
    "fig,axs=plt.subplots(2,1,sharex=False,sharey=False)  \n",
    "cia_data['H2']['H2'].plot_spectrum(axs[0],t=ttest,x_axis='wns',yscale='log',label='H2-H2')\n",
    "cia_data['H2']['He'].plot_spectrum(axs[0],t=ttest,x_axis='wns',label='H2-He')\n",
    "cia_data['N2']['H2'].plot_spectrum(axs[1],t=ttest,x_axis='wns',yscale='log',label='N2-H2')\n",
    "cia_data['N2']['N2'].plot_spectrum(axs[1],t=ttest,x_axis='wns',yscale='log',label='N2-N2')\n",
    "for ax in axs:\n",
    "    ax.legend()\n",
    "fig.tight_layout()"
   ]
  },
  {
   "cell_type": "markdown",
   "metadata": {},
   "source": [
    "Because CIA are often on very inhomogeneous grids (as above), you will need to sample them on the grid of your `Ktable` or `Xtable` to use them."
   ]
  },
  {
   "cell_type": "code",
   "execution_count": null,
   "metadata": {},
   "outputs": [],
   "source": [
    "ref_wns_grid=h2o_ktab_SI.wns\n",
    "cia_data.sample(ref_wns_grid)\n",
    "fig,axs=plt.subplots(2,1,sharex=False,sharey=False)  \n",
    "cia_data['H2']['H2'].plot_spectrum(axs[0],t=ttest,x_axis='wns',yscale='log',label='H2-H2')\n",
    "cia_data['H2']['He'].plot_spectrum(axs[0],t=ttest,x_axis='wns',label='H2-He')\n",
    "cia_data['N2']['H2'].plot_spectrum(axs[1],t=ttest,x_axis='wns',yscale='log',label='N2-H2')\n",
    "cia_data['N2']['N2'].plot_spectrum(axs[1],t=ttest,x_axis='wns',yscale='log',label='N2-N2')\n",
    "for ax in axs:\n",
    "    ax.legend()\n",
    "fig.tight_layout()"
   ]
  },
  {
   "cell_type": "markdown",
   "metadata": {},
   "source": [
    "The method:\n",
    "```python\n",
    "CIAdatabase.cia_cross_section(pressure,temperature,composition)\n",
    "```\n",
    "can be used to compute the effective CIA cross-section for the whole gas (in m^2 per average molecule)\n"
   ]
  },
  {
   "cell_type": "code",
   "execution_count": null,
   "metadata": {},
   "outputs": [],
   "source": [
    "compo={'H2':0.2,'He':0.1,'N2':0.4}\n",
    "raw=cia_data.cia_cross_section([1.,3.],[300.,500.],compo)\n",
    "fig,axs=plt.subplots(2,1,sharex=False,sharey=False,figsize=(6,5))  \n",
    "cia_data['H2']['H2'].plot_spectrum(axs[0],t=ttest,x_axis='wns',yscale='log')\n",
    "cia_data['H2']['He'].plot_spectrum(axs[0],t=ttest,x_axis='wns')\n",
    "cia_data['N2']['H2'].plot_spectrum(axs[0],t=ttest,x_axis='wns',yscale='log')\n",
    "axs[1].plot(cia_data.wns,raw[0])\n",
    "axs[1].set_yscale('log')\n",
    "axs[1].grid()\n",
    "axs[1].set_ylabel('Cross section (m^2/molec)')\n",
    "axs[1].set_xlabel('Wavenumber')\n",
    "fig.tight_layout()"
   ]
  },
  {
   "cell_type": "markdown",
   "metadata": {},
   "source": [
    "# <span style=\"color:blue\">Creating corr-k from high resolution spectra</span>"
   ]
  },
  {
   "cell_type": "markdown",
   "metadata": {},
   "source": [
    "## Dealing with `kspectrum`-like high resolution spectra"
   ]
  },
  {
   "cell_type": "markdown",
   "metadata": {},
   "source": [
    "**Due to lock down, I do not have access to my cluster (and its voluminous spectra) at the time of writing. Some recent updates to the code therefore do not have been completely tested in this area. Sorry for the inconvenience** "
   ]
  },
  {
   "cell_type": "markdown",
   "metadata": {},
   "source": [
    "Now that you spent a few cpu x hours to compute some high resolution spectra, you would like to create a corr-k matrix with it.  \n",
    "\n",
    "For this you'll need to provide the `logpgrid` and `tgrid` arrays onto which your spectra have been computed.\n",
    "\n",
    "WARNING: At this stage **`logpgrid` must imperatively be given in Pa**. Conversion to other units can be done after the creation of the `Ktable`. \n",
    "\n",
    "You'll also need to provide the corresponding spectra filenames in an array of shape `(logpgrid.size, tgrid.size (, xgrid.size))` with the following order:\n",
    "```python\n",
    "[[ 'spectrum for logP1,T1', 'spectrum for logP1,T2', 'spectrum for logP1,T3', 'etc.' ], \n",
    "[ 'spectrum for logP2,T1', 'spectrum for logP2,T2', 'spectrum for logP2,T3', 'etc.' ],\n",
    "[ 'spectrum for logP3,T1', 'spectrum for logP3,T2', 'spectrum for logP3,T3', 'etc.' ],\n",
    "'etc.']\n",
    "```"
   ]
  },
  {
   "cell_type": "markdown",
   "metadata": {},
   "source": [
    "You can do that by hand. But to help you with that, we created a small function to generate the name grid from the p t (and possibly x) grid if your files have been named with P and T information in the title. See the 3 examples below:"
   ]
  },
  {
   "cell_type": "code",
   "execution_count": null,
   "metadata": {},
   "outputs": [],
   "source": [
    "logpgrid=[1,10]\n",
    "tgrid=[100.,150.,200.]\n",
    "print(logpgrid,tgrid)\n",
    "file_grid=exo_k.create_fname_grid('spectrum_CO2_{p}Pa_{t}K.hdf5',\n",
    "                  logpgrid=logpgrid,tgrid=tgrid,p_kw='p',t_kw='t')\n",
    "file_grid"
   ]
  },
  {
   "cell_type": "code",
   "execution_count": null,
   "metadata": {},
   "outputs": [],
   "source": [
    "logpgrid=[1,2]\n",
    "tgrid=[100.,150.,200.]\n",
    "xgrid=[-2,-1]\n",
    "print(logpgrid,tgrid)\n",
    "file_grid=exo_k.create_fname_grid('spectrum_CO2_1e{logp}Pa_{t}K_lx{x}.hdf5',\n",
    "                  logpgrid=logpgrid,tgrid=tgrid,xgrid=xgrid,p_kw='logp',t_kw='t',x_kw='x')\n",
    "file_grid"
   ]
  },
  {
   "cell_type": "code",
   "execution_count": null,
   "metadata": {},
   "outputs": [],
   "source": [
    "logpgrid=np.arange(5)\n",
    "tgrid=np.array([100.,150.,200.])\n",
    "print(logpgrid,tgrid)\n",
    "file_grid=exo_k.create_fname_grid('spectrum_CO2_1e{logp}Pa_{t}K.hdf5',\n",
    "                  logpgrid=logpgrid,tgrid=tgrid,p_kw='logp',t_kw='t')\n",
    "file_grid"
   ]
  },
  {
   "cell_type": "markdown",
   "metadata": {},
   "source": [
    "If you are dealing with files created by kspectrum using LMDZ scripts, your grid of names should look something like this. Here with 3 pressure and 2 temperature levels:"
   ]
  },
  {
   "cell_type": "code",
   "execution_count": null,
   "metadata": {},
   "outputs": [],
   "source": [
    "exo_k.create_fname_grid_Kspectrum_LMDZ(3,2)"
   ]
  },
  {
   "cell_type": "markdown",
   "metadata": {},
   "source": [
    "Here with a variable gas and 3 pressure, 2 temperature, and 4 vmr levels:"
   ]
  },
  {
   "cell_type": "code",
   "execution_count": null,
   "metadata": {},
   "outputs": [],
   "source": [
    "exo_k.create_fname_grid_Kspectrum_LMDZ(3,2,4)"
   ]
  },
  {
   "cell_type": "markdown",
   "metadata": {},
   "source": [
    "**hdf5 files are way smaller and faster to read than dat files**\n",
    "\n",
    "To convert kspectrum files to hdf5, you can use the following function on all of your files:\n",
    "```python\n",
    "for path in paths_to_my_files:\n",
    "    exo_k.convert_kspectrum_to_hdf5(path, path+'hdf5', skiprow=0)\n",
    "```\n",
    "The `skiprow`argument accepts an integer that is equal to the number of lines to skip at the beginning or your kspectrum files (if there is a header for example). "
   ]
  },
  {
   "cell_type": "markdown",
   "metadata": {},
   "source": [
    "You now need to create an empty `Ktable()` object and fill it with the following method.\n",
    "With these options, you create a table with 20 gauss point following the Gausse-Legendre quadrature. "
   ]
  },
  {
   "cell_type": "markdown",
   "metadata": {},
   "source": [
    "```python\n",
    "path='your_path'\n",
    "\n",
    "R=10\n",
    "wavenumber_grid=exo_k.wavenumber_grid_R(200.,10000.,R)\n",
    "\n",
    "start=time.time()\n",
    "tmp=exo_k.Ktable()\n",
    "tmp.hires_to_ktable(path=path,filename_grid=file_grid, logpgrid=logpgrid,tgrid=tgrid,\n",
    "                        wnedges=wavenumber_grid, order=20, mol='CO2')\n",
    "end=time.time()\n",
    "print('computation time=',end-start)\n",
    "```"
   ]
  },
  {
   "cell_type": "markdown",
   "metadata": {},
   "source": [
    "If you want to provide the g weights yourself, run this instead:\n",
    "```python\n",
    "path='your_path'\n",
    "\n",
    "R=10\n",
    "wavenumber_grid=exo_k.wavenumber_grid_R(200.,10000.,R)\n",
    "\n",
    "weights=np.array(my g weights)\n",
    "\n",
    "start=time.time()\n",
    "tmp=exo_k.Ktable()\n",
    "tmp.hires_to_ktable(path=path,filename_grid=file_grid, logpgrid=logpgrid,tgrid=tgrid,\n",
    "                        wnedges=wavenumber_grid, weights=weights, mol='CO2')\n",
    "end=time.time()\n",
    "print('computation time=',end-start)\n",
    "```"
   ]
  },
  {
   "cell_type": "markdown",
   "metadata": {},
   "source": [
    "You can now save your brand new Ktable on disk with any of the writing routines (`write_hdf5`, `write_LMDZ`, etc.)."
   ]
  },
  {
   "cell_type": "markdown",
   "metadata": {},
   "source": [
    "## Loading `Xtable` with `kspectrum`-like spectra"
   ]
  },
  {
   "cell_type": "markdown",
   "metadata": {},
   "source": [
    "You can also load your spectra to be used as cross sections.  \n",
    "\n",
    "For this you'll need to provide the `logpgrid` and `tgrid` arrays onto which your spectra have been computed, as well as the corresponding spectra filenames in an array of shape `(logpgrid.size,tgrid.size)`"
   ]
  },
  {
   "cell_type": "markdown",
   "metadata": {},
   "source": [
    "```python\n",
    "path='your path'\n",
    "logpgrid=np.arange(5)\n",
    "tgrid=np.array([100.,150.,200.])\n",
    "file_grid=exo_k.create_fname_grid('spectrum_CO2_1e{logp}Pa_{t}K.hdf5',\n",
    "                  logpgrid=logpgrid,tgrid=tgrid,p_kw='logp',t_kw='t')\n",
    "hires_co2_xsec=exo_k.Xtable()\n",
    "hires_co2_xsec.hires_to_xsec(path=path,filename_grid=file_grid,\n",
    "                             logpgrid=logpgrid,tgrid=tgrid,\n",
    "                             mol='CO2',kdata_unit='m^2')\n",
    "```"
   ]
  },
  {
   "cell_type": "markdown",
   "metadata": {},
   "source": [
    "You can then save it to a hdf5 file with `write_hdf5()`."
   ]
  },
  {
   "cell_type": "markdown",
   "metadata": {},
   "source": [
    "# <span style=\"color:blue\">A simple forward model to test opacities</span>"
   ]
  },
  {
   "cell_type": "markdown",
   "metadata": {},
   "source": [
    "In order to have an integrated framework to test various assumptions (will my resolution be enough, are my initial data adequate, what weights should I use, etc.), we implemented a simple 1d atmosphere model able to compute the flux emitted by an atmosphere.\n",
    "\n",
    "This revolves around the `RadAtm()` class, which defines an atmosphere with a PT profile and a composition and is linked to a `Kdatabase()` (Notice that a database can be composed of only 1 species. We however need this structure to compute the radiative transfer).\n",
    "\n",
    "As `Xtable()` objects can be used in a `Kdatabase()`, you can do the equivalent of Line by Line radiative transfer. \n",
    "\n",
    "If you want to start from very high res spectra, first load them into a `Xtable()`, and then into a Database."
   ]
  },
  {
   "cell_type": "markdown",
   "metadata": {},
   "source": [
    "## Emission"
   ]
  },
  {
   "cell_type": "code",
   "execution_count": null,
   "metadata": {},
   "outputs": [],
   "source": [
    "database=exo_k.Kdatabase(['CO2'],'R300_0.3-50mu.ktable.SI')\n",
    "\n",
    "T0=200.\n",
    "atm_ck=exo_k.RadAtm(psurf=640.e0,ptop=1.e-1,Tsurf=T0,Tstrat=100.,grav=3.4,\n",
    "                    composition={'CO2':'background'},Nlev=30, kdatabase=database)\n",
    "\n",
    "start=time.time()\n",
    "FluxTop=atm_ck.emission_spectrum(integral=True,wl_range=[0.1,150.0])\n",
    "SurfFlux=atm_ck.surf_bb(integral=True)\n",
    "TopBB=atm_ck.top_bb(integral=True)\n",
    "bintime=time.time()\n",
    "print(\"averaging time \",bintime - start)  "
   ]
  },
  {
   "cell_type": "markdown",
   "metadata": {},
   "source": [
    "The `integral=True` keyword specifies that the source function is integrated inside each bin. If `False`, the planck function is just evaluated at the center of the bin. It is faster, and ok for thin bins, but inacurate for large ones.\n",
    "\n",
    "The `wl_range` range keyword allows you to limit the wavelength range onto wich you want the calculation to be done to save time. \n",
    "\n",
    "The result of `RadmAtm().emission_spectrum()` is a `Spectrum()` object onto wich some methods can be used.  For example you can compute the total flux"
   ]
  },
  {
   "cell_type": "code",
   "execution_count": null,
   "metadata": {},
   "outputs": [],
   "source": [
    "print(FluxTop.total,'W/m^2 (BB at tsurf over the computed nu range is ',SurfFlux.total,'W/m^2)')\n",
    "print('(sigma*T**4 is ',exo_k.SIG_SB*T0**4,'W/m^2)')"
   ]
  },
  {
   "cell_type": "markdown",
   "metadata": {},
   "source": [
    "You can plot it"
   ]
  },
  {
   "cell_type": "code",
   "execution_count": null,
   "metadata": {},
   "outputs": [],
   "source": [
    "fig,axs=plt.subplots(1,2,sharey=False,figsize=(8,4))  \n",
    "SurfFlux.plot_spectrum(axs[0],label='Blackbody ($T_{surf}$)')\n",
    "TopBB.plot_spectrum(axs[0],label='Blackbody ($T_{strat}$)')\n",
    "FluxTop.plot_spectrum(axs[0],label='OLR')\n",
    "SurfFlux.plot_spectrum(axs[1],per_wavenumber=False,label='Blackbody ($T_{surf}$)')\n",
    "TopBB.plot_spectrum(axs[1],per_wavenumber=False,label='Blackbody ($T_{strat}$)')\n",
    "FluxTop.plot_spectrum(axs[1],per_wavenumber=False,label='OLR')\n",
    "\n",
    "axs[0].set_ylabel('Flux ($W/m^2/cm^{-1}$)')\n",
    "axs[1].set_ylabel('Flux ($W/m^2/\\mu m$)')\n",
    "for ax in axs:\n",
    "    ax.legend()\n",
    "fig.tight_layout()"
   ]
  },
  {
   "cell_type": "markdown",
   "metadata": {},
   "source": [
    "You can also bin it down, and when spectra have the same wavenumber grid, perform algeabric operations)"
   ]
  },
  {
   "cell_type": "code",
   "execution_count": null,
   "metadata": {},
   "outputs": [],
   "source": [
    "R=100\n",
    "wavenumber_grid=exo_k.wavenumber_grid_R(200.,10000.,R)\n",
    "binned_spec=FluxTop.bin_down_cp(wavenumber_grid)\n",
    "\n",
    "fig,axs=plt.subplots(1,2,sharey=True)  \n",
    "FluxTop.plot_spectrum(axs[0],label='OLR')\n",
    "binned_spec.plot_spectrum(axs[0],label='binned OLR')\n",
    "(SurfFlux-FluxTop).plot_spectrum(axs[1],label='Surf Blackbody - OLR')\n",
    "\n",
    "for ax in axs:\n",
    "    ax.set_ylabel('Flux ($W/m^2/cm^{-1}$)')\n",
    "    ax.legend()\n",
    "fig.tight_layout()"
   ]
  },
  {
   "cell_type": "code",
   "execution_count": null,
   "metadata": {},
   "outputs": [],
   "source": [
    "origin = 'upper'\n",
    "delta = 0.025\n",
    "\n",
    "x =database.wls\n",
    "y =atm_ck.play[:]\n",
    "X, Y = np.meshgrid(x, y)\n",
    "Z = atm_ck.exp_minus_tau()\n",
    "\n",
    "nr, nc = Z.shape\n",
    "\n",
    "fig, ax = plt.subplots(constrained_layout=True)\n",
    "ax.invert_yaxis()\n",
    "ax.set_xscale('log')\n",
    "ax.set_yscale('log')\n",
    "ax.set_xlim(left=0.3,right=20.)\n",
    "CS = ax.contourf(X, Y, Z, 10, cmap=plt.cm.bone, origin=origin)\n",
    "ax.set_title('Atm. Transmittance')\n",
    "ax.set_xlabel('Wavelength (mu)')\n",
    "ax.set_ylabel('Log(Pressure/Pa)')\n",
    "# Make a colorbar for the ContourSet returned by the contourf call.\n",
    "cbar = fig.colorbar(CS)\n",
    "cbar.ax.set_ylabel('Exp(-tau)')\n",
    "# Add the contour line levels to the colorbar"
   ]
  },
  {
   "cell_type": "markdown",
   "metadata": {},
   "source": [
    "## Emission with continuum and your own thermal profile"
   ]
  },
  {
   "cell_type": "markdown",
   "metadata": {},
   "source": [
    "The `RadAtm` object can also be initialized with a custom `logplev` and `tlev` profile. The vmr of the molecules can also be specified as a profile. \n",
    "\n",
    "However, beware that the (log) pressure (in Pa) and temperature must be specified at the interfaces between the layers (the levels, with `Nlev=Nlay+1`), but the vmr must be specified at the layers (so `logplev.size= vmr.size+1`)."
   ]
  },
  {
   "cell_type": "code",
   "execution_count": null,
   "metadata": {},
   "outputs": [],
   "source": [
    "database=exo_k.Kdatabase(['CO2','H2O'],'R300_0.3-50mu.ktable.SI')\n",
    "\n",
    "T0=320.;Tstrat=180.\n",
    "#create the level presure grid \n",
    "logplev=np.linspace(-1,5,100)\n",
    "#create the layer presure grid which is halfway in log\n",
    "logplay=(logplev[1:]+logplev[:-1])/2.\n",
    "# design your adiabat\n",
    "tlev=T0*(10**logplev/1.e5)**0.28\n",
    "tlev=np.where(tlev<Tstrat,Tstrat,tlev)\n",
    "tlay=(tlev[1:]+tlev[:-1])/2.\n",
    "# create your composition. Here, only water is variable and follows saturation.\n",
    "# the composition must be given in the layers\n",
    "xH2Olay=np.exp(-2257.e3*0.018/8.31* (1./tlay - 1./373.))*1.e5/10**logplay\n",
    "\n",
    "#Loads CIA and sample them on the right spectral grid.\n",
    "filenames=['N2-N2_2011','H2O-H2O','H2O-N2']\n",
    "cia_data=exo_k.CIAdatabase(filenames,mks=True)\n",
    "cia_data.sample(database.wns)\n",
    "\n",
    "#Loads the atmosphere and computes some intermediate things\n",
    "# without CIA\n",
    "atm_ck=exo_k.RadAtm(logplev=logplev,tlev=tlev,grav=9.81,\n",
    "                    composition={'CO2':4.e-4,'H2O':xH2Olay,'N2':'background'},\n",
    "                    kdatabase=database)\n",
    "# with CIA\n",
    "atm_ck_cont=exo_k.RadAtm(logplev=logplev,tlev=tlev,grav=9.81,\n",
    "                    composition={'CO2':4.e-4,'H2O':xH2Olay,'N2':'background'},\n",
    "                    kdatabase=database, CIAdatabase=cia_data)\n",
    "\n",
    "start=time.time()\n",
    "\n",
    "# Computes emission flux for the two cases\n",
    "FluxTop=atm_ck.emission_spectrum(integral=True,wl_range=[0.1,150.0])\n",
    "FluxTop_cont=atm_ck_cont.emission_spectrum(integral=True,wl_range=[0.1,150.0])\n",
    "\n",
    "# Computes surface BlackBody\n",
    "SurfFlux=atm_ck.surf_bb(integral=True)\n",
    "\n",
    "# Computes top of atmosphere BlackBody\n",
    "TopBB=atm_ck.top_bb(integral=True)\n",
    "bintime=time.time()\n",
    "print(\"averaging time \",bintime - start)  \n",
    "print(FluxTop.total,'W/m^2 (BB at tsurf over the computed nu range is ',SurfFlux.total,'W/m^2)')\n",
    "print('(sigma*T**4 is ',exo_k.SIG_SB*T0**4,'W/m^2)')"
   ]
  },
  {
   "cell_type": "code",
   "execution_count": null,
   "metadata": {},
   "outputs": [],
   "source": [
    "fig,axs=plt.subplots(1,2,sharey=False, figsize=(8,4))  \n",
    "SurfFlux.plot_spectrum(axs[0],label='Blackbody ($T_{surf}$)')\n",
    "TopBB.plot_spectrum(axs[0],label='Blackbody ($T_{strat}$)')\n",
    "FluxTop.plot_spectrum(axs[0],label='OLR w/o CIA')\n",
    "FluxTop_cont.plot_spectrum(axs[0],label='OLR w/ CIA')\n",
    "SurfFlux.plot_spectrum(axs[1],per_wavenumber=False,label='Blackbody ($T_{surf}$)')\n",
    "TopBB.plot_spectrum(axs[1],per_wavenumber=False,label='Blackbody ($T_{strat}$)')\n",
    "FluxTop.plot_spectrum(axs[1],per_wavenumber=False,label='OLR w/o CIA')\n",
    "FluxTop_cont.plot_spectrum(axs[1],per_wavenumber=False,label='OLR w/ CIA')\n",
    "\n",
    "axs[0].set_ylabel('Flux ($W/m^2/cm^{-1}$)')\n",
    "axs[1].set_ylabel('Flux ($W/m^2/\\mu m$)')\n",
    "for ax in axs:\n",
    "    ax.legend()\n",
    "#axs[0].invert_yaxis()\n",
    "fig.tight_layout()"
   ]
  },
  {
   "cell_type": "markdown",
   "metadata": {},
   "source": [
    "## Transmission"
   ]
  },
  {
   "cell_type": "code",
   "execution_count": null,
   "metadata": {},
   "outputs": [],
   "source": [
    "T0=2000.;xH2O=1.e-5;Rs=1.*u.Rsun;grav=10.\n",
    "database=exo_k.Kdatabase(['H2O'],'SI',remove_zeros=True)\n",
    "filenames=['H2-H2_2011','H2-He_2011']\n",
    "cia_data=exo_k.CIAdatabase(filenames,mks=True)\n",
    "cia_data.sample(database.wns)\n",
    "\n",
    "wn_final_grid=exo_k.wavenumber_grid_R(400.,30000.,30)\n",
    "\n",
    "atm_ck=exo_k.RadAtm(psurf=10.e5,ptop=1.e-4,Tsurf=T0,Tstrat=T0,grav=grav,\n",
    "                    composition={'H2':'background','H2O':xH2O},Nlev=100,Rp=1.*u.Rjup,\n",
    "                    kdatabase=database,CIAdatabase=cia_data)\n",
    "start=time.time()\n",
    "spec=atm_ck.transmission_spectrum(Rstar=Rs,rayleigh=True)\n",
    "bintime=time.time()\n",
    "print(\"averaging time \",bintime - start)  "
   ]
  },
  {
   "cell_type": "code",
   "execution_count": null,
   "metadata": {},
   "outputs": [],
   "source": [
    "fig,axs=plt.subplots(1,2,sharex=True,figsize=(7,3))  \n",
    "spec.plot_spectrum(axs[0],xscale='log',label='Native resolution')\n",
    "spec.bin_down_cp(wn_final_grid).plot_spectrum(axs[1],xscale='log',label='$R=30$')\n",
    "axs[0].set_ylabel('Depth')\n",
    "axs[1].set_ylabel('Depth')\n",
    "for ax in axs:\n",
    "    ax.legend()\n",
    "fig.tight_layout()"
   ]
  }
 ],
 "metadata": {
  "celltoolbar": "Initialization Cell",
  "kernelspec": {
   "display_name": "Python 3",
   "language": "python",
   "name": "python3"
  },
  "language_info": {
   "codemirror_mode": {
    "name": "ipython",
    "version": 3
   },
   "file_extension": ".py",
   "mimetype": "text/x-python",
   "name": "python",
   "nbconvert_exporter": "python",
   "pygments_lexer": "ipython3",
   "version": "3.7.1"
  },
  "toc": {
   "base_numbering": 1,
   "nav_menu": {},
   "number_sections": true,
   "sideBar": true,
   "skip_h1_title": false,
   "title_cell": "Table of Contents",
   "title_sidebar": "Contents",
   "toc_cell": false,
   "toc_position": {},
   "toc_section_display": true,
   "toc_window_display": false
  }
 },
 "nbformat": 4,
 "nbformat_minor": 2
}
