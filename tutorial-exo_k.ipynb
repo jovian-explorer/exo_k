{
 "cells": [
  {
   "cell_type": "markdown",
   "metadata": {},
   "source": [
    "# <span style=\"color:blue\">First steps with `exo_k`</span>\n",
    "\n",
    "*Author: Jeremy Leconte (CNRS/LAB/Univ. Bordeaux)*\n",
    "\n",
    "The goal of `exo_k` is to provide a library to:\n",
    "\n",
    "* Interpolate efficiently and easily in correlated-k and cross section tables.\n",
    "* Convert easily correlated-k and cross section tables from one format to another (pickle, hdf5, LMDZ GCM format).\n",
    "* Adapt precomputed correlated-k tables to your needs by changing:\n",
    "  * the resolution and quadrature (g) grid,\n",
    "  * the pressure/temperature grid.\n",
    "* Create tables for a mix of gases using tables for individual gases.\n",
    "* Create your own tables from high-resolution spectra.\n",
    "* Use your data in an integrated radiative transfer framework to simulate planetary atmospheres.\n",
    "   \n",
    "This tutorial will show you how to do all that.\n",
    "\n"
   ]
  },
  {
   "cell_type": "markdown",
   "metadata": {},
   "source": [
    "## Initialization"
   ]
  },
  {
   "cell_type": "markdown",
   "metadata": {},
   "source": [
    "First, let's make some common initializations.   \n",
    "We also import our library: `exo_k`. For this to work, you need to have installed the library by typing\n",
    "```pip install -e .```\n",
    "at the root of exo_k directory (the location where you first saw this tutorial)."
   ]
  },
  {
   "cell_type": "code",
   "execution_count": 1,
   "metadata": {
    "init_cell": true
   },
   "outputs": [],
   "source": [
    "import exo_k as xk\n",
    "import numpy as np\n",
    "import matplotlib.pyplot as plt\n",
    "import astropy.units as u\n",
    "import time,sys,os"
   ]
  },
  {
   "cell_type": "code",
   "execution_count": 2,
   "metadata": {
    "init_cell": true
   },
   "outputs": [],
   "source": [
    "# Uncomment the line below if you want to enable interactive plots\n",
    "#%matplotlib notebook\n",
    "plt.rcParams[\"figure.figsize\"] = (7,4)\n",
    "from matplotlib import cycler\n",
    "colors = cycler('color',[plt.cm.inferno(i) for i in np.linspace(0.1,1,5)])\n",
    "plt.rc('axes', axisbelow=True, grid=True, labelcolor='dimgray', labelweight='bold', prop_cycle=colors)\n",
    "plt.rc('grid', linestyle='solid')\n",
    "plt.rc('xtick', direction='in', color='dimgray')\n",
    "plt.rc('ytick', direction='in', color='dimgray')\n",
    "plt.rc('lines', linewidth=1.5)"
   ]
  },
  {
   "cell_type": "raw",
   "metadata": {
    "raw_mimetype": "text/restructuredtext"
   },
   "source": [
    ".. important::\n",
    "    Many global options can be changed after having imported the library using a syntax of the type\n",
    "    `xk.Settings().method_name(args)`. Many examples will be provided along the way, but you\n",
    "    can have a look at :class:`exo_k.settings.Settings` for all the possible options. "
   ]
  },
  {
   "cell_type": "markdown",
   "metadata": {},
   "source": [
    "## Documentation"
   ]
  },
  {
   "cell_type": "markdown",
   "metadata": {},
   "source": [
    "The documentation in html form can be found at http://perso.astrophy.u-bordeaux.fr/~jleconte/exo_k-doc/index.html\n",
    "\n",
    "It is searchable, and has a general index to find any function.\n",
    "\n",
    "To access it through a python interface, just run the following line for any class, function, etc.:"
   ]
  },
  {
   "cell_type": "code",
   "execution_count": null,
   "metadata": {},
   "outputs": [],
   "source": [
    "help(xk.Ktable().bin_down)"
   ]
  },
  {
   "cell_type": "markdown",
   "metadata": {},
   "source": [
    "# <span style=\"color:blue\">Dealing with `Ktable()` objects</span>"
   ]
  },
  {
   "cell_type": "markdown",
   "metadata": {},
   "source": [
    "## Loading and saving a `Ktable()` object"
   ]
  },
  {
   "cell_type": "markdown",
   "metadata": {},
   "source": [
    "For this tutorial to work, you should launch this notebook from a base_directory that contains a `data/corrk/` directory where your correlated k files are storred. A directory with some sample files can be downloaded at the following url:\n",
    "\n",
    "`https://mycore.core-cloud.net/index.php/s/w2cHuigAiwcfBVW`\n",
    "\n",
    "Many thanks to K. Chubb and the Exomol project for providing these data. "
   ]
  },
  {
   "cell_type": "markdown",
   "metadata": {},
   "source": [
    "### Loading a `Ktable` from a file "
   ]
  },
  {
   "cell_type": "markdown",
   "metadata": {},
   "source": [
    "One of the main objects we will deal with is the `Ktable()` object. This contains a big matrix with k-coefficients for a species or a mix of species along with all the needed supporting information such as the Pressure, Temperature, wavenumber, and g grids onto which the k-coefficients have been computed.  \n",
    "\n",
    "To instantiate a `Ktable()` object from most currently supported formats, just run the following line. If you are specifying the file through the `filename` keyword, you have to give the full path to the file. The format should be recognized from the extension. "
   ]
  },
  {
   "cell_type": "raw",
   "metadata": {
    "raw_mimetype": "text/restructuredtext"
   },
   "source": [
    ".. seealso::\n",
    "    :func:`exo_k.ktable.Ktable` for details on arguments and options."
   ]
  },
  {
   "cell_type": "code",
   "execution_count": null,
   "metadata": {
    "code_folding": []
   },
   "outputs": [],
   "source": [
    "h2o_ktab=xk.Ktable(filename='data/corrk/H2O_R300_0.3-50mu.ktable.TauREx.pickle')\n",
    "print(h2o_ktab)"
   ]
  },
  {
   "cell_type": "markdown",
   "metadata": {},
   "source": [
    "### Managing Units"
   ]
  },
  {
   "cell_type": "markdown",
   "metadata": {},
   "source": [
    "#### Tracking units\n",
    "\n",
    "Except for self-defining formats (such as hdf5), most formats handled by `exo_k` do not carry the information on units with them (Exo_transmit, HITRAN .cia, etc.).\n",
    "\n",
    "However, previous experience has shown us that tracking units is essential to avoid errors and working with SI units is recommended when possible. \n",
    "\n",
    "For this reason, the units for pressure, kdata, and wavenumbers are kept as attributes of any Ktable object. They can be seen by printing the object (as above).\n",
    "If the input format is self-defining (e.g. hdf5) the units are read in the file. For all the other formats, the units are assumed to always be the same and have been inferred from reading the codes using these formats and their documentation (see http://perso.astrophy.u-bordeaux.fr/~jleconte/exo_k-doc/units.html for some examples and a more general discussion)."
   ]
  },
  {
   "cell_type": "markdown",
   "metadata": {},
   "source": [
    "#### Overriding default units in a file\n",
    "\n",
    "If for some reason you know that the units used in a given input file are different from the default ones,\n",
    "you can always override the default units by explicitly stating what are the pressure (`file_p_unit` keyword) and k-coefficient (`file_kdata_unit` keyword) units.\n",
    "\n",
    "Let's say, for example, that you know the pressures in the above file where in fact given in mbar, you could specify it using"
   ]
  },
  {
   "cell_type": "code",
   "execution_count": null,
   "metadata": {},
   "outputs": [],
   "source": [
    "xk.Ktable(filename='data/corrk/H2O_R300_0.3-50mu.ktable.TauREx.pickle', file_p_unit='mbar')"
   ]
  },
  {
   "cell_type": "markdown",
   "metadata": {},
   "source": [
    "Notice how the code pressure unit as changed, but not the actual values in the pressure grid. This is normal, you did not ask for a conversion, you just specified what units you were expecting from the file. "
   ]
  },
  {
   "cell_type": "markdown",
   "metadata": {},
   "source": [
    "#### Converting to new units"
   ]
  },
  {
   "cell_type": "markdown",
   "metadata": {},
   "source": [
    "To control the unit we want to work with, we just need to specify what units we want with the `p_unit` and `kdata_unit` keywords.\n",
    "\n",
    "These keywords accept string input with units recognized by the `astropy.units` library such as 'Pa', 'mbar', and 'bar' for pressure and e.g. 'm^2/molecule' and 'cm^2/molecule' for cross sections. Although '/molecule' is not a unit recognized by `astropy.units`, it is automatically appended to the unit string provided by the user when necessary as a reminder that opacities per 'moles' or 'kg' are not supported."
   ]
  },
  {
   "cell_type": "markdown",
   "metadata": {},
   "source": [
    "To use SI units, just reload your ktable as shown below. Note that you can also force SI units to be used with the global option to be set once and for all.\n",
    "```python\n",
    "xk.Settings().set_mks(True)\n",
    "```"
   ]
  },
  {
   "cell_type": "code",
   "execution_count": null,
   "metadata": {},
   "outputs": [],
   "source": [
    "h2o_ktab_SI=xk.Ktable(filename='data/corrk/H2O_R300_0.3-50mu.ktable.TauREx.pickle',\n",
    "                         kdata_unit='m^2', p_unit='Pa')\n",
    "# or simply\n",
    "xk.Settings().set_mks(True)\n",
    "h2o_ktab_SI=xk.Ktable(filename='data/corrk/H2O_R300_0.3-50mu.ktable.TauREx.pickle')\n",
    "print(h2o_ktab_SI)"
   ]
  },
  {
   "cell_type": "markdown",
   "metadata": {},
   "source": [
    "Now both the pressure unit and the pressure grid have changed!"
   ]
  },
  {
   "cell_type": "markdown",
   "metadata": {},
   "source": [
    "### Setting up the search path and searching files using regular expressions"
   ]
  },
  {
   "cell_type": "markdown",
   "metadata": {},
   "source": [
    "At some point you might get tired of always typing the whole path to your files. To avoid that, we can tell `exo_k` where to look for files. By default, it searches the local directory where the library has been imported (\".\"), as can be seen by running:"
   ]
  },
  {
   "cell_type": "code",
   "execution_count": null,
   "metadata": {},
   "outputs": [],
   "source": [
    "xk.Settings().reset_search_path()\n",
    "xk.Settings().search_path()"
   ]
  },
  {
   "cell_type": "markdown",
   "metadata": {},
   "source": [
    "A new path can be added to the search path as follows"
   ]
  },
  {
   "cell_type": "code",
   "execution_count": 3,
   "metadata": {
    "init_cell": true
   },
   "outputs": [],
   "source": [
    "xk.Settings().add_search_path('data/xsec','data/corrk')"
   ]
  },
  {
   "cell_type": "code",
   "execution_count": null,
   "metadata": {},
   "outputs": [],
   "source": [
    "xk.Settings().search_path()"
   ]
  },
  {
   "cell_type": "markdown",
   "metadata": {},
   "source": [
    "If you do not want to add a path, but to reset the path (in order for exo_k not to see some files in the local directory for example), you can do it as follows:"
   ]
  },
  {
   "cell_type": "code",
   "execution_count": null,
   "metadata": {},
   "outputs": [],
   "source": [
    "xk.Settings().set_search_path('data/corrk')\n",
    "xk.Settings().search_path()"
   ]
  },
  {
   "cell_type": "markdown",
   "metadata": {},
   "source": [
    "Notice that these methods can take as many directories as you want following one of the syntaxes below"
   ]
  },
  {
   "cell_type": "code",
   "execution_count": null,
   "metadata": {},
   "outputs": [],
   "source": [
    "xk.Settings().set_search_path('.','data/xsec','data/corrk')\n",
    "print(xk.Settings().search_path())\n",
    "xk.Settings().set_search_path(*['.','data/xsec','data/corrk'])\n",
    "print(xk.Settings().search_path())\n",
    "xk.Settings().set_search_path(*('.','data/xsec','data/corrk'))\n",
    "print(xk.Settings().search_path())"
   ]
  },
  {
   "cell_type": "markdown",
   "metadata": {},
   "source": [
    "Once we have done that, we can only give part of the name of the file, possibly in bits and pieces, as long as it is specific enouh to identify a unique file."
   ]
  },
  {
   "cell_type": "raw",
   "metadata": {
    "raw_mimetype": "text/restructuredtext"
   },
   "source": [
    ".. warning::\n",
    "    The pattern matching is done using regular expressions (python re module).\n",
    "    Some special characters can have a special meaning. A dot, for example, stands for any single character. \".*\" stands for any number of characters.\n",
    "    If you want to use these as usual characters, do not\n",
    "    forget to put an escaping backslash in front of it."
   ]
  },
  {
   "cell_type": "code",
   "execution_count": null,
   "metadata": {},
   "outputs": [],
   "source": [
    "h2o_ktab_SI=xk.Ktable('H2O_R300_0.3-50mu.ktable.TauREx')\n",
    "print('file found:',h2o_ktab_SI.filename)\n",
    "\n",
    "h2o_ktab_SI=xk.Ktable('H2O_R300_0\\.3\\-50mu\\.ktable\\.TauREx')\n",
    "print('file found:',h2o_ktab_SI.filename)\n",
    "\n",
    "h2o_ktab_SI=xk.Ktable('H2O','R300.*tauREx')\n",
    "print('file found:',h2o_ktab_SI.filename)\n",
    "\n",
    "h2o_ktab_SI=xk.Ktable('H2','R300','tauREx')\n",
    "print('file found:',h2o_ktab_SI.filename)\n",
    "\n",
    "try:\n",
    "    h2o_ktab_SI=xk.Ktable('R300','tauREx',mol='H2')\n",
    "except:\n",
    "    print(\"\"\"Notice how the previous statement was looking for 'H2',\n",
    "    but settled for H2O because the string 'H2O' contains 'H2'.\n",
    "    If you want to avoid that, really specify a molecule with the mol keyword.\"\"\")\n"
   ]
  },
  {
   "cell_type": "markdown",
   "metadata": {},
   "source": [
    "By default, the filters you provide are compared to the file names in a case insensitive way to enable more flexibility. This can be changed with\n",
    "\n",
    "```python\n",
    "xk.Settings().set_case_sensitive(True)\n",
    "```"
   ]
  },
  {
   "cell_type": "markdown",
   "metadata": {},
   "source": [
    "### Saving a Ktable to a pickle or hdf5 file "
   ]
  },
  {
   "cell_type": "markdown",
   "metadata": {},
   "source": [
    "To save any `Ktable()` object to a pickle or hdf5 file, just use `write_pickle()` or `write_hdf5()`.\n",
    "Notice that the full path (relative or absolute) must be provided, except for the file extension that will be added automatically. Here we will write an hdf5 file (more optimal than pickle)"
   ]
  },
  {
   "cell_type": "code",
   "execution_count": null,
   "metadata": {},
   "outputs": [],
   "source": [
    "h2o_ktab_SI=xk.Ktable('H2O_R300_0.3-50mu.ktable.TauREx', kdata_unit='m^2', p_unit='Pa')\n",
    "h2o_ktab_SI.write_hdf5('data/corrk/H2O_R300_0.3-50mu.ktable.SI')"
   ]
  },
  {
   "cell_type": "markdown",
   "metadata": {},
   "source": [
    "This new file has saved the unit information. So now, it can be loaded with only:"
   ]
  },
  {
   "cell_type": "code",
   "execution_count": 4,
   "metadata": {
    "init_cell": true
   },
   "outputs": [],
   "source": [
    "h2o_ktab_SI=xk.Ktable('H2O_R300_0.3-50mu.ktable.SI')"
   ]
  },
  {
   "cell_type": "code",
   "execution_count": null,
   "metadata": {},
   "outputs": [],
   "source": [
    "h2o_ktab_SI"
   ]
  },
  {
   "cell_type": "markdown",
   "metadata": {},
   "source": [
    "### What is inside a Ktable object"
   ]
  },
  {
   "cell_type": "markdown",
   "metadata": {},
   "source": [
    "To see what is inside a `Ktable()` object, you can list the attributes using `__dict__`"
   ]
  },
  {
   "cell_type": "markdown",
   "metadata": {},
   "source": [
    ".. warning::\n",
    "    Although you can access and see these attributes, they should NOT be changed manually\n",
    "    as changing one of them usually implies that others need to be changed too. There is a\n",
    "    method to change all the attributes that can possibly be changed."
   ]
  },
  {
   "cell_type": "markdown",
   "metadata": {},
   "source": [
    "The most useful attributes are the following:  \n",
    "\n",
    " * `mol`, Name of the mol described  \n",
    " * `Ng`, Number of g points  \n",
    " * `filename`,  Name of the file used to load the Ktable  \n",
    " * `ggrid`, Abscissa of the g grid  \n",
    " * `weights`, quadrature weights corresponding to the g points\n",
    " * `kdata`, Numpy array with the coeficients\n",
    " * `kdata_unit`, Units of the kdata  \n",
    " * `pgrid`, pressure grid  \n",
    " * `logpgrid`, Log 10 of the pressure grid  \n",
    " * `Np`, Number of pressure points  \n",
    " * `p_unit`, Units of the pressure grid  \n",
    " * `tgrid`, Temperature grid  \n",
    " * `Nt`, Number of Temperature points  \n",
    " * `wns`, Central points of the wavenumber bins (in cm^-1)  \n",
    " * `wnedges`, Edges of the wavenumber bins (in cm^-1)  \n",
    " * `wls`, Wavelengths (10000./wns in microns)  \n",
    " * `wledges`, Wavelengths (10000./wnedges in microns)  \n",
    " * `Nw`, Number of wavenumber points  \n",
    " * `shape`, shape of the kdata array  \n"
   ]
  },
  {
   "cell_type": "code",
   "execution_count": null,
   "metadata": {},
   "outputs": [],
   "source": [
    "print(h2o_ktab_SI.mol)\n",
    "print(h2o_ktab_SI.pgrid)"
   ]
  },
  {
   "cell_type": "markdown",
   "metadata": {},
   "source": [
    "the data themselves can also be accessed directly as follows (but they cannot be modified this way):"
   ]
  },
  {
   "cell_type": "code",
   "execution_count": null,
   "metadata": {},
   "outputs": [],
   "source": [
    "print(h2o_ktab_SI.kdata[0,0,0,:])\n",
    "print(h2o_ktab_SI[0,0,0,:])"
   ]
  },
  {
   "cell_type": "markdown",
   "metadata": {},
   "source": [
    "### Handling zeros"
   ]
  },
  {
   "cell_type": "markdown",
   "metadata": {},
   "source": [
    "At wavelengths where data are not available, the ktable can be filled with zeros that can become a problem for some codes (e.g. because of log interpolation).  \n",
    "\n",
    "If you want to avoid that, we have created the `remove_zeros=True` option that will replace zeros with a number 10 orders of magnitude smaller than the smallest number in the table. \n",
    "```python\n",
    "h2o_ktab_SI=xk.Ktable(filename, remove_zeros=True, **kwargs)\n",
    "```\n",
    "You can also call manually the `remove_zeros()` method on a `Ktable()`object. "
   ]
  },
  {
   "cell_type": "markdown",
   "metadata": {},
   "source": [
    "### Copying a Ktable object"
   ]
  },
  {
   "cell_type": "markdown",
   "metadata": {},
   "source": [
    "If for some reason, as we will do below, you need to copy a Ktable object before modifying it inplace (to change resolution for example), you can use the `copy` method, that is a bit like the deep copy in `numpy`."
   ]
  },
  {
   "cell_type": "code",
   "execution_count": null,
   "metadata": {},
   "outputs": [],
   "source": [
    "new_h2o_ktab=h2o_ktab_SI.copy()\n",
    "new_h2o_ktab"
   ]
  },
  {
   "cell_type": "markdown",
   "metadata": {},
   "source": [
    "Sometimes one needs to copy only the structure and metadata, but not the big `self.kdata` table. Then, you can use:\n",
    "```\n",
    "new_h2o_ktab=h2o_ktab_SI.copy(cp_kdata=False)\n",
    "```"
   ]
  },
  {
   "cell_type": "markdown",
   "metadata": {},
   "source": [
    "### Clipping data to a given spectral range"
   ]
  },
  {
   "cell_type": "markdown",
   "metadata": {},
   "source": [
    "If for effciency reasons you want to only deal with a small part of the spectral domain, you can use the `Ktable.clip_spectral_range(wl_range= , wn_range= )` method with either a wavelength range (`wl_range`in microns) or a wavenumber range (`wn_range` in cm^-1).\n",
    "Data outside this range will be removed from the table. "
   ]
  },
  {
   "cell_type": "markdown",
   "metadata": {},
   "source": [
    "## Interpolating and remapping opacities"
   ]
  },
  {
   "cell_type": "markdown",
   "metadata": {},
   "source": [
    "### Basic interpolation "
   ]
  },
  {
   "cell_type": "markdown",
   "metadata": {},
   "source": [
    "To get the value of the cross section of the molecule or mix described by our `Ktable()` object, we can use:\n",
    "\n",
    "```python\n",
    "self.interpolate_kdata(logp_array=None,t_array=None,log_interp=None,wngrid_limit=None)\n",
    "```\n",
    "This returns the cross section of the molecule along a LogP-T profile specified by `logp_array` and `t_array`. This returns an array of shape `(logp_array.size, self.Nw, self.Ng)`,  i.e (number of PT points, number of wavenumber points, number of g-points). `logp_array`and `t_array`must have the same size.  \n",
    "\n",
    "It also works if `logp_array` and/or `t_array` are `floats`\n",
    "    \n",
    ".. important:: Notice that the input is always in Log10(Pressure) because this is the quantity used for the interpolation"
   ]
  },
  {
   "cell_type": "raw",
   "metadata": {
    "raw_mimetype": "text/restructuredtext"
   },
   "source": [
    ".. seealso::\n",
    "    :func:`exo_k.data_table.Data_table.interpolate_kdata` for details on arguments and options."
   ]
  },
  {
   "cell_type": "code",
   "execution_count": null,
   "metadata": {},
   "outputs": [],
   "source": [
    "logp=3.\n",
    "Temp=1000.\n",
    "tmp_opa=h2o_ktab_SI.interpolate_kdata(logp,Temp)\n",
    "print(tmp_opa.shape)\n",
    "print(tmp_opa)"
   ]
  },
  {
   "cell_type": "code",
   "execution_count": null,
   "metadata": {},
   "outputs": [],
   "source": [
    "logp_array=np.linspace(1.,6.,6)\n",
    "t_array=[1000. for logp in logp_array]\n",
    "tmp_opa=h2o_ktab_SI.interpolate_kdata(logp_array,t_array)\n",
    "print(tmp_opa.shape)"
   ]
  },
  {
   "cell_type": "markdown",
   "metadata": {},
   "source": [
    "### Interpolation options"
   ]
  },
  {
   "cell_type": "markdown",
   "metadata": {},
   "source": [
    "The default interpolation scheme interpolates `log(kdata)`. This can be changed directly using the `log_interp=False` keyword. But the default behavior can also be changed using `Settings().set_log_interp`. The keyword always supercedes the default behavior."
   ]
  },
  {
   "cell_type": "code",
   "execution_count": null,
   "metadata": {},
   "outputs": [],
   "source": [
    "logp=3.\n",
    "Temp=1000.\n",
    "tmp_opa_lin1=h2o_ktab_SI.interpolate_kdata(logp,Temp,log_interp=False)"
   ]
  },
  {
   "cell_type": "code",
   "execution_count": null,
   "metadata": {},
   "outputs": [],
   "source": [
    "xk.Settings().set_log_interp(False)\n",
    "logp=3.\n",
    "Temp=1000.\n",
    "tmp_opa_lin2=h2o_ktab_SI.interpolate_kdata(logp,Temp)\n",
    "np.sum(tmp_opa_lin2-tmp_opa_lin1)\n",
    "xk.Settings().set_log_interp(True) ## let's go back to default behavior"
   ]
  },
  {
   "cell_type": "markdown",
   "metadata": {},
   "source": [
    "Linear interpolation is of course faster, but is believed to be less accurate. "
   ]
  },
  {
   "cell_type": "code",
   "execution_count": null,
   "metadata": {},
   "outputs": [],
   "source": [
    "logp=3.\n",
    "Temp=1000.\n",
    "%timeit -n 1000 -r 2 h2o_ktab_SI.interpolate_kdata(logp,Temp,log_interp=True)\n",
    "%timeit -n 1000 -r 2 h2o_ktab_SI.interpolate_kdata(logp,Temp,log_interp=False)"
   ]
  },
  {
   "cell_type": "markdown",
   "metadata": {},
   "source": [
    "If we just want a part of the spectrum, we can specify a **wavenumber** range (in cm^-1) to cover as follows.   \n",
    "You can see that it goes much faster."
   ]
  },
  {
   "cell_type": "code",
   "execution_count": null,
   "metadata": {},
   "outputs": [],
   "source": [
    "logp=3.\n",
    "Temp=1000.\n",
    "wn_range=[6000.,5000.] # does not need to be sorted\n",
    "%timeit -n 1000 -r 2 h2o_ktab_SI.interpolate_kdata(logp,Temp,wngrid_limit=wn_range,log_interp=True)\n",
    "%timeit -n 1000 -r 2 h2o_ktab_SI.interpolate_kdata(logp,Temp,wngrid_limit=wn_range,log_interp=False)\n",
    "tmp_opa=h2o_ktab_SI.interpolate_kdata(logp,Temp,wngrid_limit=wn_range)\n",
    "print(tmp_opa.shape)\n",
    "print(tmp_opa)"
   ]
  },
  {
   "cell_type": "markdown",
   "metadata": {},
   "source": [
    "### (Log P, T) grid Remapping "
   ]
  },
  {
   "cell_type": "markdown",
   "metadata": {},
   "source": [
    "If for computational efficiency reason we just want to use a subset of the (Log P, T) grid, we can remap the table. This will modify the Table in place. So we might want to make a copy before."
   ]
  },
  {
   "cell_type": "code",
   "execution_count": null,
   "metadata": {},
   "outputs": [],
   "source": [
    "Small_Grid_h2o_ktab=h2o_ktab_SI.copy()\n",
    "logp_array=np.arange(6.)\n",
    "t_array=np.linspace(200.,1000.,9)\n",
    "\n",
    "Small_Grid_h2o_ktab.remap_logPT(logp_array=logp_array,t_array=t_array)\n",
    "Small_Grid_h2o_ktab"
   ]
  },
  {
   "cell_type": "markdown",
   "metadata": {},
   "source": [
    "## Plotting opacities and k-distributions"
   ]
  },
  {
   "cell_type": "markdown",
   "metadata": {},
   "source": [
    "To help you vizualize opacities, the  \n",
    "```python\n",
    "plot_spectrum(self,ax,p=1.e-5,t=200.,g=0.,xscale=None,xscale=None,x=1.,**kwarg)\n",
    "```\n",
    "method is there to make it easy to plot at the requested (p,T,g) point. You can also normalize the cross section \n",
    "with the volume mixing ratio you want for the species with the `x=vmr` keyword."
   ]
  },
  {
   "cell_type": "code",
   "execution_count": null,
   "metadata": {
    "scrolled": true
   },
   "outputs": [],
   "source": [
    "# %matplotlib notebook\n",
    "p_plot=1.e5\n",
    "t_plot=1000.\n",
    "fig,axs=plt.subplots(2,2,sharex=False,sharey=False,figsize=(9,6.5))\n",
    "h2o_ktab_SI.plot_spectrum(axs[0,0],p=p_plot,t=t_plot,g=1.,yscale='log',xscale='log',label='g=1')\n",
    "h2o_ktab_SI.plot_spectrum(axs[0,0],p=p_plot,t=t_plot,g=0.,yscale='log',xscale='log',label='g=0')\n",
    "axs[0, 0].set_title('Log-Log')\n",
    "h2o_ktab_SI.plot_spectrum(axs[1,0],p=p_plot,t=t_plot,g=1.,xscale='log',label='g=1')\n",
    "h2o_ktab_SI.plot_spectrum(axs[1,0],p=p_plot,t=t_plot,g=0.,xscale='log',label='g=0')\n",
    "axs[1, 0].set_title('Lin-Log')\n",
    "h2o_ktab_SI.plot_spectrum(axs[0,1],p=p_plot,t=t_plot,g=1.,yscale='log',label='g=1')\n",
    "h2o_ktab_SI.plot_spectrum(axs[0,1],p=p_plot,t=t_plot,g=0.,yscale='log',label='g=0')\n",
    "axs[0, 1].set_title('Log-Lin')\n",
    "h2o_ktab_SI.plot_spectrum(axs[1,1],p=p_plot,t=t_plot,g=1.,label='g=1')\n",
    "h2o_ktab_SI.plot_spectrum(axs[1,1],p=p_plot,t=t_plot,g=0.,label='g=0')\n",
    "axs[1, 1].set_title('Lin-Lin')\n",
    "for axs in axs:\n",
    "    for ax in axs:\n",
    "        ax.legend()\n",
    "#ax.set_ylim(bottom=1.e-37)\n",
    "fig.tight_layout()"
   ]
  },
  {
   "cell_type": "markdown",
   "metadata": {},
   "source": [
    "The g gistribution is shown with `plot_distrib`. Notice that when you ask for a log scale in g, we switch to 1-g as it is the most relevant quantity to look at in log."
   ]
  },
  {
   "cell_type": "code",
   "execution_count": null,
   "metadata": {
    "scrolled": true
   },
   "outputs": [],
   "source": [
    "p_plot=1.e5\n",
    "t_plot=1000.\n",
    "fig,axs=plt.subplots(2,2,sharex=False,sharey=False,figsize=(9,6.5))\n",
    "h2o_ktab_SI.plot_distrib(axs[0,0],p=p_plot,t=t_plot,wl=1.0,yscale='log',xscale='log',label='$\\lambda=1\\mu$m')\n",
    "h2o_ktab_SI.plot_distrib(axs[0,0],p=p_plot,t=t_plot,wl=10.,yscale='log',xscale='log',label='$\\lambda=10\\mu$m')\n",
    "h2o_ktab_SI.plot_distrib(axs[1,0],p=p_plot,t=t_plot,wl=1.0,xscale='log',label='$\\lambda=1\\mu$m')\n",
    "h2o_ktab_SI.plot_distrib(axs[1,0],p=p_plot,t=t_plot,wl=10.,xscale='log',label='$\\lambda=10\\mu$m')\n",
    "h2o_ktab_SI.plot_distrib(axs[0,1],p=p_plot,t=t_plot,wl=1.0,yscale='log',label='$\\lambda=1\\mu$m')\n",
    "h2o_ktab_SI.plot_distrib(axs[0,1],p=p_plot,t=t_plot,wl=10.,yscale='log',label='$\\lambda=10\\mu$m')\n",
    "h2o_ktab_SI.plot_distrib(axs[1,1],p=p_plot,t=t_plot,wl=1.0,label='$\\lambda=1\\mu$m')\n",
    "h2o_ktab_SI.plot_distrib(axs[1,1],p=p_plot,t=t_plot,wl=10.,label='$\\lambda=10\\mu$m')\n",
    "for axs in axs:\n",
    "    for ax in axs:\n",
    "        ax.legend()\n",
    "#ax.set_ylim(bottom=1.e-37)\n",
    "fig.tight_layout()"
   ]
  },
  {
   "cell_type": "markdown",
   "metadata": {},
   "source": [
    "## Binning down a `Ktable`"
   ]
  },
  {
   "cell_type": "markdown",
   "metadata": {},
   "source": [
    "We now get to one of the core features of `exo_k`: we want to create a new `Ktable()` object with just the spectral resolution we need in the model we want to run (whether it is a Global Climate Model, a 1D climate model, or a simple forward model for a retrieval).  \n",
    "\n",
    "You first need to provide a grid, `wnedges`, containing the edges of the new wavenumber bins. So the final Ktable will have a spectral dimension with size `wnedges.size-1`.\n",
    "\n",
    "You can of course provide any custom grid you want. But if you want a grid at fixed resolution you can use the following\n",
    "```python\n",
    "xk.wavenumber_grid_R(min_wavenumber, max_wavenumber, R)\n",
    "```\n",
    "where $R=\\frac{\\nu}{\\delta \\nu}$."
   ]
  },
  {
   "cell_type": "code",
   "execution_count": null,
   "metadata": {},
   "outputs": [],
   "source": [
    "R=10\n",
    "wavenumber_grid=xk.wavenumber_grid_R(200.,10000.,R)\n",
    "wavenumber_grid"
   ]
  },
  {
   "cell_type": "markdown",
   "metadata": {},
   "source": [
    "Then we just need to use the `bin_down(wnedges)` method. However, bin_down modifies the `Ktable()` in place. So again, if we want to keep the original one in memory, we just copy it or use `bin_down_cp`.  \n",
    "\n",
    "Optional keywords can be `weights=` and `ggrid=` where you can provide the weights you want (and in the corresponding g points). In general, for an LMDZ user, just input the values inside g.dat (except for the final zero) in a `w_array`, and use `weights=w_array`. If you want gauss legendre weights, you can have a look at `exo_k.gauss_legendre` in the index."
   ]
  },
  {
   "cell_type": "raw",
   "metadata": {
    "raw_mimetype": "text/restructuredtext"
   },
   "source": [
    ".. seealso::\n",
    "    :func:`exo_k.ktable.Ktable.bin_down` :func:`~exo_k.data_table.Data_table.bin_down_cp`\n",
    "    for details on arguments and options."
   ]
  },
  {
   "cell_type": "markdown",
   "metadata": {},
   "source": [
    "It should only take a few seconds. (However, the bigger the final resolution wanted, the longer it takes)."
   ]
  },
  {
   "cell_type": "code",
   "execution_count": null,
   "metadata": {},
   "outputs": [],
   "source": [
    "start=time.time()\n",
    "LowRes_h2o_ktab=h2o_ktab_SI.bin_down_cp(wavenumber_grid)\n",
    "end=time.time()\n",
    "print('computation time=',end-start,'s')\n",
    "LowRes_h2o_ktab"
   ]
  },
  {
   "cell_type": "code",
   "execution_count": null,
   "metadata": {},
   "outputs": [],
   "source": [
    "p_plot=1.e0\n",
    "t_plot=300.\n",
    "fig,axs=plt.subplots(1,2,sharex=False,sharey=False)\n",
    "h2o_ktab_SI.plot_spectrum(axs[0],p=p_plot,t=t_plot,g=1.,yscale='log',xscale='log',label='Original data')\n",
    "LowRes_h2o_ktab.plot_spectrum(axs[0],p=p_plot,t=t_plot,g=1.,label='Binned data')\n",
    "h2o_ktab_SI.plot_spectrum(axs[1],p=p_plot,t=t_plot,g=1.,yscale='log',xscale='log',label='Original data')\n",
    "LowRes_h2o_ktab.plot_spectrum(axs[1],p=p_plot,t=t_plot,g=1.,label='Binned data')\n",
    "axs[1].set_xlim(left=1.,right=6.)\n",
    "axs[1].set_xscale('linear')\n",
    "for ax in axs:\n",
    "    ax.legend()\n",
    "fig.tight_layout()"
   ]
  },
  {
   "cell_type": "markdown",
   "metadata": {},
   "source": [
    "## Rescaling and mixing `Ktable`s"
   ]
  },
  {
   "cell_type": "markdown",
   "metadata": {},
   "source": [
    "The `Ktable` we have seen up to now contain opacity data (in terms of cross section in surface per molecule) for pure species. To create a mix, you can dilute your tables with (multiply by) the Volume mixing ratio of the relevant species and add them."
   ]
  },
  {
   "cell_type": "markdown",
   "metadata": {},
   "source": [
    ".. important::\n",
    "    Although we are using the '+' sign,\n",
    "    the tables are actually combined using the Random overlap method."
   ]
  },
  {
   "cell_type": "markdown",
   "metadata": {},
   "source": [
    ".. warning::\n",
    "    `Ktable`s should have the same dimensions and grids to be combined.\n",
    "    For efficiency, the code only checks whether the dimensions are the same\n",
    "    (and raises a `TypeError` if they are not).\n",
    "    The user should make sure the grids are the same as well. "
   ]
  },
  {
   "cell_type": "code",
   "execution_count": null,
   "metadata": {},
   "outputs": [],
   "source": [
    "h2o=xk.Ktable('H2O_R300_0.3-50mu.ktable.SI', remove_zeros=True)\n",
    "co2=xk.Ktable('CO2_R300_0.3-50mu.ktable.SI', remove_zeros=True)\n",
    "for ktab in [co2,h2o]:\n",
    "    ktab.remap_logPT(logp_array=np.arange(0,5),t_array=np.arange(200.,500.,50.))\n",
    "start=time.time()\n",
    "mix=0.01*h2o+co2*0.02\n",
    "print('Mixing time=',time.time()-start,'s')"
   ]
  },
  {
   "cell_type": "code",
   "execution_count": null,
   "metadata": {},
   "outputs": [],
   "source": [
    "p_plot=1.e0\n",
    "t_plot=300.\n",
    "fig,ax=plt.subplots(1,1,sharex=False,sharey=False)\n",
    "h2o.plot_spectrum(ax,p=p_plot,t=t_plot,g=1.,x=0.01,yscale='log',xscale='log',label='H2O')\n",
    "co2.plot_spectrum(ax,p=p_plot,t=t_plot,g=1.,x=0.01,label='CO2')\n",
    "mix.plot_spectrum(ax,p=p_plot,t=t_plot,g=1.,yscale='log',xscale='log',label='mix')\n",
    "ax.set_ylim(bottom=1.e-36)\n",
    "ax.legend()\n",
    "fig.tight_layout()"
   ]
  },
  {
   "cell_type": "markdown",
   "metadata": {},
   "source": [
    ".. important::\n",
    " For the moment, the `Ktable` for the mix inherits attributes (such as the name of the molecule)\n",
    " from the most leftward `Ktable` in the operation. "
   ]
  },
  {
   "cell_type": "markdown",
   "metadata": {},
   "source": [
    "The renormalization operation also accepts an array of volume mixing ratio, but only if it has the dimensions `(Number of P points, number of T points)`."
   ]
  },
  {
   "cell_type": "code",
   "execution_count": null,
   "metadata": {},
   "outputs": [],
   "source": [
    "x_h2o=np.array([0.01+0.02*logP+0.00001*T for logP in h2o.logpgrid for T in h2o.tgrid]).reshape((h2o.Np,h2o.Nt))\n",
    "mix=x_h2o*h2o+co2*0.02"
   ]
  },
  {
   "cell_type": "markdown",
   "metadata": {},
   "source": [
    "# <span style=\"color:blue\">Dealing with mixes: The `Kdatabase()` object </span>"
   ]
  },
  {
   "cell_type": "markdown",
   "metadata": {},
   "source": [
    "## Loading a `Kdatabase()` object"
   ]
  },
  {
   "cell_type": "markdown",
   "metadata": {},
   "source": [
    "### Global loading from files"
   ]
  },
  {
   "cell_type": "markdown",
   "metadata": {},
   "source": [
    "A `Kdatabase()` object mainly contains a dictionary of `Ktable()` objects identified by the name of their molecule (in the attribute `self.ktables`, but they can be accessed with `self['mol_name']`). In addition, most of the attributes of the `Ktable()` are reloaded as attributes of `Kdatabase()`.\n",
    "\n",
    "To load a database, just specify a list of molecules and a string filter that is common to all your filenames."
   ]
  },
  {
   "cell_type": "raw",
   "metadata": {
    "raw_mimetype": "text/restructuredtext"
   },
   "source": [
    "For details on the available arguments and options, check-out :func:`exo_k.kdatabase.Kdatabase`."
   ]
  },
  {
   "cell_type": "code",
   "execution_count": null,
   "metadata": {},
   "outputs": [],
   "source": [
    "molecs=['H2O','CO2']\n",
    "filt='R300_0.3-50mu.ktable.SI'\n",
    "database=xk.Kdatabase(molecs, filt)\n",
    "database"
   ]
  },
  {
   "cell_type": "markdown",
   "metadata": {},
   "source": [
    "It will look for files starting with the molecule names, followed by `_`, `.`, and `-`, and containing the filters.\n",
    "\n",
    "If you want the moleculer name to be followed by something else than these characters, then just change the setting by using the `xk.Settings().set_delimiters` method."
   ]
  },
  {
   "cell_type": "markdown",
   "metadata": {},
   "source": [
    ".. important::\n",
    " The latest release of Exomol data is using a new convention to write molecule names (to include isotopologues) which is not yet completely supported by the Loading method above. We are working on that (so be sure to use the latest version). For the moment, to load these files into a database, you can use the method below."
   ]
  },
  {
   "cell_type": "markdown",
   "metadata": {},
   "source": [
    "Of course, this is unpractical when you do not have a homogeneous set of Ktables to start with. Then you can just feed a dictionary of molecules with the associated files path."
   ]
  },
  {
   "cell_type": "code",
   "execution_count": null,
   "metadata": {},
   "outputs": [],
   "source": [
    "database=xk.Kdatabase({'H2O':'data/corrk/H2O_R300_0.3-50mu.ktable.SI.hdf5',\n",
    "                       'CO2':'data/corrk/CO2_R300_0.3-50mu.ktable.SI.pickle'})\n",
    "database"
   ]
  },
  {
   "cell_type": "markdown",
   "metadata": {},
   "source": [
    "### Adding individual, already-loaded `Ktable`s "
   ]
  },
  {
   "cell_type": "markdown",
   "metadata": {},
   "source": [
    "Sometimes, you want to modify/remap/bin_down your `Ktable`s before loading it into a `Kdatabase`. However, you do not necessarily want to have to store these intermediate steps into a file to read it into a database as described above.\n",
    "\n",
    "To do this, you can add one or several `Ktable` using the `add_ktables(*ktables)` method.\n",
    "If you want to start from scratch, you'll need to create an empty `Kdatabase` as follows."
   ]
  },
  {
   "cell_type": "code",
   "execution_count": null,
   "metadata": {},
   "outputs": [],
   "source": [
    "database=xk.Kdatabase(None) # create empty database\n",
    "print(database)\n",
    "\n",
    "h2o=xk.Ktable('H2O_R300_0.3-50mu.ktable.SI', remove_zeros=True)\n",
    "co2=xk.Ktable('CO2_R300_0.3-50mu.ktable.SI', remove_zeros=True)\n",
    "co2.remap_logPT(logp_array=np.arange(0,5),t_array=np.arange(200.,500.,50.))\n",
    "\n",
    "database.add_ktables(h2o, co2)\n",
    "print(database)"
   ]
  },
  {
   "cell_type": "markdown",
   "metadata": {},
   "source": [
    "### Dealing with inhomogeneous databases"
   ]
  },
  {
   "cell_type": "markdown",
   "metadata": {},
   "source": [
    "As we are loading `Ktables` from various possible sources, that we may have modified however we like, we are bound to end up with a inhomogeneous database because all the `Ktable`:\n",
    "\n",
    "  * do not have the same datatype.\n",
    "  * do not have the same weights and g grid,\n",
    "  * do not have the same logP-T grid,\n",
    "  * do not have the same spectral grid,\n",
    "  * do not have the same units\n",
    "\n",
    "For the moment, a `Kdatabase` needs to be homogeneous to be used to create mixes or compute forward models (see below).\n",
    "\n",
    "The 1st issue is due to the fact that `exo_k` can handle other types of data (e.g. `Xtable` that are regular cross section tables; see dedicated section below). Although these data types can be handled in a database, a `Kdatabase` can only deal with a single type at a time. Loading different types will result in an error.  \n",
    "\n",
    "The 2nd issue is delicate because there are no easy way to accurately re-interpolate a `Ktable` on a different g grid. So for the moment, there is no way to remedy this. The user needs to provide `Ktable` with the same g grid and weights. Loading tables with different g grids will result in an error. \n",
    "  \n",
    " The remaining issues are easily handled by following the suggestion in the warning message (see above):\n",
    " \n",
    "   * Using `Kdatabase.remap_logPT(logp_array= , t_array= )` will homogenize the log P-T grid by\n",
    "     interpolating (in place) all the `Ktables` to a common grid.\n",
    "   * Using `Kdatabase.bin_down(wnedges= , **kwargs)` will homogenize the spectral grid by\n",
    "     binning down (in place) all the `Ktables` to a common grid.\n",
    "   * If you are using cross sections, the spectral grid can be homogenized using\n",
    "     `Kdatabase.sample(wngrid= )` instead of bin_down (see below).\n",
    "   * All the `Ktable`s can be converted to the same units using `Kdatabase.convert_p_unit()` and\n",
    "     `Kdatabase.convert_kdata_unit()`, or directly `Kdatabase.convert_to_mks()`\n",
    "  "
   ]
  },
  {
   "cell_type": "code",
   "execution_count": null,
   "metadata": {},
   "outputs": [],
   "source": [
    "print(database)\n",
    "print('remapping...')\n",
    "database.remap_logPT(logp_array=np.arange(0,5),t_array=np.arange(200.,500.,50.))\n",
    "print(database)"
   ]
  },
  {
   "cell_type": "markdown",
   "metadata": {},
   "source": [
    ".. warning::\n",
    "A `Ktable` is not deep copied when loaded into a database! Modifying the database inplace thus modifies the original table as well."
   ]
  },
  {
   "cell_type": "code",
   "execution_count": null,
   "metadata": {},
   "outputs": [],
   "source": [
    "# See how the values in the P and T grids have changed\n",
    "# compared to their values in the previous section.\n",
    "h2o"
   ]
  },
  {
   "cell_type": "markdown",
   "metadata": {},
   "source": [
    "## Accessing individual `Ktables`"
   ]
  },
  {
   "cell_type": "markdown",
   "metadata": {},
   "source": [
    "A `Kdatabase` is essentially a dictionary and individual `Ktable` objects can be accessed using the molecule name as a key. When adding `Ktable`s one by one, the molecule name used as a key is inherited from the `Ktable.mol` attribute. If you are loading a new `Ktable` with a molecule name that is already in the database, the latter will be replaced. "
   ]
  },
  {
   "cell_type": "code",
   "execution_count": null,
   "metadata": {},
   "outputs": [],
   "source": [
    "database['H2O'].filename"
   ]
  },
  {
   "cell_type": "markdown",
   "metadata": {},
   "source": [
    ".. warning::\n",
    "    You **cannot** load a new table this way!\n",
    "\n",
    "```python\n",
    "database['SiO']=SiO_ktable\n",
    "TypeError: 'Kdatabase' object does not support item assignment\n",
    "```"
   ]
  },
  {
   "cell_type": "markdown",
   "metadata": {},
   "source": [
    "## Create a `Ktable()` for a mix of gases"
   ]
  },
  {
   "cell_type": "markdown",
   "metadata": {},
   "source": [
    "One of the main interests of databases is to actually be able to create new correlated-k tables for mixtures of gases. \n",
    "\n",
    "Just create a dictionary with the names of the molecules and the corresponding volume mixing  ratios. Notice that the sum of the mixing ratios does not need to be equal to one. In that case, it is assumed that the rest of the gas is composed of radiatively inactive species. Then, the opacity given is in m^2 per total number of molecules (couting the inactive ones).\n",
    "\n",
    "If a molecule is not in the database, it will just be considered radiatively inactive. "
   ]
  },
  {
   "cell_type": "code",
   "execution_count": null,
   "metadata": {},
   "outputs": [],
   "source": [
    "molecs=['H2O','CO2']\n",
    "suffix='R300_0.3-50mu.ktable.SI'\n",
    "database=xk.Kdatabase(molecs,suffix)\n",
    "\n",
    "composition={'H2O':0.001,'CO2':400.e-6,'N2':'background'}\n",
    "\n",
    "start=time.time()\n",
    "mixH2O_CO2=database.create_mix_ktable(composition)\n",
    "\n",
    "mixH2O_CO2.write_hdf5('data/corrk/mix_H2O_CO2')\n",
    "\n",
    "end=time.time()\n",
    "print(\"computation time \",end - start,'s')        "
   ]
  },
  {
   "cell_type": "markdown",
   "metadata": {},
   "source": [
    "Here, the `'N2':'background'`in the composition dictionary tells the code that N2 is the background 'filler' gas. So whatever the vmr given before, N2 will be adjusted to get a total vmr of 1. Because N2 is not in the database, its opacity will however not be considered.\n",
    "\n",
    "(Why doing this you might ask? Well, here including N2 does not change anything as it is considered transparent anyway. This will become important however when we will deal with atmospheric models where including N2 will allow us to have the right mean molecular weight for the atmosphere). "
   ]
  },
  {
   "cell_type": "code",
   "execution_count": null,
   "metadata": {},
   "outputs": [],
   "source": [
    "ptest=1.e4\n",
    "ttest=300.\n",
    "fig,axs=plt.subplots(1,2,sharex=True,sharey=True)\n",
    "for species,x in composition.items():\n",
    "  if x is not 'background':\n",
    "    database[species].plot_spectrum(axs[0],p=ptest,t=ttest,g=1.,x=x,linestyle='dashed',yscale='log')\n",
    "    database[species].plot_spectrum(axs[1],p=ptest,t=ttest,g=0.,x=x,linestyle='dashed',yscale='log')\n",
    "mixH2O_CO2.plot_spectrum(axs[0],p=ptest,t=ttest,g=1.)\n",
    "mixH2O_CO2.plot_spectrum(axs[1],p=ptest,t=ttest,g=0.)\n",
    "axs[0].set_title('g=1')\n",
    "axs[1].set_title('g=0')\n",
    "for ax in axs :\n",
    "    ax.set_xscale('log')\n",
    "    ax.label_outer()\n",
    "    ax.set_ylim(bottom=1.e-40)\n",
    "fig.tight_layout()"
   ]
  },
  {
   "cell_type": "markdown",
   "metadata": {},
   "source": [
    "## Binning down a `Kdatabase()`"
   ]
  },
  {
   "cell_type": "markdown",
   "metadata": {},
   "source": [
    "Just like `Ktable()` objects, you can change the spectral resolution of an entire database with the same `bin_down(wnedges)` method. It will be applied to all ktables in place (`weights` keyword available as well). "
   ]
  },
  {
   "cell_type": "code",
   "execution_count": null,
   "metadata": {},
   "outputs": [],
   "source": [
    "R=10\n",
    "wavenumber_grid=xk.wavenumber_grid_R(200.,10000.,R)\n",
    "database.bin_down(wavenumber_grid)"
   ]
  },
  {
   "cell_type": "markdown",
   "metadata": {},
   "source": [
    "Notice how the resolution has changed below when we run the exact same code. "
   ]
  },
  {
   "cell_type": "code",
   "execution_count": null,
   "metadata": {},
   "outputs": [],
   "source": [
    "ptest=1.e4\n",
    "ttest=300.\n",
    "\n",
    "fig,axs=plt.subplots(1,2,sharex=True,sharey=True)\n",
    "for species,x in composition.items():\n",
    "  if x is not 'background':\n",
    "    database[species].plot_spectrum(axs[0],p=ptest,t=ttest,g=1.,x=x,linestyle='dashed',label=species)\n",
    "    database[species].plot_spectrum(axs[1],p=ptest,t=ttest,g=0.,x=x,linestyle='dashed',label=species)\n",
    "mixH2O_CO2.plot_spectrum(axs[0],p=ptest,t=ttest,g=1.,label='mix')\n",
    "mixH2O_CO2.plot_spectrum(axs[1],p=ptest,t=ttest,g=0.,label='mix')\n",
    "axs[0].set_title('g=1')\n",
    "axs[1].set_title('g=0')\n",
    "for ax in axs :\n",
    "    ax.set_xscale('log')\n",
    "    ax.set_yscale('log')\n",
    "    ax.label_outer()\n",
    "    ax.set_ylim(bottom=1.e-40)\n",
    "    ax.legend()\n",
    "fig.tight_layout()"
   ]
  },
  {
   "cell_type": "markdown",
   "metadata": {},
   "source": [
    "# <span style=\"color:blue\">Loading and creating correlated-k tables to use with LMDZ GCM</span>"
   ]
  },
  {
   "cell_type": "markdown",
   "metadata": {},
   "source": [
    "## Creating new corr-k for LMDZ-GCM"
   ]
  },
  {
   "cell_type": "markdown",
   "metadata": {},
   "source": [
    "`exo_k` has also been designed to create corr-k tables to be used with the LMDZ gcm.  \n",
    "\n",
    "To produce a LMDZ usable directory with the corr-k and all the supporting files, nothing is simpler. "
   ]
  },
  {
   "cell_type": "markdown",
   "metadata": {},
   "source": [
    ".. important::\n",
    "        This section only deals with corr-k tables *without* variable gases.\n",
    "        For these, we need to deal with gas mixes and\n",
    "        `Ktable5D` that are discussed a little further down."
   ]
  },
  {
   "cell_type": "markdown",
   "metadata": {},
   "source": [
    "First, let's create a grid for our IR and VI channels and create our two ktables."
   ]
  },
  {
   "cell_type": "code",
   "execution_count": null,
   "metadata": {},
   "outputs": [],
   "source": [
    "R=10\n",
    "IR_grid=xk.wavenumber_grid_R(220.,10000.,R)\n",
    "VI_grid=xk.wavenumber_grid_R(5200.,33000.,R)\n",
    "\n",
    "IR_h2o_ktab=h2o_ktab_SI.bin_down_cp(IR_grid)\n",
    "\n",
    "VI_h2o_ktab=h2o_ktab_SI.bin_down_cp(VI_grid)"
   ]
  },
  {
   "cell_type": "markdown",
   "metadata": {},
   "source": [
    "Once your low resolution corrk table has been produced, just run"
   ]
  },
  {
   "cell_type": "code",
   "execution_count": null,
   "metadata": {},
   "outputs": [],
   "source": [
    "IR_h2o_ktab.write_LMDZ('data/corrk/lmdz/new_h2o_corrk',band='IR')\n",
    "VI_h2o_ktab.write_LMDZ('data/corrk/lmdz/new_h2o_corrk',band='VI')"
   ]
  },
  {
   "cell_type": "markdown",
   "metadata": {},
   "source": [
    "**Should you care about units?**  \n",
    "\n",
    "Actually... no! Because we have tracked units from the beginning, and we know LMDZ likes ktables in cm^2/molec and pressures in log mBar, **the conversion has been done automatically** for you.\n",
    "\n",
    "The LMDZ aficionados may have noticed that in the `corrk/new_h2o_corrk` directory, two subdirectories have been created with the names `IR self.Nw` and `VI self.Nw` that contain the corr-k tables whereas we would like a single directory called `Number_of_IR_bins x Number_of_VI_bins`. Then just run:"
   ]
  },
  {
   "cell_type": "code",
   "execution_count": null,
   "metadata": {},
   "outputs": [],
   "source": [
    "xk.finalize_LMDZ_dir('data/corrk/lmdz/new_h2o_corrk',IR_h2o_ktab.Nw,VI_h2o_ktab.Nw)"
   ]
  },
  {
   "cell_type": "markdown",
   "metadata": {},
   "source": [
    "You just have to create a `Q.dat` file inthe directory and you are good to run LMDZ with new corrk."
   ]
  },
  {
   "cell_type": "markdown",
   "metadata": {},
   "source": [
    "## Loading existing LMDZ corr-k tables"
   ]
  },
  {
   "cell_type": "markdown",
   "metadata": {},
   "source": [
    "To load a LMDZ corr-k table, the initialization method needs some more information:\n",
    "\n",
    "  * The directory to use (`path=`)\n",
    "  * The resolution (`res=`)\n",
    "  * Whether you want to load the 'IR' or 'VI' band (`band=`)\n",
    "  \n",
    "The `mol` keyword can be given to specify which species is described. This will be useful for mixes. \n",
    "\n",
    "Here, if you do not specify units, you will keep the LMDZ ones (cm^2 and mBar). But we advise to use the SI units. In particular because our radiative transfer method use SI units. "
   ]
  },
  {
   "cell_type": "code",
   "execution_count": null,
   "metadata": {},
   "outputs": [],
   "source": [
    "IR_h2o_ktab=xk.Ktable(path='data/corrk/lmdz/new_h2o_corrk',res='39x19',band='IR',mol='H2O',\n",
    "                kdata_unit='m^2',p_unit='Pa')\n",
    "print(IR_h2o_ktab)"
   ]
  },
  {
   "cell_type": "markdown",
   "metadata": {},
   "source": [
    "## Creating a LMDZ corr-k with a variable gas from a `Kdatabase`: the `Ktable5d`"
   ]
  },
  {
   "cell_type": "markdown",
   "metadata": {},
   "source": [
    "Here, we will finally see one of the strengths of `Kdatabase` objects. Because we can create mix of gases and bin down, we have everything we need to create LMDZ like ktables for variable gases.\n",
    "\n",
    "For this, use\n",
    "```python\n",
    "Kdatabase.create_mix_ktable5d(vgas_comp=, bg_comp=, x_array=)\n",
    "```\n",
    "where:\n",
    "\n",
    "  - `vgas_comp` must contain a dictionary of the composition of the variable gas (it can be a single molecule).\n",
    "  - `bg_comp` does the same for the background gas.\n",
    "  - `x_array` is an array of the vol mix ratios of the variable gas that we want to compute in the table. "
   ]
  },
  {
   "cell_type": "raw",
   "metadata": {
    "raw_mimetype": "text/restructuredtext"
   },
   "source": [
    ".. warning::\n",
    "  A correlated-k table with a variable gas has one more dimension than a standard `Ktable`\n",
    "  (for the mixing ratio of the variable species).\n",
    "\n",
    "  Therefore, such tables are handled with a special class: `Ktable5d`. \n",
    "\n",
    "  Most methods available to `Ktable` can be used with `Ktable5d`\n",
    "  (like plotting, writing, interpolating, binning down). \n",
    "  \n",
    "  Because they already represent a mix and never a pure species,\n",
    "  they cannot be used exactly the same:\n",
    "  \n",
    "    * They cannot be normalized by a table of volume mixing ratios.\n",
    "    * They cannot be combined with other `Ktable5d`.\n",
    "    * They cannot be used in a `Kdatabase` along with other regular `Ktable`s\n"
   ]
  },
  {
   "cell_type": "code",
   "execution_count": null,
   "metadata": {},
   "outputs": [],
   "source": [
    "start=time.time()\n",
    "\n",
    "molecs=['H2O','CO2']\n",
    "suffix='R300_0.3-50mu.ktable.SI'\n",
    "\n",
    "database=xk.Kdatabase(molecs,suffix)\n",
    "# we first remap on a smaller logP T grid for speed\n",
    "database.remap_logPT(logp_array=np.arange(6.), t_array=[200.,300.,400.,500.,600.])\n",
    "x_array=[1.e-7,0.1]\n",
    "vgas={'H2O':'background'}\n",
    "bg_gas={'CO2':4.e-4,'N2':'background'}\n",
    "mix_var_gas=database.create_mix_ktable5d(vgas_comp=vgas,bg_comp=bg_gas,x_array=x_array)\n",
    "end=time.time()\n",
    "print(\"computation time \",end - start)        "
   ]
  },
  {
   "cell_type": "markdown",
   "metadata": {},
   "source": [
    "Then we can bin down before writing to file"
   ]
  },
  {
   "cell_type": "code",
   "execution_count": null,
   "metadata": {},
   "outputs": [],
   "source": [
    "R=10\n",
    "IR_grid=xk.wavenumber_grid_R(220.,10000.,R)\n",
    "VI_grid=xk.wavenumber_grid_R(5200.,33000.,R)\n",
    "\n",
    "IR_mix_var_gas_ktab=mix_var_gas.copy()\n",
    "IR_mix_var_gas_ktab.bin_down(IR_grid)\n",
    "\n",
    "VI_mix_var_gas_ktab=mix_var_gas.copy()\n",
    "VI_mix_var_gas_ktab.bin_down(VI_grid)\n",
    "\n",
    "IR_mix_var_gas_ktab.write_LMDZ('data/corrk/lmdz/new_earth_h2o-var',band='IR')\n",
    "VI_mix_var_gas_ktab.write_LMDZ('data/corrk/lmdz/new_earth_h2o-var',band='VI')\n",
    "\n",
    "xk.finalize_LMDZ_dir('data/corrk/lmdz/new_earth_h2o-var',IR_mix_var_gas_ktab.Nw,VI_mix_var_gas_ktab.Nw)"
   ]
  },
  {
   "cell_type": "markdown",
   "metadata": {},
   "source": [
    "Let's plot the result compared to the initial cross sections at two water mixing ratios"
   ]
  },
  {
   "cell_type": "code",
   "execution_count": null,
   "metadata": {},
   "outputs": [],
   "source": [
    "ptest=100.\n",
    "ttest=500.\n",
    "fig,axs=plt.subplots(1,2,sharex=True,sharey=True)\n",
    "database['H2O'].plot_spectrum(axs[0],p=ptest,t=ttest,g=1.,x=x_array[0],label='H2O')\n",
    "database['CO2'].plot_spectrum(axs[0],p=ptest,t=ttest,g=1.,x=bg_gas['CO2'],label='CO2')\n",
    "IR_mix_var_gas_ktab.plot_spectrum(axs[0],p=ptest,t=ttest,x=x_array[0],g=1.,label='mix/IR')\n",
    "VI_mix_var_gas_ktab.plot_spectrum(axs[0],p=ptest,t=ttest,x=x_array[0],g=1.,label='mix/VI')\n",
    "database['H2O'].plot_spectrum(axs[1],p=ptest,t=ttest,g=1.,x=x_array[-1],label='H2O')\n",
    "database['CO2'].plot_spectrum(axs[1],p=ptest,t=ttest,g=1.,x=bg_gas['CO2'],label='CO2')\n",
    "IR_mix_var_gas_ktab.plot_spectrum(axs[1],p=ptest,t=ttest,x=x_array[-1],g=1.,label='mix/IR')\n",
    "VI_mix_var_gas_ktab.plot_spectrum(axs[1],p=ptest,t=ttest,x=x_array[-1],g=1.,label='mix/VI')\n",
    "axs[0].set_title('$x_{H2O}=10^{-7}$')\n",
    "axs[1].set_title('$x_{H2O}=10^{-1}$')\n",
    "for ax in axs :\n",
    "    ax.set_ylim(bottom=1.e-40)\n",
    "    ax.set_yscale('log')\n",
    "    ax.set_xscale('log')\n",
    "    ax.legend()\n",
    "fig.tight_layout()"
   ]
  },
  {
   "cell_type": "markdown",
   "metadata": {},
   "source": [
    "## Adding the opacity of a trace species to an existing corr-k table"
   ]
  },
  {
   "cell_type": "markdown",
   "metadata": {},
   "source": [
    "If you want to add the opacity of a given molecule to a corr-k table (whether is has variable gas or not), it is rather simple. Just load your table and add the species you want:"
   ]
  },
  {
   "cell_type": "code",
   "execution_count": null,
   "metadata": {},
   "outputs": [],
   "source": [
    "IR_mix_var_gas_ktab=xk.Ktable5d(path='data/corrk/lmdz/new_earth_h2o-var',res='39x19',band='IR',\n",
    "                kdata_unit='m^2',p_unit='Pa')\n",
    "co2=xk.Ktable('CO2_*R300_0.3-50mu.ktable.SI', remove_zeros=True)\n",
    "co2.remap_logPT(t_array=IR_mix_var_gas_ktab.tgrid, logp_array=IR_mix_var_gas_ktab.logpgrid)\n",
    "co2.bin_down(wnedges=IR_mix_var_gas_ktab.wnedges)\n",
    "earth_plus_co2=IR_mix_var_gas_ktab+1.e-1*co2\n",
    "print(earth_plus_co2)"
   ]
  },
  {
   "cell_type": "code",
   "execution_count": null,
   "metadata": {
    "scrolled": true
   },
   "outputs": [],
   "source": [
    "ptest=100.\n",
    "ttest=500.\n",
    "x_array=IR_mix_var_gas_ktab.xgrid\n",
    "fig,ax=plt.subplots(1,1,sharex=True,sharey=True)\n",
    "IR_mix_var_gas_ktab.plot_spectrum(ax,p=ptest,t=ttest,x=x_array[1],g=1.,label='mix')\n",
    "co2.plot_spectrum(ax,p=ptest,t=ttest,x=0.1,g=1.,label='CO2')\n",
    "earth_plus_co2.plot_spectrum(ax,p=ptest,t=ttest,x=x_array[1],g=1.,label='mix+0.01*CO2')\n",
    "ax.set_ylim(bottom=1.e-40)\n",
    "ax.set_yscale('log')\n",
    "ax.set_xscale('log')\n",
    "ax.legend()\n",
    "fig.tight_layout()"
   ]
  },
  {
   "cell_type": "raw",
   "metadata": {
    "raw_mimetype": "text/restructuredtext"
   },
   "source": [
    ".. important::\n",
    "    When starting from a mix with a variable gas:\n",
    "    \n",
    "     * The opacity from the background and variable gases cannot be\n",
    "       isolated.\n",
    "     * The values of the array for the vmr of the variable gas (self.xgrid)\n",
    "       are not modified (diluted) during the mixing operation.\n",
    "\n",
    "    Therefore, this treatment is valid only if the mixing ratio of the other \n",
    "    species is << 1 (you are adding a trace gas).\n",
    "    \n",
    "    For this reason, it is always more accurate to start back\n",
    "    from the data for the pure species when they are available.  "
   ]
  },
  {
   "cell_type": "markdown",
   "metadata": {},
   "source": [
    "# <span style=\"color:blue\">Creating corr-k from `High_resolution` spectra</span>"
   ]
  },
  {
   "cell_type": "markdown",
   "metadata": {},
   "source": [
    ".. important::\n",
    "    Many cells in this part of the tutorial are not executable because the data needed to run them\n",
    "    are not in the sample `data` directory provided."
   ]
  },
  {
   "cell_type": "markdown",
   "metadata": {},
   "source": [
    "## A note on ascii vs hdf5 data"
   ]
  },
  {
   "cell_type": "markdown",
   "metadata": {},
   "source": [
    "The native ascii format for many high-resolution spectra (e.g. Kspectrum)\n",
    "is highly inefficient and takes a lot of space.\n",
    "Some Kspectrum files take more than a minute to read where the hdf5 equivalent would take a second. \n",
    "Keeping it will be the bottleneck of all \n",
    "the following computation. \n",
    "\n",
    "So we recommend you seriously consider converting your files to hdf5 before anything else.\n",
    "\n",
    "If you have a bunch of file called `k001`, `k002`, `k003`, etc, `k0N` (let's take N=63 for exemple)\n",
    "in `path_in` you might want to use something like\n",
    "\n",
    "```python\n",
    "path_in='/Users/jleconte/root/data2/jaziri/exo_k/spectrum_data/o3_step_band/'\n",
    "path_out='/Users/jleconte/root/data1/leconte/atmosphere/radiative_transfer/hires_spectra/yassin_O3_hdf5/'\n",
    "for i in np.arange(1,64):\n",
    "    file='k'+str(i).zfill(3)\n",
    "    xk.convert_kspectrum_to_hdf5(path_in+file,path_out+file+'.h5', wn_column=None,\n",
    "        kdata_column=None, data_type='abs_coeff',\n",
    "        file_kdata_unit='unspecified', kdata_unit='unspecified', skiprow=0)\n",
    "```"
   ]
  },
  {
   "cell_type": "markdown",
   "metadata": {},
   "source": [
    "The various available arguments are:\n",
    "\n",
    " * `file_kdata_unit`:\n",
    "       Specifies the unit for the opacity data in the file. \n",
    "       The type of quantity may differ whether we are handling cross sections (surface)\n",
    "       or absorption coefficients (inverse length)\n",
    "  * `data_type`: 'xsec' or 'abs_coeff'.\n",
    "       Whether the data read are cross-sections or absorption coefficients. Make sure you specify this if you changed\n",
    "       the default `kdata_column`.\n",
    " * `wn_column`/`data_column`:\n",
    "       Number of column to be read for wavenumber and kdata in python convention\n",
    "       (0 is first, 1 is second, etc.)\n",
    " * `kdata_unit`:\n",
    "       Unit to convert to.\n",
    " * `mult_factor`:\n",
    "       A multiplicative factor that can be applied to kdata (for example to correct for\n",
    "       any dilution effect, or specific conversion).\n",
    " * `skiprows`:\n",
    "       Number of header lines to skip. For the latest Kspectrum format,\n",
    "       the header is skipped automatically."
   ]
  },
  {
   "cell_type": "markdown",
   "metadata": {},
   "source": [
    ".. important::\n",
    "    here again, with HDF5 files, we are tracking the units and data type (xsec or abs_coeff).\n",
    "    So conversion to the right units can be made here, or at the k-coeff creation stage."
   ]
  },
  {
   "cell_type": "markdown",
   "metadata": {},
   "source": [
    "For example, if you want to convert your absorption coefficients to a weird unit, you can do\n",
    "```python\n",
    "path_in='/Users/jleconte/root/data2/jaziri/exo_k/spectrum_data/o3_step_band/'\n",
    "path_out='/Users/jleconte/root/data1/leconte/atmosphere/radiative_transfer/hires_spectra/yassin_O3_hdf5/'\n",
    "for i in np.arange(1,64):\n",
    "    file='k'+str(i).zfill(3)\n",
    "    xk.convert_kspectrum_to_hdf5(path_in+file,path_out+file+'.h5', data_type='abs_coeff',\n",
    "        file_kdata_unit='m^-1', kdata_unit='cm^-1')\n",
    "```"
   ]
  },
  {
   "cell_type": "markdown",
   "metadata": {},
   "source": [
    "If you want to use the cross-section of a given species in a Ksectrum file (4nd column for example=>index=3) instead of the absorption coefficient and convert them to mks, you can do\n",
    "```python\n",
    "path_in='/Users/jleconte/root/data2/jaziri/exo_k/spectrum_data/o3_step_band/'\n",
    "path_out='/Users/jleconte/root/data1/leconte/atmosphere/radiative_transfer/hires_spectra/yassin_O3_hdf5/'\n",
    "for i in np.arange(1,64):\n",
    "    file='k'+str(i).zfill(3)\n",
    "    xk.convert_kspectrum_to_hdf5(path_in+file,path_out+file+'.h5', wn_column=None,\n",
    "        kdata_column=3, data_type='xsec', skiprow=0,\n",
    "        file_kdata_unit='cm^2/molecule', kdata_unit='m^2/molecule')\n",
    "```\n",
    "Note the last `kdata_unit` is superfluous if you have set `exo_k.Settings().set_mks(True)`"
   ]
  },
  {
   "cell_type": "markdown",
   "metadata": {},
   "source": [
    "## Organizing your spectra into a grid"
   ]
  },
  {
   "cell_type": "markdown",
   "metadata": {},
   "source": [
    "Now that you spent a few cpu x hours to compute some high resolution spectra, you would like to create a corr-k matrix with it.  \n",
    "\n",
    "For this you'll need to provide the `logpgrid` and `tgrid` (and potentially `xgrid`) arrays onto which your spectra have been computed."
   ]
  },
  {
   "cell_type": "markdown",
   "metadata": {},
   "source": [
    ".. warning::\n",
    "    By default, log pressures are specified in Pa in logpgrid!!! If you want\n",
    "    to use another unit, do not forget to specify it with the grid_p_unit keyword.\n"
   ]
  },
  {
   "cell_type": "markdown",
   "metadata": {},
   "source": [
    "You'll also need to provide the corresponding spectra filenames in an array of shape `(logpgrid.size, tgrid.size (, xgrid.size))` with the following order:\n",
    "```python\n",
    "[['spectrum for logP1,T1', 'spectrum for logP1,T2'],\n",
    "       ['spectrum for logP2,T1', 'spectrum for logP2,T2'],\n",
    "       ['spectrum for logP3,T1', 'spectrum for logP3,T2']]\n",
    "```\n",
    "or\n",
    "```python\n",
    "[[['spectrum for logP1,T1,x1', 'spectrum for logP1,T1,x2',\n",
    "         'spectrum for logP1,T1,x3'],\n",
    "        ['spectrum for logP1,T2,x1', 'spectrum for logP1,T2,x2',\n",
    "         'spectrum for logP1,T2,x3']],\n",
    "\n",
    "       [['spectrum for logP2,T1,x1', 'spectrum for logP2,T1,x2',\n",
    "         'spectrum for logP2,T1,x3'],\n",
    "        ['spectrum for logP2,T2,x1', 'spectrum for logP2,T2,x2',\n",
    "         'spectrum for logP2,T2,x3']],\n",
    "\n",
    "       [['spectrum for logP3,T1,x1', 'spectrum for logP3,T1,x2',\n",
    "         'spectrum for logP3,T1,x3'],\n",
    "        ['spectrum for logP3,T2,x1', 'spectrum for logP3,T2,x2',\n",
    "         'spectrum for logP3,T2,x3']]]\n",
    "```"
   ]
  },
  {
   "cell_type": "markdown",
   "metadata": {},
   "source": [
    "### Kspectrum files generated for LMDZ"
   ]
  },
  {
   "cell_type": "markdown",
   "metadata": {},
   "source": [
    "If you are using Kspectrum files generated for LMDZ, your files should be called k001, k002, etc. \n",
    "\n",
    "In the case of 4 pressure points, and 2 Temperature points, you can create the list of files in the right order as follows:"
   ]
  },
  {
   "cell_type": "code",
   "execution_count": null,
   "metadata": {},
   "outputs": [],
   "source": [
    "xk.create_fname_grid_Kspectrum_LMDZ(4,2,suffix='')"
   ]
  },
  {
   "cell_type": "markdown",
   "metadata": {},
   "source": [
    "If you have a variable gas with 3 different volume mixing ratios, then use"
   ]
  },
  {
   "cell_type": "code",
   "execution_count": null,
   "metadata": {},
   "outputs": [],
   "source": [
    "xk.create_fname_grid_Kspectrum_LMDZ(4, 2, 3, suffix='')"
   ]
  },
  {
   "cell_type": "markdown",
   "metadata": {},
   "source": [
    "And if you have converted them to hdf5, as recommended above, you can then use"
   ]
  },
  {
   "cell_type": "code",
   "execution_count": null,
   "metadata": {},
   "outputs": [],
   "source": [
    "xk.create_fname_grid_Kspectrum_LMDZ(4, 2, 3, suffix='.h5')"
   ]
  },
  {
   "cell_type": "markdown",
   "metadata": {},
   "source": [
    "### Files named with information on P, T (and x) in the title"
   ]
  },
  {
   "cell_type": "markdown",
   "metadata": {},
   "source": [
    "You can create your grid of filenames by hand. But if the names are regular enough, the following function may help you."
   ]
  },
  {
   "cell_type": "raw",
   "metadata": {
    "raw_mimetype": "text/restructuredtext"
   },
   "source": [
    ".. seealso::\n",
    "    :func:`~exo_k.util.filenames.create_fname_grid`\n",
    "    for details on arguments and options."
   ]
  },
  {
   "cell_type": "raw",
   "metadata": {
    "raw_mimetype": "text/restructuredtext"
   },
   "source": [
    ".. warning::\n",
    "    in :func:`~exo_k.util.filenames.create_fname_grid`, the walues in `logpgrid`, `tgrid`, and `xgrid`\n",
    "    will be converted to string to be put in the filename. Using integers therefore provides more control\n",
    "    to the way your numbers will look, but floats can be used anyway."
   ]
  },
  {
   "cell_type": "markdown",
   "metadata": {},
   "source": [
    "See the 3 examples below:"
   ]
  },
  {
   "cell_type": "code",
   "execution_count": null,
   "metadata": {},
   "outputs": [],
   "source": [
    "logpgrid=[1,10]\n",
    "tgrid=[100,150,200]\n",
    "file_grid=xk.create_fname_grid('spectrum_CO2_{p}Pa_{t}K.hdf5',\n",
    "                  logpgrid=logpgrid, tgrid=tgrid, p_kw='p', t_kw='t')\n",
    "file_grid"
   ]
  },
  {
   "cell_type": "code",
   "execution_count": null,
   "metadata": {},
   "outputs": [],
   "source": [
    "logpgrid=[1,2]\n",
    "tgrid=[100,150,200]\n",
    "xgrid=[1.e-2,1.e-1]\n",
    "file_grid=xk.create_fname_grid('O3-H2O_1e{logp}Pa_{t}K_vmr{x}.hdf5',\n",
    "                  logpgrid=logpgrid, tgrid=tgrid, xgrid=xgrid, p_kw='logp', t_kw='t', x_kw='x')\n",
    "file_grid"
   ]
  },
  {
   "cell_type": "code",
   "execution_count": null,
   "metadata": {},
   "outputs": [],
   "source": [
    "logpgrid=[1,10,100,1000]\n",
    "tgrid=np.array([100.,150.,200.])\n",
    "file_grid=xk.create_fname_grid('Kspec_{logp}Pa_{t}K.hdf5',\n",
    "                  logpgrid=logpgrid, tgrid=tgrid, p_kw='logp', t_kw='t')\n",
    "file_grid"
   ]
  },
  {
   "cell_type": "markdown",
   "metadata": {},
   "source": [
    "## Actually making the `Ktable`"
   ]
  },
  {
   "cell_type": "markdown",
   "metadata": {},
   "source": [
    "Once we have our grids of pressure (in Pa), temperature (, vmr), and the grid of corresponding filenames, producing the `Ktable` is done like this"
   ]
  },
  {
   "cell_type": "markdown",
   "metadata": {},
   "source": [
    "```python\n",
    "temp=np.arange(100.,401.,50)\n",
    "logpres=np.arange(-1,8)\n",
    "file_grid=xk.create_fname_grid_Kspectrum_LMDZ(logpres.size, temp.size, suffix='.h5')\n",
    "path='data/hires/yassin_O3_hdf5/'\n",
    "\n",
    "#that's where you choose your wavenumber bin edges grid\n",
    "wnedges=xk.wavenumber_grid_R(10.,10.1,980)\n",
    "tmp=xk.hires_to_ktable(path=path, filename_grid=file_grid,\n",
    "                    logpgrid=logpres, tgrid=temp, wnedges=wnedges, mol='O3')\n",
    "tmp.remove_zeros() #if you do not want to have zeros in the table for interpolation purposes\n",
    "print(tmp)\n",
    "```\n",
    "With these options, you create a table with 20 gauss point following the Gausse-Legendre quadrature. "
   ]
  },
  {
   "cell_type": "raw",
   "metadata": {
    "raw_mimetype": "text/restructuredtext"
   },
   "source": [
    ".. seealso::\n",
    "    :func:`exo_k.util.user_func.hires_to_ktable` is a function provided for the user that uses the \n",
    "    :func:`exo_k.ktable.Ktable.hires_to_ktable` and :func:`exo_k.ktable.Ktable5d.hires_to_ktable` methods.\n",
    "    A list of all the arguments and options can be found there."
   ]
  },
  {
   "cell_type": "markdown",
   "metadata": {},
   "source": [
    ".. important::\n",
    "    Whether data are in cross section or absorption coefficient form in the input data,\n",
    "    they will be converted to cross sections to be put in the Ktable.\n",
    "    As this conversion is done using the pressure grid you provide,\n",
    "    it is important to specify its unit with the grid_p_unit keyword if you are NOT using Pa."
   ]
  },
  {
   "cell_type": "markdown",
   "metadata": {},
   "source": [
    "Hereafter are some variations around the same theme to show some commented examples of use. Pick the one that fits better to your use."
   ]
  },
  {
   "cell_type": "markdown",
   "metadata": {},
   "source": [
    "```python\n",
    "temp=np.arange(100.,401.,50)\n",
    "logpres=np.arange(-1,8)\n",
    "path='data/hires/yassin_O3_hdf5/'\n",
    "\n",
    "#that's where you choose your wavenumber bin edges grid\n",
    "wnedges=xk.wavenumber_grid_R(10.,10.1,980)\n",
    "tmp=xk.hires_to_ktable(path=path,\n",
    "                    # because files organized as k001, k002, etc.\n",
    "                    #  is the default, the above result can be\n",
    "                    #  obtained without specifying a filename_grid.\n",
    "                    #  You'll need to provide suffix here, however\n",
    "                    suffix='.h5',\n",
    "                    logpgrid=logpres, tgrid=temp, wnedges=wnedges, mol='O3')\n",
    "tmp.remove_zeros() #if you do not want to have zeros in the table for interpolation purposes\n",
    "print(tmp)\n",
    "```"
   ]
  },
  {
   "cell_type": "markdown",
   "metadata": {},
   "source": [
    "Here starting from ascii files and doing directly the conversion from abs_coeff to cross sections.\n",
    "```python\n",
    "temp=np.arange(100.,401.,50)\n",
    "logpres=np.arange(-1,8)\n",
    "path='data/hires/yassin_O3_hdf5/'\n",
    "wnedges=xk.wavenumber_grid_R(10.,10.1,980)\n",
    "tmp=xk.hires_to_ktable(path=path, data_type='abs_coeff',\n",
    "                    logpgrid=logpres, tgrid=temp, wnedges=wnedges, mol='O3',\n",
    "                    file_kdata_unit='m^-1', kdata_unit='m^2/molec')\n",
    "tmp.remove_zeros() #if you do not want to have zeros in the table for interpolation purposes\n",
    "print(tmp)\n",
    "```"
   ]
  },
  {
   "cell_type": "markdown",
   "metadata": {},
   "source": [
    "If you want to provide the g weights yourself, run this instead:\n",
    "```python\n",
    "temp=np.arange(100.,401.,50)\n",
    "logpres=np.arange(-1,8)\n",
    "path='data/hires/yassin_O3_hdf5/'\n",
    "wnedges=xk.wavenumber_grid_R(10.,10.1,980)\n",
    "\n",
    "weights=[my g weights]\n",
    "\n",
    "tmp=xk.hires_to_ktable(path=path, suffix='.h5',\n",
    "                    logpgrid=logpres, tgrid=temp, wnedges=wnedges, weights=weights, mol='O3')\n",
    "tmp.remove_zeros() #if you do not want to have zeros in the table for interpolation purposes\n",
    "```"
   ]
  },
  {
   "cell_type": "markdown",
   "metadata": {},
   "source": [
    "You can now save your brand new Ktable on disk with any of the writing routines (`write_hdf5`, `write_LMDZ`, etc.)."
   ]
  },
  {
   "cell_type": "markdown",
   "metadata": {},
   "source": [
    "## Corr-k with a variable gas: `Ktable5d`"
   ]
  },
  {
   "cell_type": "markdown",
   "metadata": {},
   "source": [
    "If you have a grid of spectra with a gas that is varying along one dimension,\n",
    "you just have to provide the grid of volume mixing ratios (`xgrid`) along with the other arguments. \n",
    "\n",
    "`hires_to_ktable` will automatically detect the new dimension and create a `Ktable5d` instead of a regular `Ktable` (see 4.3)."
   ]
  },
  {
   "cell_type": "markdown",
   "metadata": {},
   "source": [
    "# <span style=\"color:blue\">Dealing with cross sections: `Xtable()`objects </span>"
   ]
  },
  {
   "cell_type": "markdown",
   "metadata": {},
   "source": [
    "Cross sections are like corr-k tables, except for the fact that they do not have a \"g-dimension\".\n",
    "\n",
    "Thanks to the way `numpy` handles arrays and to the `python` inheritance system, handling a `Xtable()` is very similar to handling a `Ktable()` and you can do everything that you did before.  \n",
    "\n",
    "It is so similar that you can even load a `Kdatabase()` with `Xtable()` objects. \n",
    "\n",
    "Just remember that the kdata array now has one less dimension. "
   ]
  },
  {
   "cell_type": "code",
   "execution_count": null,
   "metadata": {},
   "outputs": [],
   "source": [
    "xsecs=xk.Xtable('H2O.R10000.TauREx.pickle', kdata_unit='m^2', p_unit='Pa')\n",
    "xsecs"
   ]
  },
  {
   "cell_type": "code",
   "execution_count": null,
   "metadata": {},
   "outputs": [],
   "source": [
    "ptest=1.e2\n",
    "ttest=300.\n",
    "fig,ax=plt.subplots(1,1,sharex=True,sharey=False)  \n",
    "xsecs.plot_spectrum(ax,p=ptest,t=ttest,yscale='log')\n",
    "fig.tight_layout()"
   ]
  },
  {
   "cell_type": "markdown",
   "metadata": {},
   "source": [
    "## `Xtable`: sample or bin_down"
   ]
  },
  {
   "cell_type": "markdown",
   "metadata": {},
   "source": [
    "A unique feature of `Xtable`s over `Ktable`s is that there are two ways of changing the spectral grid:\n",
    "\n",
    "    * `bin_down(wnedges= )`: does an area-conserving binning\n",
    "      inside the bin edges provided as `wnedges`.\n",
    "      The final spectral grid has a dimension `Nw=wnedges.size-1`.\n",
    "    * `sample(wngrid= )`: just interpolates the cross sections\n",
    "      on the given grid. The final spectral grid has a dimension `Nw=wngrid.size`."
   ]
  },
  {
   "cell_type": "markdown",
   "metadata": {},
   "source": [
    "## Loading `Xtable` with `kspectrum`-like spectra"
   ]
  },
  {
   "cell_type": "markdown",
   "metadata": {},
   "source": [
    "You can also load your spectra to be used as cross sections.  \n",
    "\n",
    "For this you'll need to provide the `logpgrid` and `tgrid` arrays onto which your spectra have been computed, as well as the corresponding spectra filenames in an array of shape `(logpgrid.size,tgrid.size)`"
   ]
  },
  {
   "cell_type": "markdown",
   "metadata": {},
   "source": [
    "```python\n",
    "path='data/hires/yassin_O3_hdf5/'\n",
    "temp=np.arange(100.,401.,50)\n",
    "logpgrid=np.arange(-1,8)\n",
    "hires_o3_xsec=xk.hires_to_xtable(path=path,filename_grid=None, suffix='.h5',\n",
    "                             logpgrid=logpgrid,tgrid=tgrid,\n",
    "                             mol='O3',kdata_unit='m^2')\n",
    "hires_o3_xsec.remove_zeros()\n",
    "```"
   ]
  },
  {
   "cell_type": "markdown",
   "metadata": {},
   "source": [
    "You can then save it to a hdf5 file with `write_hdf5()`."
   ]
  },
  {
   "cell_type": "markdown",
   "metadata": {},
   "source": [
    "## Creating a `Ktable` from an `Xtable`"
   ]
  },
  {
   "cell_type": "markdown",
   "metadata": {},
   "source": [
    "As an `Xtable` represents monochromatic cross-sections, it is only natural that we should be able to produce `Ktable` with them. And we indeed can with the `Ktable.xtable_to_ktable()` method, or directly from the `__init__()` method with the `xtable=` keyword."
   ]
  },
  {
   "cell_type": "code",
   "execution_count": null,
   "metadata": {},
   "outputs": [],
   "source": [
    "R=20.\n",
    "xsecs_h2o=xk.Xtable('H2O.R10000.TauREx.pickle', kdata_unit='m^2', p_unit='Pa')\n",
    "\n",
    "ktab_h2o=xk.Ktable(xtable=xsecs_h2o, wnedges=xk.wavenumber_grid_R(1000.,20000.,R))\n",
    "\n",
    "p_plot=1.e0\n",
    "t_plot=300.\n",
    "fig,ax=plt.subplots(1,1,sharex=False,sharey=False)\n",
    "xsecs_h2o.plot_spectrum(ax, p=p_plot, t=t_plot, yscale='log', xscale='log', label='Original data')\n",
    "ktab_h2o.plot_spectrum(ax, p=p_plot, t=t_plot, g=1., label='corr-k, g=1')\n",
    "ktab_h2o.plot_spectrum(ax, p=p_plot, t=t_plot, g=0., label='corr-k, g=0')\n",
    "ax.legend()\n",
    "fig.tight_layout()"
   ]
  },
  {
   "cell_type": "markdown",
   "metadata": {},
   "source": [
    ".. warning::\n",
    "    Although in theory there is no formal criterion separating a cross section table\n",
    "    and a set of high-resolution spectra, in practice, cross section table often\n",
    "    have a moderate resolution, which makes them unsuitable for the computation\n",
    "    of accurate k-coefficient tables. "
   ]
  },
  {
   "cell_type": "markdown",
   "metadata": {},
   "source": [
    "# <span style=\"color:blue\">Dealing with continua: `Cia_table()` and `CIAdatabase()` objects </span>"
   ]
  },
  {
   "cell_type": "markdown",
   "metadata": {},
   "source": [
    "Cia tables are like cross section tables, except for the fact that they do not have a pressure dimension.\n",
    "\n",
    "They can still be loaded to be converted from one format to another (in particular HITRAN .cia files or water CKD files to HDF5), from one unit to another (our preferred unit is m^5/molec^2).\n",
    "\n",
    "Finally, they will also be usefull to account for continua in opacity calculations and forward models below"
   ]
  },
  {
   "cell_type": "markdown",
   "metadata": {},
   "source": [
    "But first, as for `Ktable`s, we need to setup the path where to look for cia tables."
   ]
  },
  {
   "cell_type": "code",
   "execution_count": 5,
   "metadata": {
    "init_cell": true
   },
   "outputs": [],
   "source": [
    "xk.Settings().add_cia_search_path('data/cia')"
   ]
  },
  {
   "cell_type": "markdown",
   "metadata": {},
   "source": [
    "Then you can load a `CIAdatabase` by providing the list of molecules you want to look for. It will try to load CIA data for as many pairs as it can find with these molecules."
   ]
  },
  {
   "cell_type": "code",
   "execution_count": null,
   "metadata": {},
   "outputs": [],
   "source": [
    "mols=['He','H2','N2','H2O']\n",
    "cia_data=xk.CIAdatabase(molecules=mols)\n",
    "cia_data"
   ]
  },
  {
   "cell_type": "markdown",
   "metadata": {},
   "source": [
    "You can filter the files you want to look for by adding a string filter as the first argument(s)"
   ]
  },
  {
   "cell_type": "code",
   "execution_count": null,
   "metadata": {},
   "outputs": [],
   "source": [
    "mols=['He','H2','N2','H2O']\n",
    "cia_data=xk.CIAdatabase('2011', molecules=mols)\n",
    "cia_data"
   ]
  },
  {
   "cell_type": "markdown",
   "metadata": {},
   "source": [
    "If you only want a subset of these pairs, you can directly specify the pairs you want to look for with the `molecule_pairs` keyword. "
   ]
  },
  {
   "cell_type": "code",
   "execution_count": null,
   "metadata": {},
   "outputs": [],
   "source": [
    "mol_pairs=[['He','H2'],['N2','H2']]\n",
    "cia_data=xk.CIAdatabase(molecule_pairs=mol_pairs)\n",
    "cia_data"
   ]
  },
  {
   "cell_type": "code",
   "execution_count": null,
   "metadata": {},
   "outputs": [],
   "source": [
    "xk.Settings().set_mks(True)\n",
    "mols=['He','H2','N2']\n",
    "cia_data=xk.CIAdatabase(molecules=mols)\n",
    "ttest=300.\n",
    "fig,axs=plt.subplots(2,1,sharex=False,sharey=False)  \n",
    "cia_data['H2']['H2'].plot_spectrum(axs[0],t=ttest,x_axis='wns',yscale='log',label='H2-H2')\n",
    "cia_data['H2']['He'].plot_spectrum(axs[0],t=ttest,x_axis='wns',label='H2-He')\n",
    "cia_data['N2']['H2'].plot_spectrum(axs[1],t=ttest,x_axis='wns',yscale='log',label='N2-H2')\n",
    "cia_data['N2']['N2'].plot_spectrum(axs[1],t=ttest,x_axis='wns',yscale='log',label='N2-N2')\n",
    "for ax in axs:\n",
    "    ax.legend()\n",
    "fig.tight_layout()"
   ]
  },
  {
   "cell_type": "markdown",
   "metadata": {},
   "source": [
    "Because CIA are often on very inhomogeneous grids (as above), you will need to sample them on the grid of your `Ktable` or `Xtable` to use them."
   ]
  },
  {
   "cell_type": "code",
   "execution_count": null,
   "metadata": {},
   "outputs": [],
   "source": [
    "ref_wns_grid=h2o_ktab_SI.wns\n",
    "cia_data.sample(ref_wns_grid)\n",
    "fig,axs=plt.subplots(2,1,sharex=False,sharey=False)  \n",
    "cia_data['H2']['H2'].plot_spectrum(axs[0],t=ttest,x_axis='wns',yscale='log',label='H2-H2')\n",
    "cia_data['H2']['He'].plot_spectrum(axs[0],t=ttest,x_axis='wns',label='H2-He')\n",
    "cia_data['N2']['H2'].plot_spectrum(axs[1],t=ttest,x_axis='wns',yscale='log',label='N2-H2')\n",
    "cia_data['N2']['N2'].plot_spectrum(axs[1],t=ttest,x_axis='wns',yscale='log',label='N2-N2')\n",
    "for ax in axs:\n",
    "    ax.legend()\n",
    "fig.tight_layout()"
   ]
  },
  {
   "cell_type": "markdown",
   "metadata": {},
   "source": [
    "The method:\n",
    "```python\n",
    "CIAdatabase.cia_cross_section(pressure,temperature,composition)\n",
    "```\n",
    "can be used to compute the effective CIA cross-section for the whole gas (in m^2 per average molecule)\n"
   ]
  },
  {
   "cell_type": "code",
   "execution_count": null,
   "metadata": {},
   "outputs": [],
   "source": [
    "compo={'H2':0.2,'He':0.1,'N2':0.4}\n",
    "raw=cia_data.cia_cross_section([1.,3.],[300.,500.],compo)\n",
    "fig,axs=plt.subplots(2,1,sharex=False,sharey=False,figsize=(6,5))  \n",
    "cia_data['H2']['H2'].plot_spectrum(axs[0],t=ttest,x_axis='wns',yscale='log')\n",
    "cia_data['H2']['He'].plot_spectrum(axs[0],t=ttest,x_axis='wns')\n",
    "cia_data['N2']['H2'].plot_spectrum(axs[0],t=ttest,x_axis='wns',yscale='log')\n",
    "axs[1].plot(cia_data.wns,raw[0])\n",
    "axs[1].set_yscale('log')\n",
    "axs[1].set_ylabel('Cross section (m^2/molec)')\n",
    "axs[1].set_xlabel('Wavenumber')\n",
    "fig.tight_layout()"
   ]
  },
  {
   "cell_type": "markdown",
   "metadata": {},
   "source": [
    "# <span style=\"color:blue\">How to use `exo_k` as an opacity interpolator inside your code: The `Gas_mix` object</span>"
   ]
  },
  {
   "cell_type": "markdown",
   "metadata": {},
   "source": [
    "`Exo_k` can also be used to directly access and interpolate opacity within your code. For this, one possibility is to load and access individual K/X/CIA tables and add all the opacities. \n",
    "\n",
    "Another is to use the `Gas_mix` object: it contains the information on the pressure/temperature conditions of the gas, its composition, and can be connected to radiative databases to compute the opacity of the gas from all contributions. "
   ]
  },
  {
   "cell_type": "markdown",
   "metadata": {},
   "source": [
    "## Composition and background gas"
   ]
  },
  {
   "cell_type": "markdown",
   "metadata": {},
   "source": [
    "An empty `Gas_mix` object can be instanciated as follows and filled later on."
   ]
  },
  {
   "cell_type": "code",
   "execution_count": null,
   "metadata": {},
   "outputs": [],
   "source": [
    "gas=xk.Gas_mix()\n",
    "print(gas)"
   ]
  },
  {
   "cell_type": "markdown",
   "metadata": {},
   "source": [
    "The message shows that, at this time, the `Gas_mix` is empty. Effectively, it is filled with 'inactive_gas'.\n",
    "\n",
    "Composition is specified using a dictionary where molecules are the keys and the volume mixing ratios as values. The rest of the `Gas_mix` is filled with inactive gas so that Sum(vmr)=1."
   ]
  },
  {
   "cell_type": "code",
   "execution_count": null,
   "metadata": {},
   "outputs": [],
   "source": [
    "gas.set_composition({'CO2':0.01})\n",
    "print(gas)\n",
    "gas.set_composition({'N2':0.8})  # reset the whole composition\n",
    "print(gas)"
   ]
  },
  {
   "cell_type": "markdown",
   "metadata": {},
   "source": [
    "One of the gases can have a vmr equal to 'background'.\n",
    "In this case, the vmr of this gas will always be updated to be 1.-Sum(other vmrs)."
   ]
  },
  {
   "cell_type": "code",
   "execution_count": null,
   "metadata": {},
   "outputs": [],
   "source": [
    "gas=xk.Gas_mix({'CO2':0.01,'N2':'background'}) # can also directly instantiate with a composition\n",
    "print(gas)\n",
    "gas['O2']=0.2  # only adds a gas or changes its vmr.\n",
    "print(gas)\n",
    "gas['H2O']=[0.01, 0.001]  #  Accepts arrays\n",
    "print(gas)"
   ]
  },
  {
   "cell_type": "markdown",
   "metadata": {},
   "source": [
    "## Getting the molar mass"
   ]
  },
  {
   "cell_type": "markdown",
   "metadata": {},
   "source": [
    "The molar mass (in kg/mol) of your mix can be computed simply using:"
   ]
  },
  {
   "cell_type": "code",
   "execution_count": null,
   "metadata": {},
   "outputs": [],
   "source": [
    "gas.set_composition({'N2':'background','CO2':340.e-6,'H2O':0.001})\n",
    "print(gas.molar_mass())\n",
    "gas.set_composition({'CH3COOH':'background'})\n",
    "print(gas.molar_mass())\n",
    "gas.set_composition({'Mg3SiO4':'background'})\n",
    "print(gas.molar_mass())\n",
    "gas=xk.Gas_mix({'N2':'background','CO2':340.e-6,'H2O':[0.001,0.1]})\n",
    "print(gas.molar_mass())"
   ]
  },
  {
   "cell_type": "markdown",
   "metadata": {},
   "source": [
    "## Connecting a gas with a radiative database"
   ]
  },
  {
   "cell_type": "markdown",
   "metadata": {},
   "source": [
    "To connect with radiative data, first you need to load the databases you want to use. You can combine a `CIAdatabase` with a `Kdatabase` filled with either `Ktable`s or `Xtable`s (but not both). \n",
    "\n",
    "Then these database can be added to a `Gas_mix`, or you can directly instantiate with these databases. This only needs to be done once."
   ]
  },
  {
   "cell_type": "markdown",
   "metadata": {},
   "source": [
    ".. warning::\n",
    "    With `Gas_mix`, radiative databases need to be converted in SI units to be used. The simplest way to achieve that is to use `exo_k.Settings().set_mks(True)`."
   ]
  },
  {
   "cell_type": "code",
   "execution_count": null,
   "metadata": {},
   "outputs": [],
   "source": [
    "database=xk.Kdatabase(['CO2','H2O'],'R300_0.3-50mu.ktable.SI')\n",
    "\n",
    "gas.set_k_database(database)\n",
    "\n",
    "#Loads CIA and sample them on the right spectral grid.\n",
    "cia_data=xk.CIAdatabase(molecules=['N2','H2O'], mks=True)\n",
    "cia_data.sample(database.wns)\n",
    "\n",
    "gas.set_cia_database(cia_data)\n",
    "print(gas)"
   ]
  },
  {
   "cell_type": "markdown",
   "metadata": {},
   "source": [
    "Or everything can be done at initialization"
   ]
  },
  {
   "cell_type": "code",
   "execution_count": null,
   "metadata": {},
   "outputs": [],
   "source": [
    "database=xk.Kdatabase(['CO2','H2O'],'R300_0.3-50mu.ktable.SI')\n",
    "\n",
    "#Loads CIA and sample them on the right spectral grid.\n",
    "cia_data=xk.CIAdatabase(molecules=['N2','H2O'], mks=True)\n",
    "cia_data.sample(database.wns)\n",
    "\n",
    "gas=xk.Gas_mix(composition={'N2':'background','CO2':340.e-6,'H2O':[0.001,0.1]},\n",
    "               k_database=database, cia_database=cia_data)\n",
    "print(gas)"
   ]
  },
  {
   "cell_type": "markdown",
   "metadata": {},
   "source": [
    "Now, the effective cross section on the gas can be computed as many times as necessary by calling the `Gas_mix.cross_section()` method providing log pressure (in Pa), temperature, and composition."
   ]
  },
  {
   "cell_type": "code",
   "execution_count": null,
   "metadata": {},
   "outputs": [],
   "source": [
    "logp_array=6.\n",
    "t_array=300.\n",
    "gas.set_composition({'CO2':0.01,'N2':'background'})\n",
    "# composition can be set once and for all and only logP and T or changed at call time.\n",
    "kdata=gas.cross_section(logp_array=logp_array, t_array=t_array)\n",
    "fig,ax=plt.subplots(1,1,sharey=False,figsize=(8,4))  \n",
    "ax.plot(10000./gas.wns,kdata[0,:,-1])\n",
    "ax.set_yscale('log')\n",
    "ax.set_xscale('log')\n",
    "ax.set_ylabel('Cross section (m^2/molec)')\n",
    "ax.set_xlabel('Wavelength (micron)')\n",
    "fig.tight_layout()"
   ]
  },
  {
   "cell_type": "code",
   "execution_count": null,
   "metadata": {},
   "outputs": [],
   "source": [
    "logp_array=2.\n",
    "t_array=300.\n",
    "composition={'N2':'background','CO2':340.e-6,'H2O':1.e-3}\n",
    "kdata=gas.cross_section(composition=composition, # composition can also be specified at call time\n",
    "                    logp_array=logp_array, t_array=t_array)\n",
    "\n",
    "fig,ax=plt.subplots(1,1,sharey=False,figsize=(8,4))  \n",
    "ax.plot(10000./gas.wns,kdata[0,:,-1])\n",
    "ax.set_yscale('log')\n",
    "ax.set_xscale('log')\n",
    "ax.set_ylabel('Cross section (m^2/molec)')\n",
    "ax.set_xlabel('Wavelength (micron)')\n",
    "fig.tight_layout()"
   ]
  },
  {
   "cell_type": "markdown",
   "metadata": {},
   "source": [
    "If you need to call this function for many logP-T points, it is more efficient to call the function once, providing logP-T (and even vmr) arrays"
   ]
  },
  {
   "cell_type": "code",
   "execution_count": null,
   "metadata": {},
   "outputs": [],
   "source": [
    "logp_array=np.linspace(1.,6.,100)\n",
    "t_array=300.*np.ones(logp_array.size)\n",
    "composition={'N2':'background','CO2':340.e-6,\n",
    "             'H2O':0.001*np.ones(logp_array.size)}\n",
    "kdata=gas.cross_section(composition=composition,\n",
    "                    logp_array=logp_array, t_array=t_array)\n",
    "print(kdata.shape)"
   ]
  },
  {
   "cell_type": "markdown",
   "metadata": {},
   "source": [
    "## Choosing gas recombination method (when using `Ktable`s)"
   ]
  },
  {
   "cell_type": "markdown",
   "metadata": {},
   "source": [
    "Two recombination methods are available when several gases are present:\n",
    "\n",
    "  * Simple addition: Fast. It is ok at moderate resolution\n",
    "    (and if you are not looking for ppm level accuracy), but can be inacurrate\n",
    "    if you are using large bins that encompass molecular bands of several molecules.\n",
    "    This is the default mode for `Gas_mix.cross_section()`.\n",
    "  * Random overlap: Very accurate in many situations, but a bit longer,\n",
    "    especially if you have many molecules. This is the default mode for regular `Ktable`\n",
    "    recombinations."
   ]
  },
  {
   "cell_type": "markdown",
   "metadata": {},
   "source": [
    "For `Gas_mix.cross_section()`, the behavior can be controlled with the `random_overlap=True/False` keyword."
   ]
  },
  {
   "cell_type": "code",
   "execution_count": null,
   "metadata": {},
   "outputs": [],
   "source": [
    "logp_array=2.\n",
    "t_array=300.\n",
    "gas.set_composition({'N2':'background','CO2':340.e-6,'H2O':0.001})\n",
    "gas.set_logPT(logp_array=logp_array, t_array=t_array)\n",
    "\n",
    "kdata=gas.cross_section()\n",
    "kdata_randoverlap=gas.cross_section(random_overlap=True)\n",
    "\n",
    "%timeit -r 10 -n 10 gas.cross_section()\n",
    "%timeit -r 10 -n 10 gas.cross_section(random_overlap=True)\n",
    "\n",
    "\n",
    "fig,ax=plt.subplots(1,1,sharey=False,figsize=(8,4))  \n",
    "ax.plot(10000./gas.wns,kdata_randoverlap[0,:,-1], label='Rand. Overlap')\n",
    "ax.plot(10000./gas.wns,kdata[0,:,-1], label='addition')\n",
    "ax.set_yscale('log')\n",
    "ax.set_xscale('log')\n",
    "ax.legend()\n",
    "ax.set_xlabel('Wavelength (micron)')\n",
    "ax.set_ylabel('Cross section (m^2/molec)')\n",
    "fig.tight_layout()"
   ]
  },
  {
   "cell_type": "markdown",
   "metadata": {},
   "source": [
    "You can try any molecule with a regular Element Number of atoms notation. "
   ]
  },
  {
   "cell_type": "markdown",
   "metadata": {},
   "source": [
    "# <span style=\"color:blue\">The `Atm`class: An integrated atmospheric radiative-transfer model</span>"
   ]
  },
  {
   "cell_type": "markdown",
   "metadata": {},
   "source": [
    "Whether you want to test various assumptions (will my resolution be enough, are my initial data adequate, what weights should I use, etc.) or directly simulate the transmission/emission spectrum of a planet, we implemented a simple 1d atmosphere model so that you can do just that.\n",
    "\n",
    "This revolves around the `Atm()` class, which defines an atmosphere with Pressure, Temperature, and composition profiles. In essence, we are using the structure of the `Gas_mix` object and add the additional attributes that make an atmosphere more than just some gas with a given pressure, temperature, and composition: a gravity, a planetary radius, etc. \n",
    "\n",
    "As `Xtable()` objects can be used in a `Kdatabase()`, you can do the equivalent of Line by Line radiative transfer. \n",
    "\n",
    "If you want to start from very high-res spectra, first load them into a `Xtable()`, and then into a Database."
   ]
  },
  {
   "cell_type": "raw",
   "metadata": {
    "raw_mimetype": "text/restructuredtext"
   },
   "source": [
    ".. seealso::\n",
    "    Check out :class:`exo_k.atm.Atm` and its base class :class:`exo_k.atm.Atm_profile`\n",
    "    for details on arguments and options."
   ]
  },
  {
   "cell_type": "markdown",
   "metadata": {},
   "source": [
    "## Emission"
   ]
  },
  {
   "cell_type": "code",
   "execution_count": null,
   "metadata": {},
   "outputs": [],
   "source": [
    "database=xk.Kdatabase(['CO2'],'R300_0.3-50mu.ktable.SI')\n",
    "\n",
    "T0=200.\n",
    "atm_ck=xk.Atm(psurf=640.e0, ptop=1.e-1, Tsurf=T0, Tstrat=100., grav=3.4,\n",
    "                    composition={'CO2':'background'}, Nlev=30, k_database=database)\n",
    "\n",
    "FluxTop=atm_ck.emission_spectrum(integral=True, wl_range=[0.1,150.0])\n",
    "SurfFlux=atm_ck.surf_bb(integral=True)\n",
    "TopBB=atm_ck.top_bb(integral=True)\n",
    "print(\"Forward model duration:\")\n",
    "%timeit -n 2 -r 10 atm_ck.emission_spectrum(integral=True, wl_range=[0.1,150.0])"
   ]
  },
  {
   "cell_type": "markdown",
   "metadata": {},
   "source": [
    "The `integral=True` keyword specifies that the source function is integrated inside each bin. If `False`, the planck function is just evaluated at the center of the bin. It is faster, and ok for thin bins, but inacurate for large ones.\n",
    "\n",
    "The `wl_range` range keyword allows you to limit the wavelength range onto wich you want the calculation to be done to save time. "
   ]
  },
  {
   "cell_type": "raw",
   "metadata": {
    "raw_mimetype": "text/restructuredtext"
   },
   "source": [
    ".. important::\n",
    "    The result of :func:`~exo_k.atm.Atm.emission_spectrum` is a :class:`~exo_k.util.spectrum.Spectrum` \n",
    "    object onto wich some methods can be used like:\n",
    "    computing the total flux, plotting, binning, and some algeabric operations."
   ]
  },
  {
   "cell_type": "code",
   "execution_count": null,
   "metadata": {},
   "outputs": [],
   "source": [
    "print(FluxTop.total,'W/m^2 (BB at tsurf over the computed nu range is ',SurfFlux.total,'W/m^2)')\n",
    "print('(sigma*T**4 is ',xk.SIG_SB*T0**4,'W/m^2)')"
   ]
  },
  {
   "cell_type": "code",
   "execution_count": null,
   "metadata": {},
   "outputs": [],
   "source": [
    "fig,axs=plt.subplots(1,2,sharey=False,figsize=(8,4))  \n",
    "SurfFlux.plot_spectrum(axs[0],label='Blackbody ($T_{surf}$)')\n",
    "TopBB.plot_spectrum(axs[0],label='Blackbody ($T_{strat}$)')\n",
    "FluxTop.plot_spectrum(axs[0],label='OLR')\n",
    "SurfFlux.plot_spectrum(axs[1],per_wavenumber=False,label='Blackbody ($T_{surf}$)')\n",
    "TopBB.plot_spectrum(axs[1],per_wavenumber=False,label='Blackbody ($T_{strat}$)')\n",
    "FluxTop.plot_spectrum(axs[1],per_wavenumber=False,label='OLR')\n",
    "\n",
    "axs[0].set_ylabel('Flux ($W/m^2/cm^{-1}$)')\n",
    "axs[1].set_ylabel('Flux ($W/m^2/\\mu m$)')\n",
    "for ax in axs:\n",
    "    ax.legend()\n",
    "fig.tight_layout()"
   ]
  },
  {
   "cell_type": "markdown",
   "metadata": {},
   "source": [
    "You can also bin it down, and when spectra have the same wavenumber grid, perform algeabric operations)"
   ]
  },
  {
   "cell_type": "code",
   "execution_count": null,
   "metadata": {},
   "outputs": [],
   "source": [
    "R=100\n",
    "wavenumber_grid=xk.wavenumber_grid_R(200.,10000.,R)\n",
    "binned_spec=FluxTop.bin_down_cp(wavenumber_grid)\n",
    "\n",
    "fig,axs=plt.subplots(1,2,sharey=True)  \n",
    "FluxTop.plot_spectrum(axs[0],label='OLR')\n",
    "binned_spec.plot_spectrum(axs[0],label='binned OLR')\n",
    "(SurfFlux-FluxTop).plot_spectrum(axs[1],label='Surf Blackbody - OLR')\n",
    "\n",
    "for ax in axs:\n",
    "    ax.set_ylabel('Flux ($W/m^2/cm^{-1}$)')\n",
    "    ax.legend()\n",
    "fig.tight_layout()"
   ]
  },
  {
   "cell_type": "code",
   "execution_count": null,
   "metadata": {},
   "outputs": [],
   "source": [
    "origin = 'upper'\n",
    "delta = 0.025\n",
    "\n",
    "x =database.wls\n",
    "y =atm_ck.play[:]\n",
    "X, Y = np.meshgrid(x, y)\n",
    "Z = atm_ck.exp_minus_tau()\n",
    "\n",
    "nr, nc = Z.shape\n",
    "\n",
    "fig, ax = plt.subplots(constrained_layout=True)\n",
    "ax.invert_yaxis()\n",
    "ax.set_xscale('log')\n",
    "ax.set_yscale('log')\n",
    "ax.set_xlim(left=0.3,right=20.)\n",
    "CS = ax.contourf(X, Y, Z, 10, cmap=plt.cm.bone, origin=origin)\n",
    "ax.set_title('Atm. Transmittance')\n",
    "ax.set_xlabel('Wavelength (mu)')\n",
    "ax.set_ylabel('Log(Pressure/Pa)')\n",
    "# Make a colorbar for the ContourSet returned by the contourf call.\n",
    "cbar = fig.colorbar(CS)\n",
    "cbar.ax.set_ylabel('Exp(-tau)')\n",
    "# Add the contour line levels to the colorbar"
   ]
  },
  {
   "cell_type": "markdown",
   "metadata": {},
   "source": [
    "## Emission with continuum and your own thermal profile"
   ]
  },
  {
   "cell_type": "markdown",
   "metadata": {},
   "source": [
    "The `Atm` object can also be initialized with a custom `logplev` and `tlev` profile. The vmr of the molecules can also be specified as a profile. "
   ]
  },
  {
   "cell_type": "markdown",
   "metadata": {},
   "source": [
    ".. warning::\n",
    "    The (log) pressure (in Pa) and temperature must be specified at the interfaces between the layers (the levels, with `Nlev=Nlay+1`).\n",
    "    The surface is the bottom level. But opacities are computed at the layers midpoints. The pressure and temperature of a layer are computed using respectively the geometric and arithmetic means of the values at levels. The vmr must be specified at the layers (so `logplev.size=vmr.size+1`)."
   ]
  },
  {
   "cell_type": "code",
   "execution_count": null,
   "metadata": {},
   "outputs": [],
   "source": [
    "database=xk.Kdatabase(['CO2','H2O'],'R300_0.3-50mu.ktable.SI')\n",
    "\n",
    "T0=320.;Tstrat=180.\n",
    "#create the level presure grid \n",
    "logplev=np.linspace(-1,5,100)\n",
    "#create the layer presure grid which is halfway in log\n",
    "logplay=(logplev[1:]+logplev[:-1])/2.\n",
    "# design your adiabat\n",
    "tlev=T0*(10**logplev/1.e5)**0.28\n",
    "tlev=np.where(tlev<Tstrat,Tstrat,tlev)\n",
    "tlay=(tlev[1:]+tlev[:-1])/2.\n",
    "# create your composition. Here, only water is variable and follows saturation.\n",
    "# the composition must be given in the layers\n",
    "xH2Olay=np.exp(-2257.e3*0.018/8.31* (1./tlay - 1./373.))*1.e5/10**logplay\n",
    "\n",
    "#Loads CIA and sample them on the right spectral grid.\n",
    "cia_data=xk.CIAdatabase(molecules=['N2','H2O'], mks=True)\n",
    "cia_data.sample(database.wns)\n",
    "\n",
    "#Loads the atmosphere and computes some intermediate things\n",
    "# without CIA\n",
    "atm_ck=xk.Atm(logplev=logplev,tlev=tlev,grav=9.81,\n",
    "                    composition={'CO2':4.e-4,'H2O':xH2Olay,'N2':'background'},\n",
    "                    k_database=database)\n",
    "# with CIA\n",
    "atm_ck_cont=xk.Atm(logplev=logplev,tlev=tlev,grav=9.81,\n",
    "                    composition={'CO2':4.e-4,'H2O':xH2Olay,'N2':'background'},\n",
    "                    k_database=database, cia_database=cia_data)\n",
    "\n",
    "# Computes emission flux for the two cases\n",
    "FluxTop=atm_ck.emission_spectrum(integral=True,wl_range=[0.1,40.0], mu_quad_order=3)\n",
    "FluxTop_cont=atm_ck_cont.emission_spectrum(integral=True,wl_range=[0.1,40.0], mu_quad_order=3)\n",
    "\n",
    "# Computes surface BlackBody\n",
    "SurfFlux=atm_ck.surf_bb(integral=True)\n",
    "\n",
    "# Computes top of atmosphere BlackBody\n",
    "TopBB=atm_ck.top_bb(integral=True)\n",
    "print(FluxTop.total,'W/m^2 (BB at tsurf over the computed nu range is ',SurfFlux.total,'W/m^2)')\n",
    "print('(sigma*T**4 is ',xk.SIG_SB*T0**4,'W/m^2)')"
   ]
  },
  {
   "cell_type": "code",
   "execution_count": null,
   "metadata": {},
   "outputs": [],
   "source": [
    "fig,axs=plt.subplots(1,2,sharey=False, figsize=(8,4))  \n",
    "SurfFlux.plot_spectrum(axs[0],label=r'Blackbody ($T_{surf}$)')\n",
    "TopBB.plot_spectrum(axs[0],label=r'Blackbody ($T_{strat}$)')\n",
    "FluxTop.plot_spectrum(axs[0],label=r'OLR w/o CIA')\n",
    "FluxTop_cont.plot_spectrum(axs[0],label=r'OLR w/ CIA')\n",
    "SurfFlux.plot_spectrum(axs[1],per_wavenumber=False,label=r'Blackbody ($T_{surf}$)')\n",
    "TopBB.plot_spectrum(axs[1],per_wavenumber=False,label=r'Blackbody ($T_{strat}$)')\n",
    "FluxTop.plot_spectrum(axs[1],per_wavenumber=False,label=r'OLR w/o CIA')\n",
    "FluxTop_cont.plot_spectrum(axs[1],per_wavenumber=False,label=r'OLR w/ CIA')\n",
    "\n",
    "axs[0].set_ylabel(r'Flux ($W/m^2/cm^{-1}$)')\n",
    "axs[1].set_ylabel(r'Flux ($W/m^2/\\mu m$)')\n",
    "for ax in axs:\n",
    "    ax.legend()\n",
    "#axs[0].invert_yaxis()\n",
    "fig.tight_layout()"
   ]
  },
  {
   "cell_type": "markdown",
   "metadata": {},
   "source": [
    "## Transmission"
   ]
  },
  {
   "cell_type": "code",
   "execution_count": null,
   "metadata": {
    "scrolled": true
   },
   "outputs": [],
   "source": [
    "T0=2000.;xH2O=1.e-5;Rs=1.*u.Rsun;grav=10.\n",
    "database=xk.Kdatabase(['H2O'],'50mu','SI',remove_zeros=True)\n",
    "cia_data=xk.CIAdatabase(molecules=['H2','He'], mks=True)\n",
    "cia_data.sample(database.wns)\n",
    "\n",
    "atm_ck=xk.Atm(psurf=10.e5,ptop=1.e-4,Tsurf=T0,Tstrat=T0,grav=grav,\n",
    "                    composition={'H2':'background','H2O':xH2O},Nlev=100,Rp=1.*u.Rjup,\n",
    "                    k_database=database, cia_database=cia_data)\n",
    "spec=atm_ck.transmission_spectrum(Rstar=Rs, rayleigh=True)\n",
    "print(\"Forward model duration:\")\n",
    "%timeit -n 2 -r 5 atm_ck.transmission_spectrum(Rstar=Rs, rayleigh=True)"
   ]
  },
  {
   "cell_type": "code",
   "execution_count": null,
   "metadata": {},
   "outputs": [],
   "source": [
    "fig,ax=plt.subplots(1,1,sharex=True,sharey=True)  \n",
    "spec.plot_spectrum(ax,xscale='log',label='Native corr-k resolution')\n",
    "spec.bin_down_cp(xk.wavenumber_grid_R(400.,30000.,200)).plot_spectrum(ax,xscale='log',label=r'$R=200$')\n",
    "spec.bin_down_cp(xk.wavenumber_grid_R(400.,30000.,30)).plot_spectrum(ax,xscale='log',label=r'$R=30$')\n",
    "ax.set_ylabel('Depth')\n",
    "ax.legend()\n",
    "fig.tight_layout()"
   ]
  },
  {
   "cell_type": "markdown",
   "metadata": {},
   "source": [
    "## Heating rates"
   ]
  },
  {
   "cell_type": "code",
   "execution_count": null,
   "metadata": {},
   "outputs": [],
   "source": [
    "T0=300.\n",
    "Tstrat=300.\n",
    "database=xk.Kdatabase(['CO2','H2O'],'_R300_0.3-50mu.ktable.SI')\n",
    "cia_data=xk.CIAdatabase(molecules=['H2','He'], mks=True)\n",
    "cia_data.sample(database.wns,remove_zeros=True)\n",
    "\n",
    "atm_ck=xk.Atm(psurf=1.e10,ptop=1.e-1,Tsurf=T0,Tstrat=Tstrat,grav=10.,\n",
    "                    composition={'H2':'background','CO2':0.},\n",
    "                    rcp=0.2183,Rp=1.*u.Rearth,\n",
    "                    Nlev=30,\n",
    "                    k_database=database,cia_database=cia_data)\n",
    "HR=atm_ck.heating_rate(szangle=60.)\n",
    "atm_ck.set_gas({'H2':'background','CO2':.05,'H2O':0.5})\n",
    "HR2=atm_ck.heating_rate(szangle=60.)\n",
    "HR3=atm_ck.heating_rate(szangle=89.99)"
   ]
  },
  {
   "cell_type": "code",
   "execution_count": null,
   "metadata": {},
   "outputs": [],
   "source": [
    "fig,axs=plt.subplots(1,2,sharey=True)  \n",
    "axs[0].set_yscale('log')\n",
    "axs[0].set_xscale('log')\n",
    "axs[0].plot(HR,atm_ck.play)\n",
    "axs[0].plot(HR2,atm_ck.play)\n",
    "axs[0].plot(HR3,atm_ck.play)\n",
    "axs[1].plot(atm_ck.tlev,atm_ck.plev)\n",
    "axs[0].set_xlabel('Heating Rate (K/s)')\n",
    "axs[1].set_xlabel('Temperature (K)')\n",
    "axs[0].set_ylabel('Pressure (Pa)')\n",
    "axs[0].invert_yaxis()\n",
    "axs[0].set_xlim(left=1.e-20,right=1.)\n",
    "fig.tight_layout()"
   ]
  },
  {
   "cell_type": "code",
   "execution_count": null,
   "metadata": {},
   "outputs": [],
   "source": []
  }
 ],
 "metadata": {
  "celltoolbar": "Initialization Cell",
  "kernelspec": {
   "display_name": "Python 3",
   "language": "python",
   "name": "python3"
  },
  "language_info": {
   "codemirror_mode": {
    "name": "ipython",
    "version": 3
   },
   "file_extension": ".py",
   "mimetype": "text/x-python",
   "name": "python",
   "nbconvert_exporter": "python",
   "pygments_lexer": "ipython3",
   "version": "3.7.1"
  },
  "toc": {
   "base_numbering": 1,
   "nav_menu": {},
   "number_sections": true,
   "sideBar": true,
   "skip_h1_title": false,
   "title_cell": "Table of Contents",
   "title_sidebar": "Contents",
   "toc_cell": false,
   "toc_position": {
    "height": "calc(100% - 180px)",
    "left": "10px",
    "top": "150px",
    "width": "256px"
   },
   "toc_section_display": true,
   "toc_window_display": false
  }
 },
 "nbformat": 4,
 "nbformat_minor": 2
}
