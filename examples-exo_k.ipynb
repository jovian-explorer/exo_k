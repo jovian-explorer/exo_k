{
 "cells": [
  {
   "cell_type": "markdown",
   "metadata": {},
   "source": [
    "# <span style=\"color:blue\">Some worked out use-cases for `exo_k`</span>\n",
    "\n",
    "*Author: Jeremy Leconte (CNRS/LAB/Univ. Bordeaux)*"
   ]
  },
  {
   "cell_type": "markdown",
   "metadata": {},
   "source": [
    "Whereas the tutorial goes through all the concepts present in the library in a very progressive manner, here we propose some more complex examples that combine many of these concepts. The idea is to show some 'real life' examples of the use of the library that can be adapted by the users to their own needs. \n",
    "\n",
    "Some of these examples use publicly available data: do not forget to acknowledge them if you use them in your work (see the `where to find data` section).  "
   ]
  },
  {
   "cell_type": "markdown",
   "metadata": {},
   "source": [
    "## General initialization"
   ]
  },
  {
   "cell_type": "code",
   "execution_count": 4,
   "metadata": {
    "init_cell": true
   },
   "outputs": [],
   "source": [
    "import numpy as np\n",
    "import matplotlib.pyplot as plt\n",
    "import astropy.units as u\n",
    "import time,sys,os"
   ]
  },
  {
   "cell_type": "code",
   "execution_count": 5,
   "metadata": {
    "init_cell": true
   },
   "outputs": [],
   "source": [
    "# Uncomment the line below if you want to enable interactive plots\n",
    "#%matplotlib notebook\n",
    "plt.rcParams[\"figure.figsize\"] = (7,4)\n",
    "from matplotlib import cycler\n",
    "font = {'color': 'dimgray', 'weight': 'bold', 'size': 10}\n",
    "colors = cycler('color',[plt.cm.inferno(i) for i in np.linspace(0.1,1,5)])\n",
    "plt.rc('axes', axisbelow=True, grid=True, labelcolor='dimgray', labelweight='bold', prop_cycle=colors)\n",
    "plt.rc('grid', linestyle='solid')\n",
    "plt.rc('xtick', direction='in', color='dimgray')\n",
    "plt.rc('ytick', direction='in', color='dimgray')\n",
    "plt.rc('lines', linewidth=1.5)"
   ]
  },
  {
   "cell_type": "markdown",
   "metadata": {},
   "source": [
    "## Setting up global options for the library"
   ]
  },
  {
   "cell_type": "code",
   "execution_count": 6,
   "metadata": {
    "init_cell": true
   },
   "outputs": [],
   "source": [
    "import exo_k as xk\n",
    "\n",
    "datapath='data/'\n",
    "#change to your own path\n",
    "\n",
    "xk.Settings().set_search_path(datapath+'corrk', path_type='ktable')\n",
    "xk.Settings().set_search_path(datapath+'xsec', path_type='xtable')\n",
    "xk.Settings().set_search_path(datapath+'cia', path_type='cia')\n",
    "\n",
    "xk.Settings().set_mks(True)\n",
    "# to automatically convert to mks units"
   ]
  },
  {
   "cell_type": "markdown",
   "metadata": {},
   "source": [
    "# Loading ExoMol files and changing their resolution before saving them in different formats"
   ]
  },
  {
   "cell_type": "markdown",
   "metadata": {},
   "source": [
    "For this, you will need to download the relevant x-sec of ktable files from the ExoMol website (http://exomol.com/data/data-types/opacity/) into the `datapath/xsec` or `datapath/corrk`. "
   ]
  },
  {
   "cell_type": "code",
   "execution_count": null,
   "metadata": {},
   "outputs": [],
   "source": [
    "#let's decide on the spectral grid we want:\n",
    "wn0=200.\n",
    "wn1=10000.\n",
    "Resolution=20.\n",
    "new_wn_grid=xk.wavenumber_grid_R(wn0, wn1, Resolution)\n",
    "# Here it is a grid a constant resolution, but any numpy array will do. \n",
    "\n",
    "# a more focused logP-T grid\n",
    "logp_array=np.arange(8) \n",
    "t_array=np.arange(100,600,100) \n",
    "\n",
    "dir_out='data/corrk/'\n",
    "\n",
    "molecules = ['1H2-16O','12C-16O2','12C-1H4']\n",
    "for mol in molecules:\n",
    "    tmp_ktab=xk.Ktable(mol,'R1000_0.3-50mu.ktable.petitRADTRANS.h5', remove_zeros=True)\n",
    "    \n",
    "    # if for some reasons you need to limit the P-T grid (optional)\n",
    "    tmp_ktab.remap_logPT(logp_array=logp_array, t_array=t_array)    \n",
    "    \n",
    "    # the spectral binning phase\n",
    "    tmp_ktab.bin_down(new_wn_grid)\n",
    "    print(tmp_ktab)\n",
    "    # choose any of the lines below for different formats\n",
    "    tmp_ktab.write_hdf5(dir_out+mol+'R20.ktable') # hdf5 file with current units\n",
    "    #tmp_ktab.write_hdf5(dir_out+mol+'R20.ktable', exomol_units=True) # hdf5 file with Exomol units\n",
    "    #tmp_ktab.write_nemesis(dir_out+mol+'R20.ktable') # binary nemesis format\n",
    "    #tmp_ktab.write_arcis(dir_out+mol+'R20.ktable') # fits ARCIS format"
   ]
  },
  {
   "cell_type": "markdown",
   "metadata": {},
   "source": [
    "# Creating k-coefficients for a new species not in ExoMol from high-resolution spectra from the petitRADTRANS database"
   ]
  },
  {
   "cell_type": "markdown",
   "metadata": {},
   "source": [
    "Start by downloading some high resolution cross sections from petitRADTRANS:\n",
    "https://www.dropbox.com/sh/w7sa20v8qp19b4d/AABKF0GsjghsYLJMUJXDgrHma?dl=0"
   ]
  },
  {
   "cell_type": "markdown",
   "metadata": {},
   "source": [
    "Here I am using data for Na. For the example to work with as few data as possible,\n",
    "I only consider a grid with 2 P and T points. So you will only need the following files in the Na directory:\n",
    "\n",
    " * 'sigma_94_1215.K_0.001000bar.dat'\n",
    " * 'sigma_94_1641.K_0.001000bar.dat'\n",
    " * 'sigma_94_1215.K_1.000000bar.dat'\n",
    " * 'sigma_94_1641.K_1.000000bar.dat'\n",
    " * wlen.dat\n",
    " \n",
    "Feel free to extend to the full grid once you have downloaded the whole dataset. "
   ]
  },
  {
   "cell_type": "code",
   "execution_count": null,
   "metadata": {},
   "outputs": [],
   "source": [
    "path_to_hires_spectra='/Users/jleconte/atmosphere/RadiativeTransfer/exo_k/data/hires/PetitRADTRANS/Na'\n",
    "\n",
    "press_grid_str=['0.001000','1.000000']  # notice the use of strings\n",
    "logp_grid=[np.log10(float(p)) for p in press_grid_str]\n",
    "t_grid=[1215, 1641]\n",
    "\n",
    "file_grid=xk.create_fname_grid('sigma_94_{temp}.K_{press}bar.dat', logpgrid=press_grid_str, tgrid=t_grid,\n",
    "        p_kw='press', t_kw='temp')\n",
    "print(file_grid)\n",
    "\n",
    "Hires_spectra=xk.hires_to_xtable(path=path_to_hires_spectra, filename_grid=file_grid, logpgrid=logp_grid, tgrid=t_grid,\n",
    "                mol='Na', grid_p_unit='bar', binary=True, mass_amu=23.)\n",
    "\n",
    "Hires_spectra"
   ]
  },
  {
   "cell_type": "code",
   "execution_count": null,
   "metadata": {},
   "outputs": [],
   "source": [
    "fig,ax=plt.subplots(1,1,sharey=False, figsize=(8,4))  \n",
    "Hires_spectra.plot_spectrum(ax, p=1.e3, t=1300., xscale='log', yscale='log', label='p=1 mbar')\n",
    "Hires_spectra.plot_spectrum(ax, p=1.e5, t=1300., label='p=1 bar')\n",
    "ax.legend(loc='upper right')"
   ]
  },
  {
   "cell_type": "code",
   "execution_count": null,
   "metadata": {},
   "outputs": [],
   "source": [
    "# Let's load a conventional ExoMOL k-table to use the same wavenumber and \n",
    "#    g-grid\n",
    "tmp_ktab=xk.Ktable('1H2-16O','R1000_0.3-50mu.ktable.petitRADTRANS.h5', remove_zeros=True)\n",
    "\n",
    "wnedges=tmp_ktab.wnedges\n",
    "weights=tmp_ktab.weights\n",
    "ggrid=tmp_ktab.ggrid\n",
    "## Or we can create a custom g-grid with 8 gauss legendre points between 0 and 0.95\n",
    "##   and 8 points between 0.95 and 1 (as usual with petitRADTRANS data)\n",
    "#weights, ggrid, gedges = xk.split_gauss_legendre(order=16, g_split=0.95)\n",
    "\n",
    "ktab=xk.Ktable(xtable=Hires_spectra, wnedges=wnedges, weights=weights, ggrid=ggrid, remove_zeros=True)\n",
    "\n",
    "## choose any of the lines below for different formats\n",
    "#full_path_to_write='data/corrk/Na_R1000.ktable'\n",
    "#tmp_ktab.write_hdf5(full_path_to_write) # hdf5 file with current units\n",
    "#tmp_ktab.write_hdf5(full_path_to_write, exomol_units=True) # hdf5 file with Exomol units\n",
    "#tmp_ktab.write_nemesis(full_path_to_write) # binary nemesis format\n",
    "#tmp_ktab.write_arcis(full_path_to_write) # fits ARCIS format"
   ]
  },
  {
   "cell_type": "code",
   "execution_count": null,
   "metadata": {},
   "outputs": [],
   "source": [
    "fig,ax=plt.subplots(1,1,sharey=False, figsize=(8,4))  \n",
    "Hires_spectra.plot_spectrum(ax, p=1.e3, t=1300., xscale='log', yscale='log', label='p=1 mbar')\n",
    "Hires_spectra.plot_spectrum(ax, p=1.e5, t=1300., label='p=1 bar')\n",
    "ktab.plot_spectrum(ax, p=1.e5, t=1300., g=1, label='ktab, g=1, R=1000, p=1 bar')\n",
    "ax.legend(loc='upper right')"
   ]
  },
  {
   "cell_type": "markdown",
   "metadata": {},
   "source": [
    "# <span style=\"color:blue\">Modelling transit spectra: sampled cross sections vs. k-coefficients (Leconte, A&A, 2020)</span>"
   ]
  },
  {
   "cell_type": "markdown",
   "metadata": {},
   "source": [
    "Here we will reproduce some of the results shown in Leconte (A&A, 2020) that demonstrate that the correlated-k method can be much more accurate than the sampled cross-section technique in many cases of interest. Although we use a different set of initial data (because these are publicly available and easily accessible), the results are mostly unaffected. "
   ]
  },
  {
   "cell_type": "markdown",
   "metadata": {},
   "source": [
    "Start by downloading some high resolution cross sections for water from petitRADTRANS:\n",
    "https://www.dropbox.com/sh/w7sa20v8qp19b4d/AABKF0GsjghsYLJMUJXDgrHma?dl=0"
   ]
  },
  {
   "cell_type": "code",
   "execution_count": null,
   "metadata": {},
   "outputs": [],
   "source": [
    "path_to_hires_spectra='data/hires/PetitRADTRANS/H2O/'\n",
    "\n",
    "press_grid_str=['0.000001','0.000010','0.000100','0.001000','0.010000','0.100000','1.000000','10.000000','100.000000']\n",
    "logp_grid=[np.log10(float(p)) for p in press_grid_str]\n",
    "t_grid=[900, 1215]\n",
    "\n",
    "file_grid=xk.create_fname_grid('sigma_01_{temp}.K_{press}bar.dat', logpgrid=press_grid_str, tgrid=t_grid,\n",
    "        p_kw='press', t_kw='temp')\n",
    "print(file_grid)\n",
    "\n",
    "h2o_hires=xk.hires_to_xtable(path=path_to_hires_spectra, filename_grid=file_grid, logpgrid=logp_grid, tgrid=t_grid,\n",
    "                mol='H2O', grid_p_unit='bar', binary=True, mass_amu=18.)\n",
    "\n",
    "h2o_hires"
   ]
  },
  {
   "cell_type": "markdown",
   "metadata": {},
   "source": [
    "Notice the pressure grid has been automatically converted to Pa"
   ]
  },
  {
   "cell_type": "code",
   "execution_count": null,
   "metadata": {},
   "outputs": [],
   "source": [
    "fig,ax=plt.subplots(1,1,sharey=False, figsize=(8,4))  \n",
    "h2o_hires.plot_spectrum(ax, p=1., t=1000., yscale='log', label='p=1 Pa')\n",
    "h2o_hires.plot_spectrum(ax, p=1.e5, t=1000., yscale='log', label='p=1 bar')\n",
    "ax.legend(loc='lower right')"
   ]
  },
  {
   "cell_type": "markdown",
   "metadata": {},
   "source": [
    "We clip the data to focus on a smaller wavenumber range (roughly, the WFC3 region)."
   ]
  },
  {
   "cell_type": "code",
   "execution_count": null,
   "metadata": {},
   "outputs": [],
   "source": [
    "wn0=5000.;wn1=10000.;\n",
    "h2o_hires.clip_spectral_range(wn_range=[wn0-2.,wn1+2.])"
   ]
  },
  {
   "cell_type": "code",
   "execution_count": null,
   "metadata": {},
   "outputs": [],
   "source": [
    "Ri=15000.\n",
    "wn_interm_grid=xk.wavenumber_grid_R(wn0, wn1, Ri)\n",
    "sampled=h2o_hires.sample_cp(wn_interm_grid)\n",
    "\n",
    "fig,axs=plt.subplots(1,2,sharey=False, figsize=(9,4))  \n",
    "h2o_hires.plot_spectrum(axs[0], p=1., t=1000., yscale='log', label='HR')\n",
    "sampled.plot_spectrum(axs[0], p=1., t=1000., yscale='log', label='R='+str(Ri))\n",
    "h2o_hires.plot_spectrum(axs[1], p=1., t=1000., yscale='log', label='HR')\n",
    "sampled.plot_spectrum(axs[1], p=1., t=1000., yscale='log', label='R='+str(Ri))\n",
    "axs[0].legend(loc='upper left')\n",
    "axs[1].set_xlim(1.4,1.402)\n",
    "fig.tight_layout()"
   ]
  },
  {
   "cell_type": "markdown",
   "metadata": {},
   "source": [
    "I can directly write this to an hdf5 file that is compatible with TauREX and petitRADTRANS (see above)"
   ]
  },
  {
   "cell_type": "markdown",
   "metadata": {},
   "source": [
    "Now let's compute a reference, high-resolution transmission spectrum:"
   ]
  },
  {
   "cell_type": "code",
   "execution_count": null,
   "metadata": {},
   "outputs": [],
   "source": [
    "start=time.time()\n",
    "\n",
    "database=xk.Kdatabase(None)\n",
    "database.add_ktables(h2o_hires)\n",
    "\n",
    "T0=1000.; xH2O=1.e-3; Rp=1*u.Rjup; Rs=1.*u.Rsun; grav=10.; nlay=100;\n",
    "\n",
    "atm=xk.Atm(psurf=10.e5, ptop=1.e-4, Tsurf=T0, grav=grav,\n",
    "                    composition={'H2':'background','H2O':xH2O}, Nlay=nlay, Rp=Rp,\n",
    "                    k_database=database)\n",
    "spec_ref=atm.transmission_spectrum(Rstar=Rs)\n",
    "\n",
    "print('computation time=',time.time()-start,'s')\n"
   ]
  },
  {
   "cell_type": "code",
   "execution_count": null,
   "metadata": {},
   "outputs": [],
   "source": [
    "fig,ax=plt.subplots(1,1,sharex=True,figsize=(7,3))  \n",
    "spec_ref.plot_spectrum(ax)\n",
    "ax.set_ylabel('Transit depth', fontdict=font)\n",
    "fig.tight_layout()"
   ]
  },
  {
   "cell_type": "markdown",
   "metadata": {},
   "source": [
    "In the following, we sample our cross sections on a grid of intermediate resolution (`Rinter`) to compute the spectrum and then bin down to the desired final resolution"
   ]
  },
  {
   "cell_type": "code",
   "execution_count": null,
   "metadata": {},
   "outputs": [],
   "source": [
    "timeit=False\n",
    "#grid of final (instrumental data) resolution\n",
    "Rfin=[10,20,50,100.,200.,500.,1000.]\n",
    "#grid of intermediate resolution (at which computation will be performed)\n",
    "Rinter=[1000.,3000.,10000.,30000.]\n",
    "\n",
    "start=time.time()\n",
    "res=[]\n",
    "for Ri in Rinter:\n",
    "    wn_interm_grid=xk.wavenumber_grid_R(wn0, wn1, Ri)\n",
    "    database_LR=database.copy()\n",
    "    database_LR.sample(wn_interm_grid)\n",
    "    atm.set_k_database(k_database=database_LR)\n",
    "    spec_LR=atm.transmission_spectrum(Rstar=Rs)\n",
    "    if timeit:\n",
    "        %timeit atm.transmission_spectrum(Rstar=Rs)\n",
    "    for Rf in Rfin:\n",
    "        print('intermediate resolution=',Ri,', final resolution=',Rf)  \n",
    "        wn_final_grid=xk.wavenumber_grid_R(wn0, wn1, Rf)\n",
    "        spectmp=spec_LR.bin_down_cp(wn_final_grid)\n",
    "        spec_comp=spec_ref.bin_down_cp(wn_final_grid)\n",
    "        res.append([Ri,Rf,(spectmp-spec_comp).std(),spectmp,spectmp-spec_comp])\n",
    "\n",
    "print('computation time=',time.time()-start,'s')\n",
    "res2=np.array(res).reshape((len(Rinter),len(Rfin),5))\n"
   ]
  },
  {
   "cell_type": "markdown",
   "metadata": {},
   "source": [
    "Here are the spectra for each intermediate and final resolution. The right column shows the difference with the reference, high-resolution spectrum. "
   ]
  },
  {
   "cell_type": "code",
   "execution_count": null,
   "metadata": {},
   "outputs": [],
   "source": [
    "to_plot=res2[:,[0,2,3,6]]\n",
    "nRfin=to_plot.shape[1]\n",
    "fig,axs=plt.subplots(nRfin,2,sharex=True,figsize=(7,8))\n",
    "color_idx = np.linspace(0.1, 0.9, to_plot.shape[0])\n",
    "offset=11000.\n",
    "for iRfin in range(nRfin):\n",
    "    for i, data in enumerate(to_plot[:,iRfin]):\n",
    "        (data[3]*1.e6-offset).plot_spectrum(axs[iRfin,0],label='$R_{sp}$='+str(int(data[0]/1.e3))+'k',\n",
    "                    color=plt.cm.inferno(color_idx[i]))\n",
    "        (data[4].abs()*1.e6).plot_spectrum(axs[iRfin,1],yscale='log',\n",
    "                    label='$R_{sp}$='+str(int(data[0]/1.e3))+'k',\n",
    "                    color=plt.cm.inferno(color_idx[i]))\n",
    "    wn_final_grid=xk.wavenumber_grid_R(wn0,wn1,to_plot[0,iRfin,1])\n",
    "    spec_comp=spec_ref.bin_down_cp(wn_final_grid)\n",
    "    (spec_comp*1.e6-offset).plot_spectrum(axs[iRfin,0],marker='.', label='Reference')\n",
    "    if iRfin==0:\n",
    "        (spec_ref*1.e6-offset).plot_spectrum(axs[0,0],alpha=0.3)\n",
    "        axs[iRfin,0].legend(fontsize='x-small', loc='upper right')\n",
    "        axs[iRfin,1].legend(fontsize='x-small')\n",
    "    axs[iRfin,0].text(0.01, .9, 'Final resolution: '+str(int(to_plot[0,iRfin,1])), transform=axs[iRfin,0].transAxes)\n",
    "    axs[iRfin,0].set_ylabel('Depth (ppm)', fontdict=font)\n",
    "    axs[iRfin,1].set_ylabel('Difference (ppm)', fontdict=font)\n",
    "    axs[iRfin,0].set_xlabel(None)\n",
    "    axs[iRfin,1].set_xlabel(None)\n",
    "axs[-1,0].set_xlabel('Wavelength ($\\mu m$)', fontdict=font)\n",
    "axs[-1,1].set_xlabel('Wavelength ($\\mu m$)', fontdict=font)\n",
    "fig.tight_layout()"
   ]
  },
  {
   "cell_type": "markdown",
   "metadata": {},
   "source": [
    "Let's summarize these results by looking only at the RMS error as a function of the final resolution for various intermediate resolutions. "
   ]
  },
  {
   "cell_type": "code",
   "execution_count": null,
   "metadata": {},
   "outputs": [],
   "source": [
    "nRint=res2.shape[0]\n",
    "color_idx = np.linspace(0.2, 0.9, nRint)\n",
    "fig,ax=plt.subplots(1,1, sharex=True, figsize= (4.5,3))\n",
    "for iRint in range(nRint):\n",
    "    ax.plot(res2[iRint,:,1], res2[iRint,:,2]*1.e6, label='$R_{sp}$='+str(int(res2[iRint,0,0]/1.e3))+'k',\n",
    "            color=plt.cm.inferno(color_idx[iRint]), linestyle='--')\n",
    "ax.set_xscale('log')\n",
    "ax.set_yscale('log')\n",
    "ax.set_ylabel('RMS Error (ppm)', fontdict=font)\n",
    "ax.set_xlabel('Final Resolution ($R_{fin}$)', fontdict=font)\n",
    "ax.legend(fontsize='x-small', loc=\"upper left\", ncol=2, frameon=False)\n",
    "fig.tight_layout()"
   ]
  },
  {
   "cell_type": "markdown",
   "metadata": {},
   "source": [
    "Finaly, let's compare with the result given by the correlated-k approach, computed directly at the final resolution."
   ]
  },
  {
   "cell_type": "code",
   "execution_count": null,
   "metadata": {},
   "outputs": [],
   "source": [
    "rescorrk=[]\n",
    "order=8\n",
    "for Rf in Rfin:\n",
    "    print('Resolution=', Rf)  \n",
    "    wn_final_grid=xk.wavenumber_grid_R(wn0, wn1, Rf)\n",
    "    database_corrk=xk.Kdatabase(None)\n",
    "    database_corrk.add_ktables(xk.Ktable(xtable=h2o_hires, wnedges=wn_final_grid, order=order))\n",
    "    atm.set_k_database(k_database=database_corrk)\n",
    "    spec_corrk=atm.transmission_spectrum(Rstar=Rs)\n",
    "    if timeit:\n",
    "        %timeit atm.transmission_spectrum(Rstar=Rs)\n",
    "    spectmp=spec_corrk.copy()\n",
    "    spec_comp=spec_ref.bin_down_cp(wn_final_grid)\n",
    "    rescorrk.append([1.,Rf,(spectmp-spec_comp).std(),spectmp,spectmp-spec_comp])\n",
    "\n",
    "rescorrk=np.array(rescorrk).reshape((len(Rfin),5))"
   ]
  },
  {
   "cell_type": "code",
   "execution_count": null,
   "metadata": {},
   "outputs": [],
   "source": [
    "nRint=res2.shape[0]\n",
    "color_idx = np.linspace(0.2, 0.9, nRint)\n",
    "fig,ax=plt.subplots(1,1, sharex=True, figsize= (4.5,3))\n",
    "for iRint in range(nRint):\n",
    "    ax.plot(res2[iRint,:,1], res2[iRint,:,2]*1.e6, label='$R_{sp}$='+str(int(res2[iRint,0,0]/1.e3))+'k',\n",
    "            color=plt.cm.inferno(color_idx[iRint]), linestyle='--')\n",
    "ax.plot(rescorrk[:,1], rescorrk[:,2]*1.e6, marker='.', color='k', label='$k$-coeff')\n",
    "ax.set_xscale('log')\n",
    "ax.set_yscale('log')\n",
    "ax.set_ylabel('RMS Error (ppm)', fontdict=font)\n",
    "ax.set_xlabel('Final Resolution ($R_{fin}$)', fontdict=font)\n",
    "ax.legend(fontsize='x-small', loc=\"upper left\", ncol=2, frameon=False)\n",
    "fig.tight_layout()"
   ]
  },
  {
   "cell_type": "markdown",
   "metadata": {},
   "source": [
    "## Create spectra on a different wavelength region"
   ]
  },
  {
   "cell_type": "code",
   "execution_count": null,
   "metadata": {},
   "outputs": [],
   "source": [
    "path_to_hires_spectra='data/hires/PetitRADTRANS/H2O/'\n",
    "\n",
    "press_grid_str=['0.000001','0.000010','0.000100','0.001000','0.010000','0.100000','1.000000','10.000000','100.000000']\n",
    "logp_grid=[np.log10(float(p)) for p in press_grid_str]\n",
    "t_grid=[900, 1215]\n",
    "\n",
    "wn0=1000.;wn1=20000.;\n",
    "Ri=1000.\n",
    "wn_interm_grid=xk.wavenumber_grid_R(wn0, wn1, Ri)\n",
    "\n",
    "file_grid=xk.create_fname_grid('sigma_01_{temp}.K_{press}bar.dat', logpgrid=press_grid_str, tgrid=t_grid,\n",
    "        p_kw='press', t_kw='temp')\n",
    "print(file_grid)\n",
    "\n",
    "h2o_ktab=xk.hires_to_ktable(path=path_to_hires_spectra, wnedges=wn_interm_grid, filename_grid=file_grid, logpgrid=logp_grid, tgrid=t_grid,\n",
    "                mol='H2O', grid_p_unit='bar', binary=True, mass_amu=18.)\n",
    "\n",
    "h2o_ktab"
   ]
  },
  {
   "cell_type": "code",
   "execution_count": null,
   "metadata": {},
   "outputs": [],
   "source": [
    "fig,ax=plt.subplots(1,1,sharey=False, figsize=(9,4))  \n",
    "h2o_ktab.plot_spectrum(ax, p=1., t=1000., g=1., yscale='log', label='HR')\n",
    "ax.legend(loc='upper left')\n",
    "fig.tight_layout()"
   ]
  },
  {
   "cell_type": "code",
   "execution_count": null,
   "metadata": {},
   "outputs": [],
   "source": [
    "start=time.time()\n",
    "\n",
    "database=xk.Kdatabase(None)\n",
    "database.add_ktables(h2o_ktab)\n",
    "\n",
    "T0=1000.; xH2O=1.e-3; Rp=1*u.Rjup; Rs=1.*u.Rsun; grav=10.; nlay=100;\n",
    "\n",
    "atm=xk.Atm(psurf=10.e5, ptop=1.e-4, Tsurf=T0, grav=grav,\n",
    "                    composition={'H2':'background','H2O':xH2O}, Nlay=nlay, Rp=Rp,\n",
    "                    k_database=database)\n",
    "spec_ref=atm.transmission_spectrum(Rstar=Rs, rayleigh=True)\n",
    "\n",
    "print('computation time=',time.time()-start,'s')\n"
   ]
  },
  {
   "cell_type": "code",
   "execution_count": null,
   "metadata": {},
   "outputs": [],
   "source": [
    "wn0=5000.;wn1=20000.;\n",
    "Rlow=25.\n",
    "wn_lowres=xk.wavenumber_grid_R(wn0, wn1, Rlow)\n",
    "\n",
    "fig,ax=plt.subplots(1,1,sharex=True,figsize=(7,3))  \n",
    "spec_ref.plot_spectrum(ax, color='gray', xscale='log')\n",
    "#spec_ref.bin_down_cp(wnedges=wn_lowres).plot_spectrum(ax, marker='.', color='gray')\n",
    "ax.set_ylabel('Transit depth', fontdict=font)\n",
    "fig.tight_layout()\n",
    "plt.savefig('Spectrum.pdf')  "
   ]
  },
  {
   "cell_type": "code",
   "execution_count": null,
   "metadata": {},
   "outputs": [],
   "source": []
  }
 ],
 "metadata": {
  "celltoolbar": "Format de la Cellule Texte Brut",
  "kernelspec": {
   "display_name": "Python 3",
   "language": "python",
   "name": "python3"
  },
  "language_info": {
   "codemirror_mode": {
    "name": "ipython",
    "version": 3
   },
   "file_extension": ".py",
   "mimetype": "text/x-python",
   "name": "python",
   "nbconvert_exporter": "python",
   "pygments_lexer": "ipython3",
   "version": "3.7.1"
  },
  "toc": {
   "base_numbering": 1,
   "nav_menu": {},
   "number_sections": true,
   "sideBar": true,
   "skip_h1_title": false,
   "title_cell": "Table of Contents",
   "title_sidebar": "Contents",
   "toc_cell": false,
   "toc_position": {
    "height": "calc(100% - 180px)",
    "left": "10px",
    "top": "150px",
    "width": "256px"
   },
   "toc_section_display": true,
   "toc_window_display": false
  }
 },
 "nbformat": 4,
 "nbformat_minor": 2
}
