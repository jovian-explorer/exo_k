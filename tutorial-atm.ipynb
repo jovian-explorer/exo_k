{
 "cells": [
  {
   "cell_type": "markdown",
   "metadata": {},
   "source": [
    "# <span style=\"color:blue\">Modeling atmospheres and their evolution with `exo_k`: a practical guide</span>\n",
    "\n",
    "*Author: Jeremy Leconte (CNRS/LAB/Univ. Bordeaux)*"
   ]
  },
  {
   "cell_type": "markdown",
   "metadata": {},
   "source": [
    "Since `exo_k` allows anyone to easily read radiative data and interpolate into them, it seemed\n",
    "silly not to incorporate a module to test this directly in a real-life situation.\n",
    "This is why we implemented the `Atm` class that will allow you to build atmospheres with any composition,\n",
    "and compute their transmission/emission spectra with any combination of radiative data that the library can handle.\n",
    "It can also compute the radiative heating rates in each atmospheric layer."
   ]
  },
  {
   "cell_type": "markdown",
   "metadata": {},
   "source": [
    "But why stop there? Indeed, heating rates allow you to compute the radiative \n",
    "equilibrium of an atmosphere. One thing leading to another, we ended up\n",
    "with a full fledged atmospheric model able to compute the evolution of an atmosphere\n",
    "in time that accounts for radiation (off course), dry convection, but also moist convection,\n",
    "condensation, turbulent diffusion, etc. \n",
    "This model is encapsulated in the :class:`~exo_k.atm_evolution.atm_evol.Atm_evolution` class that will be presented below. "
   ]
  },
  {
   "cell_type": "raw",
   "metadata": {},
   "source": [
    ".. seealso::\n",
    "    The goal of this section is to give you a practical tour of how to use these classes in\n",
    "    a realistic setting. If you want more information on the inner working of the various\n",
    "    modules, you can go to the \"Principles of atmospheric modeling with `Exo_k`\" page.\n",
    "    For the details on how to load radiative data and some general\n",
    "    features about the library, please go see the tutorial on\n",
    "    \"Getting started with radiative data\"."
   ]
  },
  {
   "cell_type": "markdown",
   "metadata": {},
   "source": [
    "## Initialization"
   ]
  },
  {
   "cell_type": "markdown",
   "metadata": {},
   "source": [
    "First, let's make some common initializations.   \n",
    "We also import our library: `exo_k`.\n",
    "\n",
    "For this to work, you need to have installed the library by either typing\n",
    "```\n",
    "pip install exo_k\n",
    "```\n",
    "anywhere or\n",
    "```\n",
    "pip install -e .\n",
    "```\n",
    "at the root of exo_k directory (the location where you first saw this tutorial)."
   ]
  },
  {
   "cell_type": "raw",
   "metadata": {
    "raw_mimetype": "text/restructuredtext"
   },
   "source": [
    ".. important::\n",
    "    For efficiency reasons, the atmospheric models work with a single unit system, which is the international MKS system.\n",
    "    To avoid load radiative data in another unit system, we encourage you to always use the global setting\n",
    "    `xk.Settings().set_mks(True)` that will automatically do all the conversions for you. "
   ]
  },
  {
   "cell_type": "code",
   "execution_count": 1,
   "metadata": {
    "init_cell": true
   },
   "outputs": [],
   "source": [
    "import exo_k as xk\n",
    "import numpy as np\n",
    "import matplotlib.pyplot as plt\n",
    "import astropy.units as u\n",
    "import time,sys,os\n",
    "\n",
    "xk.Settings().set_mks(True)"
   ]
  },
  {
   "cell_type": "markdown",
   "metadata": {},
   "source": [
    "We also set up the generic path toward the radiative data"
   ]
  },
  {
   "cell_type": "code",
   "execution_count": 2,
   "metadata": {
    "init_cell": true
   },
   "outputs": [
    {
     "data": {
      "text/plain": [
       "{'ktable': ['/Users/jleconte/atmosphere/RadiativeTransfer/exo_k/data/corrk'],\n",
       " 'xtable': ['/Users/jleconte/atmosphere/RadiativeTransfer/exo_k/data/xsec'],\n",
       " 'cia': ['/Users/jleconte/atmosphere/RadiativeTransfer/exo_k/data/cia'],\n",
       " 'aerosol': ['/Users/jleconte/atmosphere/RadiativeTransfer/exo_k']}"
      ]
     },
     "execution_count": 2,
     "metadata": {},
     "output_type": "execute_result"
    }
   ],
   "source": [
    "xk.Settings().set_search_path('data/xsec', path_type='xtable')\n",
    "xk.Settings().set_search_path('data/corrk', path_type='ktable')\n",
    "xk.Settings().set_search_path('data/cia', path_type='cia')\n",
    "xk.Settings().search_path"
   ]
  },
  {
   "cell_type": "code",
   "execution_count": 3,
   "metadata": {
    "init_cell": true
   },
   "outputs": [],
   "source": [
    "# Uncomment the line below if you want to enable interactive plots\n",
    "#%matplotlib notebook\n",
    "plt.rcParams[\"figure.figsize\"] = (7,4)\n",
    "from matplotlib import cycler\n",
    "colors = cycler('color',[plt.cm.inferno(i) for i in np.linspace(0.1,1,5)])\n",
    "plt.rc('axes', axisbelow=True, grid=True, labelcolor='dimgray', labelweight='bold', prop_cycle=colors)\n",
    "plt.rc('grid', linestyle='solid')\n",
    "plt.rc('xtick', direction='in', color='dimgray')\n",
    "plt.rc('ytick', direction='in', color='dimgray')\n",
    "plt.rc('lines', linewidth=1.5)"
   ]
  },
  {
   "cell_type": "markdown",
   "metadata": {},
   "source": [
    "# <span style=\"color:blue\">The `Atm` class: An atmospheric radiative-transfer model</span>"
   ]
  },
  {
   "cell_type": "markdown",
   "metadata": {},
   "source": [
    "Whether you want to test various assumptions (will my resolution be enough, are my initial data adequate, what weights should I use, etc.) or directly simulate the transmission/emission spectrum of a planet, we implemented a simple 1d atmosphere model so that you can do just that.\n",
    "\n",
    "This revolves around the `Atm()` class, which defines an atmosphere with Pressure, Temperature, and composition profiles. In essence, we are using the structure of the `Gas_mix` object and add the additional attributes that make an atmosphere more than just some gas with a given pressure, temperature, and composition: a gravity, a planetary radius, etc. \n",
    "\n",
    "As `Xtable()` objects can be used in a `Kdatabase()`, you can do the equivalent of Line by Line radiative transfer. \n",
    "\n",
    "If you want to start from very high-res spectra, first load them into a `Xtable()`, and then into a Database."
   ]
  },
  {
   "cell_type": "raw",
   "metadata": {
    "raw_mimetype": "text/restructuredtext"
   },
   "source": [
    ".. seealso::\n",
    "    Check out :class:`~exo_k.atm.Atm` and its base class :class:`~exo_k.atm.Atm_profile`\n",
    "    for details on arguments and options."
   ]
  },
  {
   "cell_type": "raw",
   "metadata": {
    "raw_mimetype": "text/restructuredtext"
   },
   "source": [
    ".. important::\n",
    "    Pressure is the primary coordinate used to build the atmospheric profiles\n",
    "    (and not altitude). To keep pressure arrays in increasing order,\n",
    "    the atmosphere is therefore described from the top down.\n",
    "    The first element of each array describing the\n",
    "    atmophere (temperature, composition, etc.)\n",
    "    refers to the uppermost layer of the atmosphere. The surface is described by the\n",
    "    last element of each array.\n",
    "    \n",
    "    Also note that since v1.1.0, there is a new scheme for the computation\n",
    "    of atmospheric emission/transmission\n",
    "    to improve numerical accuracy.\n",
    "    This led to the change of some variable names to instantiate atm objects\n",
    "    (`Nlev`, `logplev`, and `tlev` are now `Nlay`, `logplay` and `tlay`)."
   ]
  },
  {
   "cell_type": "markdown",
   "metadata": {},
   "source": [
    "## Loading the radiative data that we will use in our atmospheric model"
   ]
  },
  {
   "cell_type": "markdown",
   "metadata": {},
   "source": [
    "### Molecular absorptions: The `Kdatabase`"
   ]
  },
  {
   "cell_type": "markdown",
   "metadata": {},
   "source": [
    "The first thing that we need to do is to create a `Kdatabase` that will contain the data\n",
    "for all the molecules that we want to include in our atmosphere\n",
    "and for which we have cross sections\n",
    "(whether they are monochromatic cross sections of correlated-k coefficients). "
   ]
  },
  {
   "cell_type": "raw",
   "metadata": {
    "raw_mimetype": "text/restructuredtext"
   },
   "source": [
    ".. important::\n",
    "    An `Atm` instance will inherit its spectral range and resolution for the \n",
    "    radiative computations from the `Kdatabase` it is given. So it is important to\n",
    "    choose radiative data that cover the wavelength range that you want to model. \n",
    "\n",
    "    As a corrolary, even if you want to model an atmospere \n",
    "    for which you have only continuum absorptions (like Rayleigh\n",
    "    or Collision Induced Absorptions), you still need to provide a `Kdatabase`\n",
    "    that has at least one molecule\n",
    "    in it. If you do not, the model will not be able to know which spectral window to model. \n",
    "    We will show later how to turnoff the molecular absorptions. "
   ]
  },
  {
   "cell_type": "markdown",
   "metadata": {},
   "source": [
    "In the example below we will treat a simple examples with only CO2 and H2O.\n",
    "Other gases, if any, will only contribute through continuum absorptions."
   ]
  },
  {
   "cell_type": "code",
   "execution_count": 4,
   "metadata": {
    "init_cell": true
   },
   "outputs": [
    {
     "data": {
      "text/plain": [
       "The available molecules are: \n",
       "CO2->/Users/jleconte/atmosphere/RadiativeTransfer/exo_k/data/corrk/CO2_R300_0.3-50mu.ktable.SI.h5\n",
       "H2O->/Users/jleconte/atmosphere/RadiativeTransfer/exo_k/data/corrk/H2O_R300_0.3-50mu.ktable.SI.h5\n",
       "All tables share a common spectral grid\n",
       "All tables share a common logP-T grid\n",
       "All tables share a common p unit\n",
       "All tables share a common kdata unit"
      ]
     },
     "execution_count": 4,
     "metadata": {},
     "output_type": "execute_result"
    }
   ],
   "source": [
    "k_db=xk.Kdatabase(['CO2', 'H2O'],'R300_0.3-50mu.ktable.SI')\n",
    "k_db"
   ]
  },
  {
   "cell_type": "raw",
   "metadata": {
    "raw_mimetype": "text/restructuredtext"
   },
   "source": [
    ".. important::\n",
    "    The all the tables in the `Kdatabase` must have the same \n",
    "    Wavenumber, Pressure, Temperature (and gauss-point) grids.\n",
    "    If this is not the case, refer to the general tutorial to see how to correct that. "
   ]
  },
  {
   "cell_type": "markdown",
   "metadata": {},
   "source": [
    "### Collision induced absorptions"
   ]
  },
  {
   "cell_type": "markdown",
   "metadata": {},
   "source": [
    "Now we can load CIA data in a `CIA_database`. If you do not want to include such constributions,\n",
    "do not provide any CIA database when instantiating your `Atm` object or use `cia_database=None`."
   ]
  },
  {
   "cell_type": "code",
   "execution_count": 5,
   "metadata": {
    "init_cell": true
   },
   "outputs": [
    {
     "data": {
      "text/plain": [
       "The available molecule pairs are: \n",
       "N2-N2->/Users/jleconte/atmosphere/RadiativeTransfer/exo_k/data/cia/N2-N2_2011.h5\n",
       "N2-H2->/Users/jleconte/atmosphere/RadiativeTransfer/exo_k/data/cia/N2-H2_2011.h5\n",
       "H2O-N2->/Users/jleconte/atmosphere/RadiativeTransfer/exo_k/data/cia/H2O-N2_continuumTurbet_MT_CKD3.3.h5\n",
       "H2O-H2O->/Users/jleconte/atmosphere/RadiativeTransfer/exo_k/data/cia/H2O-H2O_continuumTurbet_MT_CKD3.3.h5\n",
       "H2O-H2->/Users/jleconte/atmosphere/RadiativeTransfer/exo_k/data/cia/H2O-H2_fromMT.h5\n",
       "H2-H2->/Users/jleconte/atmosphere/RadiativeTransfer/exo_k/data/cia/H2-H2_2011.h5\n",
       "H2-He->/Users/jleconte/atmosphere/RadiativeTransfer/exo_k/data/cia/H2-He_2011.h5\n",
       "All tables do NOT have common spectral grid\n",
       "You will need to run sample before using the database"
      ]
     },
     "execution_count": 5,
     "metadata": {},
     "output_type": "execute_result"
    }
   ],
   "source": [
    "cia_db=xk.CIAdatabase(molecules=['N2','H2O','H2','He'], mks=True)\n",
    "cia_db"
   ]
  },
  {
   "cell_type": "markdown",
   "metadata": {},
   "source": [
    "Just like with the `Kdatabase`, all the CIA tables must use the same spectral axis (and the same as the `Kdatabase`)\n",
    "so we usually need to resample our database on the same grid as follows."
   ]
  },
  {
   "cell_type": "code",
   "execution_count": 6,
   "metadata": {
    "init_cell": true
   },
   "outputs": [
    {
     "data": {
      "text/plain": [
       "The available molecule pairs are: \n",
       "N2-N2->/Users/jleconte/atmosphere/RadiativeTransfer/exo_k/data/cia/N2-N2_2011.h5\n",
       "N2-H2->/Users/jleconte/atmosphere/RadiativeTransfer/exo_k/data/cia/N2-H2_2011.h5\n",
       "H2O-N2->/Users/jleconte/atmosphere/RadiativeTransfer/exo_k/data/cia/H2O-N2_continuumTurbet_MT_CKD3.3.h5\n",
       "H2O-H2O->/Users/jleconte/atmosphere/RadiativeTransfer/exo_k/data/cia/H2O-H2O_continuumTurbet_MT_CKD3.3.h5\n",
       "H2O-H2->/Users/jleconte/atmosphere/RadiativeTransfer/exo_k/data/cia/H2O-H2_fromMT.h5\n",
       "H2-H2->/Users/jleconte/atmosphere/RadiativeTransfer/exo_k/data/cia/H2-H2_2011.h5\n",
       "H2-He->/Users/jleconte/atmosphere/RadiativeTransfer/exo_k/data/cia/H2-He_2011.h5\n",
       "All tables share a common spectral grid"
      ]
     },
     "execution_count": 6,
     "metadata": {},
     "output_type": "execute_result"
    }
   ],
   "source": [
    "cia_db.sample(k_db.wns)\n",
    "cia_db"
   ]
  },
  {
   "cell_type": "markdown",
   "metadata": {},
   "source": [
    "### Rayleigh scattering"
   ]
  },
  {
   "cell_type": "markdown",
   "metadata": {},
   "source": [
    "For the moment, the data for Rayligh scattering are hardcoded inside the library. So there is no need\n",
    "to load them. You'll just have to use the `rayleigh=True` keyword when calling the relevant methods. "
   ]
  },
  {
   "cell_type": "markdown",
   "metadata": {},
   "source": [
    "## Building an atmosphere"
   ]
  },
  {
   "cell_type": "markdown",
   "metadata": {},
   "source": [
    "### Simple troposphere/stratosphere parametrization"
   ]
  },
  {
   "cell_type": "markdown",
   "metadata": {},
   "source": [
    "There are several ways to build an atmosphere. If you just want a simple atmospheric structure\n",
    "with an isothermal stratosphere on top of a dry troposphere with a fixed adiabatic gradient,\n",
    "you can just use the following options"
   ]
  },
  {
   "cell_type": "code",
   "execution_count": null,
   "metadata": {},
   "outputs": [],
   "source": [
    "Nlay = 50 # Number of layers\n",
    "Tsurf = 220. # K => Surface temperature\n",
    "Tstrat = 100.  # K => Temperature of the stratosphere\n",
    "psurf = 640. # Pa => Surface pressure\n",
    "ptop = 1.e-1 # Pa => Pressure at the model top\n",
    "grav = 3.4 # m/s^2 => Surface gravity\n",
    "rcp = 0.28 # dimless => R/cp\n",
    "Rp = None # m => Planetary radius\n",
    "\n",
    "composition = {'CO2':'background', 'H2O':1.e-6}\n",
    "# Volume molar concentrations of the various species\n",
    "# One gas can be set to `background`.\n",
    "# It's volume mixing ratio will be automatically computed to fill the atmosphere.\n",
    "\n",
    "atm_mars = xk.Atm(psurf=psurf, ptop=ptop,\n",
    "             Tsurf=Tsurf, Tstrat=Tstrat,\n",
    "             grav=grav, rcp = rcp, Rp=Rp,\n",
    "             composition = composition, Nlay=Nlay,\n",
    "             k_database = k_db, cia_database = cia_db)"
   ]
  },
  {
   "cell_type": "raw",
   "metadata": {
    "raw_mimetype": "text/restructuredtext"
   },
   "source": [
    ".. important::\n",
    "    If the sum of the Volume molar concentrations is not equal to one,\n",
    "    the rest of the atmosphere is assumed to be transparent and the molar mass\n",
    "    of the gas, if needed, is assumed to be equal to the molar mass of the mix\n",
    "    you specified (for example, if you specify that your atmosphere is 25% CO2\n",
    "    and 25% H2O, only half of the atmophere will be radiatively active, but the\n",
    "    molar mass will still be about 0.031kg/mol)."
   ]
  },
  {
   "cell_type": "raw",
   "metadata": {},
   "source": [
    ".. warning::\n",
    "    The planetary radius is optional. However, if it is not given,\n",
    "    the evolution of gravity with height (in transmission *and*\n",
    "    emission) will not be taken in to account."
   ]
  },
  {
   "cell_type": "code",
   "execution_count": null,
   "metadata": {},
   "outputs": [],
   "source": [
    "fig,axs=plt.subplots(1,2,sharey=False,figsize=(7,4))  \n",
    "atm_mars.plot_profile(axs[0], yscale='log')\n",
    "atm_mars.plot_profile(axs[1], use_altitudes = True)\n",
    "fig.tight_layout()"
   ]
  },
  {
   "cell_type": "markdown",
   "metadata": {},
   "source": [
    "If the stratospheric temperature is set to `None`, the profile will be isothermal at T=Tsurf."
   ]
  },
  {
   "cell_type": "code",
   "execution_count": null,
   "metadata": {},
   "outputs": [],
   "source": [
    "Nlay = 100 # Number of layers\n",
    "Tsurf = 1000. # K => Surface temperature\n",
    "Tstrat = None  # K => Temperature of the stratosphere\n",
    "psurf = 1.e6 # Pa => Surface pressure\n",
    "ptop = 1.e-4 # Pa => Pressure at the model top\n",
    "grav = 10. # m/s^2 => Surface gravity\n",
    "rcp = 0.28 # dimless => R/cp \n",
    "Rp = 1.*u.Rjup # m => Planetary radius\n",
    "\n",
    "composition = {'H2':'background', 'He':0.09, 'H2O':1.e-3}\n",
    "\n",
    "atm_hotjup = xk.Atm(psurf=psurf, ptop=ptop,\n",
    "             Tsurf=Tsurf, Tstrat=Tstrat,\n",
    "             grav=grav, rcp = rcp, Rp=Rp,\n",
    "             composition = composition, Nlay=Nlay,\n",
    "             k_database = k_db, cia_database = cia_db)\n",
    "\n",
    "fig,axs=plt.subplots(1,2,sharey=False,figsize=(7,4))  \n",
    "atm_hotjup.plot_profile(axs[0], yscale='log')\n",
    "atm_hotjup.plot_profile(axs[1], use_altitudes = True)\n",
    "fig.tight_layout()"
   ]
  },
  {
   "cell_type": "markdown",
   "metadata": {},
   "source": [
    "### Using your own profiles"
   ]
  },
  {
   "cell_type": "markdown",
   "metadata": {},
   "source": [
    "If you want, you can completely control the profiles you put in your `Atm`. For this, you just need to provide arrays for `logplay`, `tlay`, and the various concentrations.\n",
    "\n",
    "The atmosphere is defined from the top down so the first value is the top of atmosphere and the last is the surface.\n",
    "\n",
    "Here is an example for an Earth with a moist troposphere near saturation"
   ]
  },
  {
   "cell_type": "code",
   "execution_count": null,
   "metadata": {},
   "outputs": [],
   "source": [
    "Nlay = 100 # Number of layers\n",
    "Tsurf = 300. # K => Surface temperature\n",
    "Tstrat = 200.  # K => Temperature of the stratosphere\n",
    "psurf = 1.e5 # Pa => Surface pressure\n",
    "ptop = 1.e-1 # Pa => Pressure at the model top\n",
    "grav = 9.81 # m/s^2 => Surface gravity\n",
    "rcp = 0.28 # dimless => R/cp #create the layer presure grid\n",
    "Rp = 1.*u.Rearth # m => Planetary radius\n",
    "\n",
    "logplay=np.linspace(np.log10(ptop),np.log10(psurf), Nlay)\n",
    "# design your adiabat\n",
    "tlay=Tsurf*(10**logplay/psurf)**rcp\n",
    "tlay=np.where(tlay<Tstrat,Tstrat,tlay)\n",
    "\n",
    "# create your composition. Here, only water is variable and follows saturation.\n",
    "h2o_thermo_params={'Latent_heat_vaporization': 2.486e6, 'cp_vap': 4.228e3, 'Mvap': 18.e-3,\n",
    "            'T_ref': 273., 'Psat_ref': 612.}\n",
    "h2o=xk.Condensing_species(**h2o_thermo_params)\n",
    "psat_h2o=h2o.Psat(tlay)\n",
    "x_h2o = psat_h2o / (psat_h2o + 10**logplay)\n",
    "\n",
    "#Loads the atmosphere and computes some intermediate things\n",
    "atm_earth=xk.Atm(logplay = logplay, tlay = tlay, grav = grav,\n",
    "                Rp = Rp, rcp = rcp, \n",
    "                composition = {'CO2':4.e-4,'H2O':x_h2o,'N2':'background'},\n",
    "                k_database = k_db, cia_database = cia_db)"
   ]
  },
  {
   "cell_type": "code",
   "execution_count": null,
   "metadata": {},
   "outputs": [],
   "source": [
    "fig,axs=plt.subplots(1,2,sharey=True,figsize=(7,4))  \n",
    "atm_earth.plot_profile(axs[0], yscale='log')\n",
    "axs[1].plot(x_h2o, atm_earth.play)\n",
    "axs[1].set_xscale('log')\n",
    "axs[1].set_xlabel('H2O molar concentration')\n",
    "fig.tight_layout()"
   ]
  },
  {
   "cell_type": "markdown",
   "metadata": {},
   "source": [
    "### Changing attributes of an atmosphere"
   ]
  },
  {
   "cell_type": "markdown",
   "metadata": {},
   "source": [
    "In an atmosphere, many attributes are inter related and cannot be changed separately.\n",
    "Changing the pressures, for example, will change the mass of the atmosphere, the altitudes, etc.\n",
    "\n",
    "So, if you want to change some attributes of the instance you are working with after it has been created, it is recommended to use the methods made for that. Here is a non-exhaustive list:\n",
    "`set_logPT_profile`, `set_T_profile()`, `set_grav()`,\n",
    "`set_gas()`, `set_Mgas()`, `set_rcp()`, `set_Rp()`, `set_Rstar()`,\n",
    "`set_k_database()`, `set_cia_database()`, `set_spectral_range()`,\n",
    "`set_incoming_stellar_flux()`, `set_internal_flux()`.\n",
    "\n",
    "See the API reference for completeness."
   ]
  },
  {
   "cell_type": "markdown",
   "metadata": {},
   "source": [
    "### Optional attributes"
   ]
  },
  {
   "cell_type": "markdown",
   "metadata": {},
   "source": [
    "At the initialisation, a `Mgas` can be specified to force a molar mass whatever the composition. \n",
    "\n",
    "With `wn_range` or `wl_range` one can limit the wavenumber/wavelength range of future computations.\n",
    "\n",
    "`flux_top_dw` (w/m^2) allows you to specify the stellar flux impinging on the top of atmosphere.\n",
    "If you do not specify anything else, the spectral energy distribution will be the one of a\n",
    "blackbody at T=5778K. This temperature can be changed by using the `Tstar` keyword\n",
    "at the same time.\n",
    "Alternatively, one can provide a `Spectrum` object with the keyword `stellar_spectrum`.\n",
    "This spectrum must be in units of power per wavenumber. \n",
    "The actual units are irrelevant as this spectrum will be renormalized with the value of\n",
    "`flux_top_dw` provided. "
   ]
  },
  {
   "cell_type": "markdown",
   "metadata": {},
   "source": [
    "## Transmission spectroscopy"
   ]
  },
  {
   "cell_type": "markdown",
   "metadata": {},
   "source": [
    "To compute the transmission spectrum for your atmosphere, you can use the following method. Among the available options, there is `rayleigh`, `Rstar`, "
   ]
  },
  {
   "cell_type": "code",
   "execution_count": null,
   "metadata": {
    "scrolled": true
   },
   "outputs": [],
   "source": [
    "Rs=1.*u.Rsun # m => Radius of the star to compute the transit depth\n",
    "\n",
    "spec=atm_hotjup.transmission_spectrum(Rstar=Rs, rayleigh=True)\n",
    "\n",
    "print(\"Forward model duration:\")\n",
    "%timeit -n 2 -r 5 atm_hotjup.transmission_spectrum(Rstar=Rs, rayleigh=True)"
   ]
  },
  {
   "cell_type": "raw",
   "metadata": {
    "raw_mimetype": "text/restructuredtext"
   },
   "source": [
    ".. important::\n",
    "    The result of :func:`~exo_k.atm.Atm.transmission_spectrum` is a :class:`~exo_k.util.spectrum.Spectrum` \n",
    "    object onto wich some methods can be used like\n",
    "    plotting, binning, and some algeabric operations."
   ]
  },
  {
   "cell_type": "code",
   "execution_count": null,
   "metadata": {},
   "outputs": [],
   "source": [
    "fig,ax=plt.subplots(1,1,sharex=True,sharey=True)  \n",
    "spec.plot_spectrum(ax, xscale='log', label='Native corr-k resolution')\n",
    "spec.bin_down_cp(xk.wavenumber_grid_R(400.,30000.,200)).plot_spectrum(ax,xscale='log',label=r'$R=200$')\n",
    "spec.bin_down_cp(xk.wavenumber_grid_R(400.,30000.,30)).plot_spectrum(ax,xscale='log',label=r'$R=30$')\n",
    "ax.set_ylabel('Depth')\n",
    "ax.legend()\n",
    "fig.tight_layout()"
   ]
  },
  {
   "cell_type": "markdown",
   "metadata": {},
   "source": [
    "## Emission spectroscopy"
   ]
  },
  {
   "cell_type": "markdown",
   "metadata": {},
   "source": [
    "`Exo_k` enables several modes to compute the emission of a planet:\n",
    "\n",
    "  * `Atm.emission_spectrum(mu0=, **kwargs)`: Simple computation\n",
    "    using Schwarzschild's equation with mu0 as the cosine of the\n",
    "    observer zenith angle. This mode cannot handle scattering. The output\n",
    "    is given as a flux assuming a constant hemispheric intensity, but\n",
    "    it can be used to compute the specific intensity at various angles by changin mu0. \n",
    "  * `Atm.emission_spectrum(mu_quad_order=, **kwargs)`: This mode computes the\n",
    "    specific intensity at `mu_quad_order` angles and integrates it to yield the\n",
    "    flux. Exact in the non-scattering limit. Cannot handle scattering.\n",
    "  * `Atm.emission_spectrum_2stream(**kwargs)`: This mode computes the\n",
    "    upward and downward fluxes using the constant hemispheric mean two-stream\n",
    "    approximation of Toon et al. (1989). This mode can handle scattering and provides\n",
    "    fluxes at all the layer interfaces (levels),\n",
    "    so that radiative heating rates can be computed. In this case, a stellar flux\n",
    "    must be specified.\n",
    "    \n",
    "As expected, in a non-scattering medium and with a zero surface albedo,\n",
    "`Atm.emission_spectrum` and `Atm.emission_spectrum_2stream`\n",
    "provide the same top of atmosphere outgoing flux almost down to machine precision.\n",
    "The second will be longer as it computes downward fluxes as well.\n",
    "    "
   ]
  },
  {
   "cell_type": "markdown",
   "metadata": {},
   "source": [
    "## Emission"
   ]
  },
  {
   "cell_type": "code",
   "execution_count": null,
   "metadata": {},
   "outputs": [],
   "source": [
    "FluxTop=atm_mars.emission_spectrum_2stream(integral=True, wl_range=[0.1,150.0])\n",
    "SurfFlux=atm_mars.surf_bb(integral=True)\n",
    "TopBB=atm_mars.top_bb(integral=True)\n",
    "print(\"Forward model duration:\")\n",
    "%timeit -n 2 -r 2 atm_mars.emission_spectrum(integral=True, wl_range=[0.1,150.0])\n",
    "%timeit -n 2 -r 2 atm_mars.emission_spectrum_2stream(integral=True, wl_range=[0.1,150.0])"
   ]
  },
  {
   "cell_type": "markdown",
   "metadata": {},
   "source": [
    "The `integral=True` keyword specifies that the source function is integrated inside each bin. If `False`, the planck function is just evaluated at the center of the bin. It is faster, and ok for thin bins, but inacurate for large ones.\n",
    "\n",
    "The `wl_range` range keyword allows you to limit the wavelength range onto wich you want the calculation to be done to save time. "
   ]
  },
  {
   "cell_type": "raw",
   "metadata": {
    "raw_mimetype": "text/restructuredtext"
   },
   "source": [
    ".. important::\n",
    "    The result of :func:`~exo_k.atm.Atm.emission_spectrum` is a :class:`~exo_k.util.spectrum.Spectrum` \n",
    "    object onto wich some methods can be used like:\n",
    "    computing the total flux, plotting, binning, and some algeabric operations\n",
    "    (substract of divide spectra)."
   ]
  },
  {
   "cell_type": "code",
   "execution_count": null,
   "metadata": {},
   "outputs": [],
   "source": [
    "print(FluxTop.total,'W/m^2 (BB at tsurf over the computed nu range is ',SurfFlux.total,'W/m^2)')\n",
    "print('(sigma*T**4 is ',xk.SIG_SB*Tsurf**4,'W/m^2)')"
   ]
  },
  {
   "cell_type": "code",
   "execution_count": null,
   "metadata": {},
   "outputs": [],
   "source": [
    "fig,axs=plt.subplots(1,2,sharey=False,figsize=(8,4))  \n",
    "SurfFlux.plot_spectrum(axs[0],label='Blackbody ($T_{surf}$)')\n",
    "TopBB.plot_spectrum(axs[0],label='Blackbody ($T_{strat}$)')\n",
    "FluxTop.plot_spectrum(axs[0],label='OLR')\n",
    "SurfFlux.plot_spectrum(axs[1],per_wavenumber=False,label='Blackbody ($T_{surf}$)')\n",
    "TopBB.plot_spectrum(axs[1],per_wavenumber=False,label='Blackbody ($T_{strat}$)')\n",
    "FluxTop.plot_spectrum(axs[1],per_wavenumber=False,label='OLR')\n",
    "\n",
    "axs[0].set_ylabel(r'Flux ($W/m^2/cm^{-1}$)')\n",
    "axs[1].set_ylabel(r'Flux ($W/m^2/\\mu m$)')\n",
    "for ax in axs:\n",
    "    ax.legend()\n",
    "fig.tight_layout()"
   ]
  },
  {
   "cell_type": "markdown",
   "metadata": {},
   "source": [
    "You can also bin it down, and when spectra have the same wavenumber grid, perform algeabric operations)"
   ]
  },
  {
   "cell_type": "code",
   "execution_count": null,
   "metadata": {},
   "outputs": [],
   "source": [
    "R=100\n",
    "wavenumber_grid=xk.wavenumber_grid_R(200.,10000.,R)\n",
    "binned_spec=FluxTop.bin_down_cp(wavenumber_grid)\n",
    "\n",
    "fig,axs=plt.subplots(1,2,sharey=True)  \n",
    "FluxTop.plot_spectrum(axs[0],label='OLR')\n",
    "binned_spec.plot_spectrum(axs[0],label='binned OLR')\n",
    "(SurfFlux-FluxTop).plot_spectrum(axs[1],label='Surf Blackbody - OLR')\n",
    "\n",
    "for ax in axs:\n",
    "    ax.set_ylabel('Flux ($W/m^2/cm^{-1}$)')\n",
    "    ax.legend()\n",
    "fig.tight_layout()"
   ]
  },
  {
   "cell_type": "code",
   "execution_count": null,
   "metadata": {},
   "outputs": [],
   "source": [
    "origin = 'upper'\n",
    "delta = 0.025\n",
    "\n",
    "x =k_db.wls\n",
    "y =atm_mars.play[1:]\n",
    "X, Y = np.meshgrid(x, y)\n",
    "Z = atm_mars.exp_minus_tau()\n",
    "\n",
    "nr, nc = Z.shape\n",
    "\n",
    "plt.rc('axes',grid=False)\n",
    "fig, ax = plt.subplots(constrained_layout=True)\n",
    "ax.invert_yaxis()\n",
    "ax.set_xscale('log')\n",
    "ax.set_yscale('log')\n",
    "ax.set_xlim(left=0.3,right=20.)\n",
    "CS = ax.contourf(X, Y, Z, 10, cmap=plt.cm.bone, origin=origin)\n",
    "ax.set_title('Atm. Transmittance')\n",
    "ax.set_xlabel('Wavelength (mu)')\n",
    "ax.set_ylabel('Log(Pressure/Pa)')\n",
    "# Make a colorbar for the ContourSet returned by the contourf call.\n",
    "cbar = fig.colorbar(CS)\n",
    "cbar.ax.set_ylabel('Exp(-tau)')\n",
    "plt.rc('axes',grid=True)\n",
    "# Add the contour line levels to the colorbar"
   ]
  },
  {
   "cell_type": "markdown",
   "metadata": {},
   "source": [
    "### Effect of CIAs"
   ]
  },
  {
   "cell_type": "code",
   "execution_count": null,
   "metadata": {},
   "outputs": [],
   "source": [
    "# Computes emission flux for the two cases\n",
    "FluxTop_cont=atm_earth.emission_spectrum(integral=True,wl_range=[0.1,40.0], mu_quad_order=3)\n",
    "\n",
    "atm_earth.set_cia_database(None) # remove the CIA\n",
    "FluxTop=atm_earth.emission_spectrum(integral=True,wl_range=[0.1,40.0], mu_quad_order=3)\n",
    "atm_earth.set_cia_database(cia_db) # reset the CIA\n",
    "\n",
    "\n",
    "# Computes surface BlackBody\n",
    "SurfFlux=atm_earth.surf_bb(integral=True)\n",
    "\n",
    "# Computes top of atmosphere BlackBody\n",
    "TopBB=atm_earth.top_bb(integral=True)\n",
    "print(FluxTop.total,'W/m^2 (BB at tsurf over the computed nu range is ',SurfFlux.total,'W/m^2)')\n",
    "print('(sigma*T**4 is ',xk.SIG_SB*atm_earth.tlay[-1]**4,'W/m^2)')"
   ]
  },
  {
   "cell_type": "code",
   "execution_count": null,
   "metadata": {},
   "outputs": [],
   "source": [
    "fig,axs=plt.subplots(1,2,sharey=False, figsize=(8,4))  \n",
    "SurfFlux.plot_spectrum(axs[0],label=r'Blackbody ($T_{surf}$)')\n",
    "TopBB.plot_spectrum(axs[0],label=r'Blackbody ($T_{strat}$)')\n",
    "FluxTop.plot_spectrum(axs[0],label=r'OLR w/o CIA')\n",
    "FluxTop_cont.plot_spectrum(axs[0],label=r'OLR w/ CIA')\n",
    "SurfFlux.plot_spectrum(axs[1],per_wavenumber=False,label=r'Blackbody ($T_{surf}$)')\n",
    "TopBB.plot_spectrum(axs[1],per_wavenumber=False,label=r'Blackbody ($T_{strat}$)')\n",
    "FluxTop.plot_spectrum(axs[1],per_wavenumber=False,label=r'OLR w/o CIA')\n",
    "FluxTop_cont.plot_spectrum(axs[1],per_wavenumber=False,label=r'OLR w/ CIA')\n",
    "\n",
    "axs[0].set_ylabel(r'Flux ($W/m^2/cm^{-1}$)')\n",
    "axs[1].set_ylabel(r'Flux ($W/m^2/\\mu m$)')\n",
    "for ax in axs:\n",
    "    ax.legend()\n",
    "#axs[0].invert_yaxis()\n",
    "fig.tight_layout()"
   ]
  },
  {
   "cell_type": "markdown",
   "metadata": {},
   "source": [
    "## Heating rates"
   ]
  },
  {
   "cell_type": "code",
   "execution_count": null,
   "metadata": {},
   "outputs": [],
   "source": [
    "T0=300.\n",
    "Tstrat=180.\n",
    "Tstar=5770.\n",
    "database=xk.Kdatabase(['CO2','H2O'],'_R300_0.3-50mu.ktable.SI')\n",
    "cia_data=xk.CIAdatabase(molecules=['H2','He'], mks=True)\n",
    "cia_data.sample(database.wns,remove_zeros=True)\n",
    "\n",
    "atm_ck=xk.Atm(psurf=1.e5,ptop=1.e1,Tsurf=T0,Tstrat=Tstrat,grav=10.,\n",
    "                    composition={'H2':'background', 'H2O':0.01},\n",
    "                    rcp=0.2183,Rp=1.*u.Rearth,\n",
    "                    Nlay=30, Tstar=Tstar, flux_top_dw=None,\n",
    "                    k_database=database,cia_database=cia_data)\n",
    "Heat_Rate, Net_flux = atm_ck.heating_rate(flux_top_dw=260., Tstar=Tstar, source=False)\n",
    "#atm_ck.set_gas({'H2':'background', 'H2O':0.01})\n",
    "Heat_Rate2, Net_flux2 = atm_ck.heating_rate(flux_top_dw=0.)\n",
    "Heat_Rate3, Net_flux3 = atm_ck.heating_rate(flux_top_dw=260., Tstar=Tstar,\n",
    "                                    rayleigh=True, source=False)\n"
   ]
  },
  {
   "cell_type": "code",
   "execution_count": null,
   "metadata": {},
   "outputs": [],
   "source": [
    "fig,axs=plt.subplots(1,3,sharey=True)\n",
    "axs[0].set_yscale('log')\n",
    "axs[0].set_xscale('log')\n",
    "axs[0].plot(np.abs(Heat_Rate),atm_ck.play, label='Solar Heating')\n",
    "axs[0].plot(np.abs(Heat_Rate2),atm_ck.play, label='-IR cooling')\n",
    "axs[0].plot(np.abs(Heat_Rate3),atm_ck.play, label='w rayleigh')\n",
    "axs[1].plot(Net_flux,atm_ck.play, label='Net solar flux')\n",
    "axs[1].plot(Net_flux2,atm_ck.play, label='Atm. emission')\n",
    "axs[1].plot(Net_flux3,atm_ck.play, label='w rayleigh')\n",
    "axs[2].plot(atm_ck.tlay,atm_ck.play)\n",
    "axs[0].set_xlabel('Heating Rate (W/kg)')\n",
    "axs[1].set_xlabel('Flux (W/m^2)')\n",
    "axs[2].set_xlabel('Temperature (K)')\n",
    "axs[0].set_ylabel('Pressure (Pa)')\n",
    "axs[0].invert_yaxis()\n",
    "axs[0].legend()\n",
    "axs[1].legend()\n",
    "#axs[0].set_xlim(left=1.e-8)\n",
    "fig.tight_layout()"
   ]
  },
  {
   "cell_type": "markdown",
   "metadata": {},
   "source": [
    "# Modeling atmospheric evolution with `Atm_evolution`"
   ]
  },
  {
   "cell_type": "raw",
   "metadata": {
    "raw_mimetype": "text/restructuredtext"
   },
   "source": [
    ".. seealso::\n",
    "    Check out :class:`~exo_k.atm_evolution.atm_evol.Atm_evolution`\n",
    "    for details on arguments and options."
   ]
  },
  {
   "cell_type": "code",
   "execution_count": null,
   "metadata": {},
   "outputs": [],
   "source": []
  }
 ],
 "metadata": {
  "celltoolbar": "Initialization Cell",
  "kernelspec": {
   "display_name": "Python 3 (ipykernel)",
   "language": "python",
   "name": "python3"
  },
  "language_info": {
   "codemirror_mode": {
    "name": "ipython",
    "version": 3
   },
   "file_extension": ".py",
   "mimetype": "text/x-python",
   "name": "python",
   "nbconvert_exporter": "python",
   "pygments_lexer": "ipython3",
   "version": "3.7.11"
  },
  "toc": {
   "base_numbering": 1,
   "nav_menu": {},
   "number_sections": true,
   "sideBar": true,
   "skip_h1_title": false,
   "title_cell": "Table of Contents",
   "title_sidebar": "Contents",
   "toc_cell": false,
   "toc_position": {
    "height": "calc(100% - 180px)",
    "left": "10px",
    "top": "150px",
    "width": "256px"
   },
   "toc_section_display": true,
   "toc_window_display": false
  }
 },
 "nbformat": 4,
 "nbformat_minor": 2
}
